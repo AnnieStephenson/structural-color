{
 "cells": [
  {
   "cell_type": "markdown",
   "metadata": {},
   "source": [
    "# Tutorial for polydisperseity in with bulk Monte Carlo simulations in the structureal-color package\n",
    "\n",
    "Copyright 2016, Vinothan N. Manoharan, Victoria Hwang, Annie Stephenson\n",
    "\n",
    "This file is part of the structural-color python package.\n",
    "\n",
    "This package is free software: you can redistribute it and/or modify it under the terms of the GNU General Public License as published by the Free Software Foundation, either version 3 of the License, or (at your option) any later version.\n",
    "\n",
    "This package is distributed in the hope that it will be useful, but WITHOUT ANY WARRANTY; without even the implied warranty of MERCHANTABILITY or FITNESS FOR A PARTICULAR PURPOSE. See the GNU General Public License for more details.\n",
    "\n",
    "You should have received a copy of the GNU General Public License along with this package. If not, see http://www.gnu.org/licenses/."
   ]
  },
  {
   "cell_type": "markdown",
   "metadata": {},
   "source": [
    "## Introduction to polydispersity with bulk Monte Carlo simulations\n",
    "\n",
    "One of the advantages of the bulk montecarlo model is that we can sample phase functions and scattering lengths for spheres of different sizes in a bulk film. This means we can predict the reflectance of bulk films made of mixtures of spheres with different sizes, allowing us to simulate polydispersity using the bulk Monte Carlo model. \n",
    "\n",
    "Below is an example that calculates a reflectance spectrum from a bulk film made of polydisperse spheres, where the internal structure of each sphere is the same. "
   ]
  },
  {
   "cell_type": "markdown",
   "metadata": {},
   "source": [
    "## Loading and using the package and module\n",
    "\n",
    "You'll need the following imports"
   ]
  },
  {
   "cell_type": "code",
   "execution_count": 1,
   "metadata": {
    "collapsed": false
   },
   "outputs": [],
   "source": [
    "%matplotlib inline\n",
    "import numpy as np\n",
    "import time\n",
    "import structcol as sc\n",
    "import structcol.refractive_index as ri\n",
    "from structcol import montecarlo as mc\n",
    "from structcol import detector as det\n",
    "from structcol import phase_func_sphere as pfs\n",
    "import matplotlib.pyplot as plt\n",
    "import seaborn as sns\n",
    "from scipy.misc import factorial\n",
    "import os"
   ]
  },
  {
   "cell_type": "markdown",
   "metadata": {},
   "source": [
    "## Start by running Monte Carlo code for a single sphere\n",
    "This is essentially the same as running MC for a sphere as described in montecarlo_tutorial.ipynb, only we return a few extra parameters from calc_refl_trans() and use them to calculate the phase function, scattering coefficient, and absorption coefficient for the bulk Monte Carlo simulation.\n",
    "\n",
    "#### Set parameters\n",
    "We have to set a few extra parameters for the bulk simulation"
   ]
  },
  {
   "cell_type": "code",
   "execution_count": 2,
   "metadata": {
    "collapsed": false
   },
   "outputs": [],
   "source": [
    "# Properties of the source\n",
    "wavelengths = sc.Quantity(np.arange(400., 801.,10),'nm') # wavelengths at which to calculate reflectance\n",
    "\n",
    "# Geometric properties of the sample\n",
    "num_diams = 3                                     # number of diams from which to sample, \n",
    "                                                  # higher number takes longer but gives a more precise calculation\n",
    "sphere_boundary_diam_mean = sc.Quantity(10,'um')  # mean diameter of the microspheres\n",
    "pdi = 0.2                                         # poldispersity index\n",
    "particle_radius = sc.Quantity(160,'nm')           # radii of the two species of particles\n",
    "volume_fraction_bulk = sc.Quantity(0.63,'')       # volume fraction of the spheres in the bulk film\n",
    "volume_fraction_particles = sc.Quantity(0.55, '') # volume fraction of the particles in the sphere boundary\n",
    "bulk_thickness = sc.Quantity('50 um')             # thickness of the bulk film\n",
    "boundary = 'sphere'                              # geometry of sample\n",
    "boundary_bulk = 'film'                           # geometry of the bulk sample\n",
    "\n",
    "# Refractive indices\n",
    "n_particle = ri.n('vacuum', wavelengths)    # refractive index of particle\n",
    "n_matrix = ri.n('polystyrene', wavelengths) + 2e-5*1j # refractive index of matrix\n",
    "n_matrix_bulk = ri.n('vacuum', wavelengths) # refractive index of the bulk matrix\n",
    "n_medium = ri.n('vacuum', wavelengths)      # refractive index of medium outside the bulk sample.\n",
    "\n",
    "# Monte Carlo parameters\n",
    "ntrajectories = 500          # number of trajectories to run with a spherical boundary\n",
    "nevents = 300                # number of scattering events for each trajectory in a spherical boundary\n",
    "ntrajectories_bulk = 1000    # number of trajectories to run in the bulk film\n",
    "nevents_bulk = 300           # number of events to run in the bulk film\n",
    "\n",
    "# Plot settings\n",
    "sns.set_style('white')        # sets white plotting background"
   ]
  },
  {
   "cell_type": "markdown",
   "metadata": {},
   "source": [
    "#### Sample sphere boundary sizes\n",
    "\n",
    "Calculate a list of sphere boundary diameters based on the polydispersity of the spheres. This list will be used to calculate phase functions and scattering/absorption coefficients for single spheres, to use in the bulk model. In this example, we assume each sphere has the same particle packings inside."
   ]
  },
  {
   "cell_type": "code",
   "execution_count": 3,
   "metadata": {
    "collapsed": false
   },
   "outputs": [
    {
     "data": {
      "image/png": "[encoded data removed]",
      "text/plain": [
       "<Figure size 576x396 with 1 Axes>"
      ]
     },
     "metadata": {},
     "output_type": "display_data"
    }
   ],
   "source": [
    "# calculate diameter list to sample from\n",
    "\n",
    "sphere_boundary_diameters = pfs.calc_diam_list(num_diams, sphere_boundary_diam_mean, pdi, equal_spacing = False)"
   ]
  },
  {
   "cell_type": "markdown",
   "metadata": {},
   "source": [
    "### Run Monte Carlo for each of the sphere boundary sizes\n",
    "\n",
    "Run Monte Carlo simulations for a sphere boundary, for all the sizes of spheres calculated above. This will give two scattering parameters for sphere size and each wavelength. "
   ]
  },
  {
   "cell_type": "code",
   "execution_count": 4,
   "metadata": {
    "collapsed": false
   },
   "outputs": [
    {
     "name": "stdout",
     "output_type": "stream",
     "text": [
      "diameter: 7.470784641068447 micrometer\n"
     ]
    },
    {
     "name": "stderr",
     "output_type": "stream",
     "text": [
      "/Users/vhwang/anaconda/lib/python3.5/site-packages/pint/quantity.py:715: RuntimeWarning: divide by zero encountered in long_scalars\n",
      "  magnitude = magnitude_op(new_self._magnitude, other._magnitude)\n"
     ]
    },
    {
     "name": "stdout",
     "output_type": "stream",
     "text": [
      "diameter: 9.595993322203672 micrometer\n",
      "diameter: 12.101836393989982 micrometer\n"
     ]
    }
   ],
   "source": [
    "reflectance_sphere = np.zeros(wavelengths.size)\n",
    "p_bulk = np.zeros((sphere_boundary_diameters.size, wavelengths.size, 200))\n",
    "mu_scat_bulk = sc.Quantity(np.zeros((sphere_boundary_diameters.size, wavelengths.size)),'1/um')\n",
    "mu_abs_bulk = sc.Quantity(np.zeros((sphere_boundary_diameters.size, wavelengths.size)),'1/um')\n",
    "\n",
    "for j in range(sphere_boundary_diameters.size):\n",
    "    # print radius to keep track of where we are in calculation\n",
    "    print('diameter: ' + str(sphere_boundary_diameters[j]))\n",
    "    for i in range(wavelengths.size):\n",
    "\n",
    "        # caculate the effective index of the sample\n",
    "        n_sample = ri.n_eff(n_particle[i], n_matrix[i], volume_fraction_particles)\n",
    "\n",
    "        # Calculate the phase function and scattering and absorption coefficients from the single scattering model\n",
    "        # (this absorption coefficient is of the scatterer, not of an absorber added to the system)\n",
    "        p, mu_scat, mu_abs = mc.calc_scat(particle_radius, n_particle[i], n_sample,\n",
    "                                          volume_fraction_particles, wavelengths[i])\n",
    "\n",
    "        # Initialize the trajectories\n",
    "        r0, k0, W0 = mc.initialize(nevents, ntrajectories, n_matrix_bulk[i], n_sample, \n",
    "                                          boundary, sample_diameter = sphere_boundary_diameters[j])\n",
    "        r0 = sc.Quantity(r0, 'um')\n",
    "        k0 = sc.Quantity(k0, '')\n",
    "        W0 = sc.Quantity(W0, '')\n",
    "\n",
    "        # Create trajectories object\n",
    "        trajectories = mc.Trajectory(r0, k0, W0)\n",
    "\n",
    "        # Generate a matrix of all the randomly sampled angles first \n",
    "        sintheta, costheta, sinphi, cosphi, _, _ = mc.sample_angles(nevents, ntrajectories, p)\n",
    "\n",
    "        # Create step size distribution\n",
    "        step = mc.sample_step(nevents, ntrajectories, mu_scat)\n",
    "\n",
    "        # Run photons\n",
    "        trajectories.absorb(mu_abs, step)                         \n",
    "        trajectories.scatter(sintheta, costheta, sinphi, cosphi)         \n",
    "        trajectories.move(step)\n",
    "\n",
    "        # Calculate reflection and transmition \n",
    "        (refl_indices, \n",
    "         trans_indices, \n",
    "         _, _, _, \n",
    "         refl_per_traj, trans_per_traj,\n",
    "         _,_,_,_,\n",
    "         reflectance_sphere[i], \n",
    "         _,_, norm_refl, norm_trans) = det.calc_refl_trans(trajectories, sphere_boundary_diameters[j],\n",
    "                                  n_matrix_bulk[i], n_sample, boundary,  \n",
    "                                  run_fresnel_traj = False, \n",
    "                                  return_extra = True)\n",
    "\n",
    "            \n",
    "        ### Calculate phase function and lscat ###\n",
    "        # use output of calc_refl_trans to calculate phase function, mu_scat, and mu_abs for the bulk\n",
    "        p_bulk[j,i,:], mu_scat_bulk[j,i], mu_abs_bulk[j,i] = pfs.calc_scat_bulk(refl_per_traj, trans_per_traj, \n",
    "                                                                         trans_indices, \n",
    "                                                                         norm_refl, norm_trans, \n",
    "                                                                         volume_fraction_bulk, \n",
    "                                                                         sphere_boundary_diameters[j],\n",
    "                                                                         n_matrix_bulk[i],\n",
    "                                                                         wavelengths[i],\n",
    "                                                                         plot=False, phi_dependent=False)\n"
   ]
  },
  {
   "cell_type": "markdown",
   "metadata": {},
   "source": [
    "### Sample distribution of sphere boundary radii\n",
    "\n",
    "Given the pdi of the sphere boundary radius and the mean radii of the sphere boundaries, sample the particle radii for each event and trajectory."
   ]
  },
  {
   "cell_type": "code",
   "execution_count": 5,
   "metadata": {
    "collapsed": false
   },
   "outputs": [
    {
     "name": "stderr",
     "output_type": "stream",
     "text": [
      "/Users/vhwang/anaconda/lib/python3.5/site-packages/scipy/stats/stats.py:1633: FutureWarning: Using a non-tuple sequence for multidimensional indexing is deprecated; use `arr[tuple(seq)]` instead of `arr[seq]`. In the future this will be interpreted as an array index, `arr[np.array(seq)]`, which will result either in an error or a different result.\n",
      "  return np.add.reduce(sorted[indexer] * weights, axis=axis) / sumval\n",
      "/Users/vhwang/anaconda/lib/python3.5/site-packages/matplotlib/axes/_axes.py:6462: UserWarning: The 'normed' kwarg is deprecated, and has been replaced by the 'density' kwarg.\n",
      "  warnings.warn(\"The 'normed' kwarg is deprecated, and has been \"\n"
     ]
    },
    {
     "data": {
      "text/plain": [
       "Text(0.5,0,'diameter (micrometer)')"
      ]
     },
     "execution_count": 5,
     "metadata": {},
     "output_type": "execute_result"
    },
    {
     "data": {
      "image/png": "[encoded data removed]",
      "text/plain": [
       "<Figure size 576x396 with 1 Axes>"
      ]
     },
     "metadata": {},
     "output_type": "display_data"
    }
   ],
   "source": [
    "# sample\n",
    "sphere_diams_sampled = pfs.sample_diams(pdi, sphere_boundary_diameters, \n",
    "                                       sphere_boundary_diam_mean, \n",
    "                                       ntrajectories_bulk,\n",
    "                                       nevents_bulk)\n",
    "\n",
    "# plot\n",
    "sns.distplot(np.ndarray.flatten(sphere_diams_sampled), kde = False)\n",
    "plt.ylabel('number sampled')\n",
    "plt.xlabel('diameter (' + str(sphere_boundary_diameters.units) + ')')"
   ]
  },
  {
   "cell_type": "markdown",
   "metadata": {},
   "source": [
    "### Calculate reflectance of bulk polydisperse film\n",
    "The only difference from a normal bulk reflectance calculation (see bulk_montecarlo_tutorial.ipynb) is that we use the function pfs.sample_angles_step_poly() instead of sample_angles() and sample_step()\n",
    "\n",
    "Note that for mixtures of different sphere types, absorption only works in the bulk matrix, not in the spheres themselves. This is because sampling the different absorption lengths for different sphere types has not yet been implemented. "
   ]
  },
  {
   "cell_type": "code",
   "execution_count": 6,
   "metadata": {
    "collapsed": false
   },
   "outputs": [
    {
     "name": "stdout",
     "output_type": "stream",
     "text": [
      "wavelength: 400.0 nanometer\n",
      "wavelength: 410.0 nanometer\n",
      "wavelength: 420.0 nanometer\n",
      "wavelength: 430.0 nanometer\n",
      "wavelength: 440.0 nanometer\n",
      "wavelength: 450.0 nanometer\n",
      "wavelength: 460.0 nanometer\n",
      "wavelength: 470.0 nanometer\n",
      "wavelength: 480.0 nanometer\n",
      "wavelength: 490.0 nanometer\n",
      "wavelength: 500.0 nanometer\n",
      "wavelength: 510.0 nanometer\n",
      "wavelength: 520.0 nanometer\n",
      "wavelength: 530.0 nanometer\n",
      "wavelength: 540.0 nanometer\n",
      "wavelength: 550.0 nanometer\n",
      "wavelength: 560.0 nanometer\n",
      "wavelength: 570.0 nanometer\n",
      "wavelength: 580.0 nanometer\n",
      "wavelength: 590.0 nanometer\n",
      "wavelength: 600.0 nanometer\n",
      "wavelength: 610.0 nanometer\n",
      "wavelength: 620.0 nanometer\n",
      "wavelength: 630.0 nanometer\n",
      "wavelength: 640.0 nanometer\n",
      "wavelength: 650.0 nanometer\n",
      "wavelength: 660.0 nanometer\n",
      "wavelength: 670.0 nanometer\n",
      "wavelength: 680.0 nanometer\n",
      "wavelength: 690.0 nanometer\n",
      "wavelength: 700.0 nanometer\n",
      "wavelength: 710.0 nanometer\n",
      "wavelength: 720.0 nanometer\n",
      "wavelength: 730.0 nanometer\n",
      "wavelength: 740.0 nanometer\n",
      "wavelength: 750.0 nanometer\n",
      "wavelength: 760.0 nanometer\n",
      "wavelength: 770.0 nanometer\n",
      "wavelength: 780.0 nanometer\n",
      "wavelength: 790.0 nanometer\n",
      "wavelength: 800.0 nanometer\n"
     ]
    }
   ],
   "source": [
    "reflectance_bulk_poly = np.zeros(wavelengths.size)\n",
    "for i in range(wavelengths.size):\n",
    "    \n",
    "    # print the wavelength keep track of where we are in calculation \n",
    "    print('wavelength: ' + str(wavelengths[i]))\n",
    "\n",
    "    # Initialize the trajectories\n",
    "    r0, k0, W0 = mc.initialize(nevents_bulk, ntrajectories_bulk, n_medium[i], n_matrix_bulk[i],\n",
    "                              boundary_bulk)\n",
    "    r0 = sc.Quantity(r0, 'um')\n",
    "    W0 = sc.Quantity(W0, '')\n",
    "    k0 = sc.Quantity(k0, '')\n",
    "    \n",
    "    # Sample angles and calculate step size based on sampled radii\n",
    "    sintheta, costheta, sinphi, cosphi, step, _, _ = pfs.sample_angles_step_poly(nevents_bulk, ntrajectories_bulk,\n",
    "                                                            p_bulk[:,i,:], \n",
    "                                                            sphere_diams_sampled,  \n",
    "                                                            mu_scat_bulk[:,i], \n",
    "                                                            param_list = sphere_boundary_diameters)\n",
    "\n",
    "\n",
    "    # Create trajectories object\n",
    "    trajectories = mc.Trajectory(r0, k0, W0)\n",
    "\n",
    "    # Run photons\n",
    "    trajectories.absorb(mu_abs_bulk[0,i], step) # Note: polydisperse absorption does not currently work in the bulk \n",
    "                                                # so we arbitrarily use index 0, assuming that all scattering events\n",
    "                                                # have the same amount of absorption\n",
    "    trajectories.scatter(sintheta, costheta, sinphi, cosphi)         \n",
    "    trajectories.move(step)\n",
    "\n",
    "    # calculate reflectance\n",
    "    reflectance_bulk_poly[i], transmittance = det.calc_refl_trans(trajectories, bulk_thickness, \n",
    "                                                               n_medium[i], n_matrix_bulk[i], boundary_bulk)"
   ]
  },
  {
   "cell_type": "markdown",
   "metadata": {},
   "source": [
    "### Plot results"
   ]
  },
  {
   "cell_type": "code",
   "execution_count": 7,
   "metadata": {
    "collapsed": false
   },
   "outputs": [
    {
     "data": {
      "text/plain": [
       "Text(0.5,1,'Bulk Reflectance')"
      ]
     },
     "execution_count": 7,
     "metadata": {},
     "output_type": "execute_result"
    },
    {
     "data": {
      "image/png": "[encoded data removed]",
      "text/plain": [
       "<Figure size 576x396 with 1 Axes>"
      ]
     },
     "metadata": {},
     "output_type": "display_data"
    }
   ],
   "source": [
    "plt.figure()\n",
    "plt.plot(wavelengths, reflectance_bulk_poly, linewidth = 3)\n",
    "plt.ylim([0,1])\n",
    "plt.xlim([400,800])\n",
    "plt.xlabel('Wavelength (nm)')\n",
    "plt.ylabel('Reflectance')\n",
    "plt.title('Bulk Reflectance')"
   ]
  },
  {
   "cell_type": "code",
   "execution_count": null,
   "metadata": {
    "collapsed": false
   },
   "outputs": [],
   "source": []
  }
 ],
 "metadata": {
  "anaconda-cloud": {},
  "kernelspec": {
   "display_name": "Python [Root]",
   "language": "python",
   "name": "Python [Root]"
  },
  "language_info": {
   "codemirror_mode": {
    "name": "ipython",
    "version": 3
   },
   "file_extension": ".py",
   "mimetype": "text/x-python",
   "name": "python",
   "nbconvert_exporter": "python",
   "pygments_lexer": "ipython3",
   "version": "3.5.2"
  }
 },
 "nbformat": 4,
 "nbformat_minor": 0
}
