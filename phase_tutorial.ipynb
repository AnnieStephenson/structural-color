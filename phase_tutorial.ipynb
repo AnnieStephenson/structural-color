{
 "cells": [
  {
   "cell_type": "markdown",
   "metadata": {},
   "source": [
    "# Tutorial for reflectance calculations with phase in the structural-color package\n",
    "\n",
    "Copyright 2021\n",
    "\n",
    "This file is part of the structural-color python package.\n",
    "\n",
    "This package is free software: you can redistribute it and/or modify it under the terms of the GNU General Public License as published by the Free Software Foundation, either version 3 of the License, or (at your option) any later version.\n",
    "\n",
    "This package is distributed in the hope that it will be useful, but WITHOUT ANY WARRANTY; without even the implied warranty of MERCHANTABILITY or FITNESS FOR A PARTICULAR PURPOSE. See the GNU General Public License for more details.\n",
    "\n",
    "You should have received a copy of the GNU General Public License along with this package. If not, see http://www.gnu.org/licenses/."
   ]
  },
  {
   "cell_type": "markdown",
   "metadata": {},
   "source": [
    "## Introduction to how phase is implemented in the package\n",
    "\n",
    "When simulating the scattering of light waves, it's intuitive that we need to consider their phase. Keeping track of phase requires us to more deeply examine what each trajectory represents and how phase should be tracked. In our model, we sometimes refer to the light trajectories as photons, or photon packets. These descriptions, however, are not perfect metaphors for what we are actually modelling. A more intuitive way to think of them is as a packet of light that has both wave and particle qualities. Within one trajectory, we can track polarization, position, direction, and weight. The foundation of our model also means that we consider the interference that takes place within one trajectory. The calculation of the form and struture factor for each trajectory determines how constructive interference affects the path of the trajectory. \n",
    "\n",
    "But the foundation of our model ignores the interactions *between* the trajectories. That is, the interference between the different photons. In order to track potential interference effects between trajectories, we must keep track of the phase value of the trajectory as it scatters and moves through the structurally colored material. \n",
    "\n",
    "At first glance, one might argue that there is no need to consider the interference between trajectories. After all, we are using an incoherent light source. But this isn't quite true. The coherence length of many incoherent light sources is on the scale of tens of microns, and photons can travel shorter distances than that before exiting the sample. In addition, the fact that the structure factor leads to interference peaks offers proof that interference matters even when we have an incoherent light source. But then again, if most of the structure factor interference peak contributions come from single scattering, perhaps the interference only affects light in terms of the structure factor, which is already accounted for. However, there are also other interference effects that can occur in disordered systems such as the one modelled here. Take, for example, coherent backscattering, which is the constructive interference that comes from multiply scattering photons travelling reverse paths to one another. To capture such an effect, we would need to track the phase for each trajectory as it moves."
   ]
  },
  {
   "cell_type": "markdown",
   "metadata": {},
   "source": [
    "Here is how we do it. The basic idea is that we keep track of phase for each trajectory at each event. Phase is propagated by two contributions:\n",
    "\n",
    "1. Distance travelled\n",
    "<br>\n",
    "As a trajectory travels, we propagate its phase forward based on the length of its step size. \n",
    "<br>\n",
    "<br>\n",
    "$E_{scat} = Ee^{ik*\\textrm{step}}$\n",
    "<br>\n",
    "<br>\n",
    "\n",
    "2. Mie scattering\n",
    "<br>\n",
    "When light scatters from a spherical particle, the Mie solutions provide us with the phase shift due to the scattering event. \n",
    "<br>\n",
    "<br>\n",
    "$E_{scat} = \\begin{bmatrix}E_{||} \\\\ E_{\\perp}\\end{bmatrix}$\n",
    "<br>\n",
    "<br>\n",
    "to get the phase shift, we can rewrite the components as:\n",
    "<br>\n",
    "<br>\n",
    "$E_{scat} = \\begin{bmatrix}E_{1}e^{i\\phi_{||}} \\\\ E_{2}e^{i\\phi_{\\perp}}\\end{bmatrix}$\n",
    "<br>\n",
    "<br>\n",
    "where the phase shifts are $\\phi_{||}$ and $\\phi_{\\perp}$\n",
    "<br>\n",
    "<br>"
   ]
  },
  {
   "cell_type": "markdown",
   "metadata": {},
   "source": [
    "We then add the phase contributions from distance and Mie scattering, cumulatively adding phase for each event for the trajectories. After adding these two contributions in the $\\{||,\\perp\\}$ basis, we then rotate the vectors into the local $\\{x,y\\}$ basis for the trajectory, and finally into the global $\\{x, y, z\\}$ basis. We now have the final form of our phase information for each trajectory. "
   ]
  },
  {
   "cell_type": "markdown",
   "metadata": {},
   "source": [
    "The next step is to add the fields for each trajectory at reflection, taking into account their phase. We do this by constructing a field expression for each trajectory, of the form:\n",
    "<br>\n",
    "<br>\n",
    "$ \\mathbf{E_{x}} = P_x e^{i\\phi} \\\\\n",
    " \\mathbf{E_{y}} = P_y e^{i\\phi} \\\\\n",
    " \\mathbf{E_{z}} = P_z e^{i\\phi} $\n",
    "<br>\n",
    "<br>\n",
    "where $P_x$, $P_y$, and $P_z$ are the components of the polarization vector in global coordinates, and $\\phi$ is the phase. "
   ]
  },
  {
   "cell_type": "markdown",
   "metadata": {},
   "source": [
    "At this point, we must consider the role of time. We assume that trajectories that exit around the same time will interfere, so we must know the time each trajectory spends inside the sample. In addition, we want to know the value of the steady-state reflectance, but our model predicts the value of the reflectance response from an impulse signal of the incident light. In other words, our simulation sends in trajectories at t=0, and then sends in no more light. In reality, we turn on a light source that stays on for the duration of our measurement. This matters when we consider phase, because trajectories sent in at t=0 could interfere with trajectories sent in at a later time, depending on how long they spend in the sample. In order to calculate the steady state reflectance, we must convolve the impulse response refled field with a step function incident field, as described in https://en.wikipedia.org/wiki/Linear_time-invariant_system. The first step here is to obtain a function of electric field as a function of time, which means that before anything else, we must calculate the time before each trajectory is reflected.  \n",
    "\n",
    "To calculate the trajectory time, we must take into account two contributions:\n",
    "1. Time incurred due to distance travelled\n",
    "<br>\n",
    "<br>\n",
    "We refer to this as the travel time, and it is calculated from the total path length and velocity of the trajectory. \n",
    "2. Time incurred due to the Mie scattering event\n",
    "<br>\n",
    "<br>\n",
    "This is known as the dwell time, and is calculated from the mie solutions\n",
    "<br>\n",
    "<br>\n",
    "We calculate the total trajectory time as: travel time + dwell time\n",
    "<br>\n",
    "<br>\n",
    "\n",
    "To geld the reflected field as a function of time, we must then create a histogram of trajectories according to their trajectory time. We set the bin with according to the coherence time of the light source. "
   ]
  },
  {
   "cell_type": "markdown",
   "metadata": {},
   "source": [
    "We calculate the total field reflected at a given time bin by adding all the trajectory fields within that time bin, weighting each one according to the trajectory weight at its exit event. So the total field for a given time bin is:\n",
    "<br>\n",
    "<br>\n",
    "$$E_{x, \\textrm{ refl, bin}} = \\sum^{\\textrm{refl traj}}w_{\\textrm{traj}} E_x $$\n",
    "<br>\n",
    "<br>\n",
    "where $w$ is the field weight of the reflected trajectories at that event, calculated by:\n",
    "<br>\n",
    "<br>\n",
    "$ w = \\sqrt{W}$\n",
    "<br>\n",
    "<br>\n",
    "where W is the weight of the trajectory that is reflected, taking into accout the corrections from Fresnel. \n",
    "<br>\n",
    "<br>\n",
    "To get the phase-corrected, steady-state reflectance, we then convolve the reflected electric field vs time with a step function input signal. The resulting steady state value of the convolution is taken to be the steady state reflected electric field. We then normalize this to the incident trajectory weights.\n",
    "<br>\n",
    "<br>\n",
    "$$R_{\\textrm{steady-state}} = \\frac{(|E_{x, \\textrm{ refl, steady-state}}|^2 + |E_{y, \\textrm{ refl, steady-state}}|^2+ |E_{z, \\textrm{ refl, steady-state}}|^2)}{\\sum_{n=1}^{\\textrm{ntraj}} |E_{z, \\textrm{ inc, n}}|^2}$$\n",
    "<br>\n",
    "<br>\n",
    "To calculate the total reflectance, we normalize according to incoherent light, squaring the fields before adding them. This may seem unintuitive--why not add the fields, then square, as we would for coherent light? One reason to normalize according to incoherent light is that in our measurements, we typically normalize to the reflectance from a white standard, which has a relatively rough surface and results in incoherent scattered light."
   ]
  },
  {
   "cell_type": "markdown",
   "metadata": {},
   "source": [
    "**FAQ**\n",
    "<br>\n",
    "Q: Why don't we calculate a phase shift contribution based on the structure factor?\n",
    "<br>\n",
    "A: The structure factor appears in our model in the calculation of both the scattering length and the phase function. This means the structure factor helps determine both the direction of scattering and the distance between scattering events. There is no obvious phase propagation that should come from considering the structure factor. Since the structure factor is by definition the sum of the phase contributions of the scattered waves from all the particles in the system, we see that the structure factor is simply a result of the addition of the scattered fields. It's not a separate scattering event that can be seen as causing a phase shift. The field which is itself scattered in this system can be described from Mie theory, so we need only consider the phase shift due to Mie theory and propagation. "
   ]
  },
  {
   "cell_type": "markdown",
   "metadata": {},
   "source": [
    "\n",
    "### Loading and using the package"
   ]
  },
  {
   "cell_type": "code",
   "execution_count": 1,
   "metadata": {
    "collapsed": false
   },
   "outputs": [],
   "source": [
    "import numpy as np\n",
    "import matplotlib.pyplot as plt\n",
    "import structcol as sc\n",
    "from structcol import refractive_index as ri\n",
    "from structcol import montecarlo as mc\n",
    "from structcol import detector as det\n",
    "import pymie as pm\n",
    "from pymie import size_parameter, index_ratio \n",
    "import seaborn as sns\n",
    "import time\n",
    "\n",
    "# For Jupyter notebooks only:\n",
    "%matplotlib inline"
   ]
  },
  {
   "cell_type": "markdown",
   "metadata": {},
   "source": [
    "### Run Monte Carlo model and calculate reflectance and polarization for trajectories\n",
    "#### for a single wavelength"
   ]
  },
  {
   "cell_type": "markdown",
   "metadata": {},
   "source": [
    "set system parameters"
   ]
  },
  {
   "cell_type": "code",
   "execution_count": 2,
   "metadata": {
    "collapsed": false
   },
   "outputs": [],
   "source": [
    "# incident light wavelength\n",
    "wavelength = sc.Quantity('600 nm')\n",
    "\n",
    "# sample parameters\n",
    "radius = sc.Quantity('0.140 um')\n",
    "volume_fraction = sc.Quantity(0.55, '')\n",
    "n_imag = 2.1e-4\n",
    "n_particle = ri.n('polystyrene', wavelength) + n_imag    # refractive indices can be specified as pint quantities or\n",
    "n_matrix = ri.n('vacuum', wavelength)      # called from the refractive_index module. n_matrix is the \n",
    "n_medium = ri.n('vacuum', wavelength)      # space within sample. n_medium is outside the sample\n",
    "n_sample = ri.n_eff(n_particle,         # refractive index of sample, calculated using Bruggeman approximation\n",
    "                    n_matrix, \n",
    "                    volume_fraction)\n",
    "thickness = sc.Quantity('800 um')\n",
    "boundary = 'film'\n",
    "\n",
    "# Monte Carlo parameters\n",
    "ntrajectories = 50                # number of trajectories\n",
    "nevents = 150                         # number of scattering events in each trajectory"
   ]
  },
  {
   "cell_type": "markdown",
   "metadata": {},
   "source": [
    "initialize and run trajectories"
   ]
  },
  {
   "cell_type": "code",
   "execution_count": 3,
   "metadata": {
    "collapsed": false
   },
   "outputs": [],
   "source": [
    "# Calculate scattering quantities\n",
    "p, mu_scat, mu_abs = mc.calc_scat(radius, n_particle, n_sample, \n",
    "                                  volume_fraction, wavelength, polarization= True)\n",
    "\n",
    "# Initialize trajectories\n",
    "r0, k0, W0, p0, ph0 = mc.initialize(nevents, ntrajectories, n_medium, n_sample, boundary, \n",
    "                               polarization=True, phase=True)\n",
    "r0 = sc.Quantity(r0, 'um')\n",
    "k0 = sc.Quantity(k0, '')\n",
    "W0 = sc.Quantity(W0, '')\n",
    "p0 = sc.Quantity(p0,'')\n",
    "ph0 = sc.Quantity(ph0,'')\n",
    "\n",
    "trajectories = mc.Trajectory(r0, k0, W0, p0, ph0)\n",
    "\n",
    "# Sample trajectory angles\n",
    "sintheta, costheta, sinphi, cosphi, theta, phi= mc.sample_angles(nevents, \n",
    "                                                           ntrajectories,p)\n",
    "# Sample step sizes\n",
    "step = mc.sample_step(nevents, ntrajectories, mu_scat)\n",
    "\n",
    "# Update trajectories based on sampled values\n",
    "trajectories.scatter(sintheta, costheta, sinphi, cosphi)\n",
    "trajectories.polarize(theta, phi, sintheta, costheta, sinphi,cosphi,\n",
    "                      n_particle, n_sample, radius, wavelength, volume_fraction)\n",
    "trajectories.shift_phase(step, theta, phi, sintheta, costheta, sinphi, cosphi,\n",
    "                         n_particle, n_sample, radius, wavelength, volume_fraction)\n",
    "trajectories.move(step)\n",
    "trajectories.absorb(mu_abs, step)  "
   ]
  },
  {
   "cell_type": "markdown",
   "metadata": {},
   "source": [
    "calculate reflectance"
   ]
  },
  {
   "cell_type": "code",
   "execution_count": 4,
   "metadata": {
    "collapsed": false
   },
   "outputs": [
    {
     "name": "stderr",
     "output_type": "stream",
     "text": [
      "/Users/annie/Code/Repositories/structural-color/structcol/detector.py:2609: ComplexWarning: Casting complex values to real discards the imaginary part\n",
      "  bin_range=range(1,int(round(max(traj_time))+bin_width), bin_width)\n",
      "/Users/annie/anaconda/envs/py35/lib/python3.5/site-packages/Pint-0.7.2-py3.5.egg/pint/quantity.py:373: ComplexWarning: Casting complex values to real discards the imaginary part\n"
     ]
    },
    {
     "name": "stdout",
     "output_type": "stream",
     "text": [
      "Reflectance phase: 1.8075119929945612e-05\n",
      "Reflectance: 0.921480312119\n"
     ]
    }
   ],
   "source": [
    "refl_trans_result = det.calc_refl_trans(trajectories, thickness, n_medium, n_sample, boundary, \n",
    "                                                 return_extra=True)\n",
    "\n",
    "reflectance = refl_trans_result[11]\n",
    "refl_indices = refl_trans_result[0]\n",
    "refl_per_traj = refl_trans_result[3]\n",
    "\n",
    "# calculate reflectance including phase\n",
    "traj_time, travel_time, dwell_time = det.calc_traj_time(step, refl_indices, radius, volume_fraction,\n",
    "                   n_particle, n_sample, wavelength)\n",
    "bin_width=sc.Quantity(40,'fs')\n",
    "refl_phase,_ = det.calc_refl_phase_time(traj_time, trajectories, refl_indices, refl_per_traj,\n",
    "                         bin_width=bin_width)\n",
    "\n",
    "print('Reflectance phase: ' + str(refl_phase))\n",
    "print('Reflectance: ' + str(reflectance))"
   ]
  },
  {
   "cell_type": "markdown",
   "metadata": {},
   "source": [
    "### Run Monte Carlo model and calculate reflectance and polarization for trajectories\n",
    "#### for the full visible spectrum"
   ]
  },
  {
   "cell_type": "markdown",
   "metadata": {},
   "source": [
    "set system parameters"
   ]
  },
  {
   "cell_type": "code",
   "execution_count": 5,
   "metadata": {
    "collapsed": false
   },
   "outputs": [],
   "source": [
    "# incident light wavelength\n",
    "wavelengths = sc.Quantity(np.arange(440, 780, 20), 'nm')\n",
    "\n",
    "# sample parameters\n",
    "radius = sc.Quantity('0.140 um')\n",
    "volume_fraction = sc.Quantity(0.55, '')\n",
    "n_imag = 2.1e-5\n",
    "n_particle = ri.n('polystyrene', wavelengths) + n_imag*1j  # refractive indices can be specified as pint quantities or\n",
    "n_matrix = ri.n('vacuum', wavelengths)      # called from the refractive_index module. n_matrix is the \n",
    "n_medium = ri.n('vacuum', wavelengths)      # space within sample. n_medium is outside the sample\n",
    "\n",
    "thickness = sc.Quantity('80 um')\n",
    "z_low = sc.Quantity('0 um')\n",
    "\n",
    "# Monte Carlo parameters\n",
    "ntrajectories = 500                   # number of trajectories\n",
    "nevents = 150                       # number of scattering events in each trajectory"
   ]
  },
  {
   "cell_type": "markdown",
   "metadata": {},
   "source": [
    "initialize trajectories, run trajectories, and calculate reflectance for each wavelength"
   ]
  },
  {
   "cell_type": "code",
   "execution_count": 6,
   "metadata": {
    "collapsed": false,
    "scrolled": true
   },
   "outputs": [
    {
     "name": "stdout",
     "output_type": "stream",
     "text": [
      "wavelength: 440 nanometer\n"
     ]
    },
    {
     "name": "stderr",
     "output_type": "stream",
     "text": [
      "/Users/annie/Code/Repositories/structural-color/structcol/detector.py:2609: ComplexWarning: Casting complex values to real discards the imaginary part\n",
      "  bin_range=range(1,int(round(max(traj_time))+bin_width), bin_width)\n",
      "/Users/annie/anaconda/envs/py35/lib/python3.5/site-packages/Pint-0.7.2-py3.5.egg/pint/quantity.py:373: ComplexWarning: Casting complex values to real discards the imaginary part\n"
     ]
    },
    {
     "name": "stdout",
     "output_type": "stream",
     "text": [
      "wavelength: 460 nanometer\n",
      "wavelength: 480 nanometer\n",
      "wavelength: 500 nanometer\n",
      "wavelength: 520 nanometer\n",
      "wavelength: 540 nanometer\n",
      "wavelength: 560 nanometer\n",
      "wavelength: 580 nanometer\n",
      "wavelength: 600 nanometer\n",
      "wavelength: 620 nanometer\n",
      "wavelength: 640 nanometer\n",
      "wavelength: 660 nanometer\n",
      "wavelength: 680 nanometer\n",
      "wavelength: 700 nanometer\n",
      "wavelength: 720 nanometer\n",
      "wavelength: 740 nanometer\n",
      "wavelength: 760 nanometer\n"
     ]
    }
   ],
   "source": [
    "reflectance = np.zeros(wavelengths.size)\n",
    "refl_tot = np.zeros(wavelengths.size)\n",
    "refl_phase = np.zeros(wavelengths.size)\n",
    "refl_phase_events = np.zeros((wavelengths.size, 2*nevents+1))\n",
    "pol_refl_x = np.zeros(wavelengths.size)\n",
    "pol_refl_y = np.zeros(wavelengths.size)\n",
    "pol_refl_z = np.zeros(wavelengths.size)\n",
    "\n",
    "for i in range(wavelengths.size):\n",
    "    # print wavelength\n",
    "    print('wavelength: ' + str(wavelengths[i]))\n",
    "    \n",
    "    # calculate n_sample\n",
    "    n_sample = ri.n_eff(n_particle[i], n_matrix[i], volume_fraction)\n",
    "    \n",
    "    # Calculate scattering quantities\n",
    "    p, mu_scat, mu_abs = mc.calc_scat(radius, n_particle[i], n_sample, \n",
    "                                      volume_fraction, wavelengths[i], polarization= True)\n",
    "\n",
    "    # Initialize trajectories\n",
    "    r0, k0, W0, p0, ph0 = mc.initialize(nevents, ntrajectories, n_medium[i], n_sample, boundary, \n",
    "                                   polarization=True,\n",
    "                                   phase=True)\n",
    "    r0 = sc.Quantity(r0, 'um')\n",
    "    k0 = sc.Quantity(k0, '')\n",
    "    W0 = sc.Quantity(W0, '')\n",
    "    p0 = sc.Quantity(p0,'')\n",
    "    ph0 = sc.Quantity(ph0,'')\n",
    "\n",
    "    trajectories = mc.Trajectory(r0, k0, W0, p0, ph0)\n",
    "\n",
    "    # Sample trajectory angles\n",
    "    sintheta, costheta, sinphi, cosphi, theta, phi= mc.sample_angles(nevents, \n",
    "                                                               ntrajectories,p)\n",
    "    # Sample step sizes\n",
    "    step = mc.sample_step(nevents, ntrajectories, mu_scat)\n",
    "\n",
    "    # Update trajectories based on sampled values\n",
    "    trajectories.scatter(sintheta, costheta, sinphi, cosphi)\n",
    "    trajectories.polarize(theta, phi, sintheta, costheta, sinphi,cosphi,\n",
    "                          n_particle[i], n_sample, radius, wavelengths[i], volume_fraction)\n",
    "    trajectories.shift_phase(step, theta, phi, sintheta, costheta, sinphi, cosphi,\n",
    "                 n_particle[i], n_sample, radius, wavelengths[i], volume_fraction)\n",
    "    trajectories.move(step)\n",
    "    trajectories.absorb(mu_abs, step)  \n",
    "    \n",
    "    # calculate reflectance and other values of interest\n",
    "    refl_trans_result = det.calc_refl_trans(trajectories,thickness, n_medium[i], n_sample,\n",
    "                                            boundary, return_extra = True)\n",
    "    reflectance[i] = refl_trans_result[11]\n",
    "    refl_indices = refl_trans_result[0]\n",
    "    refl_per_traj = refl_trans_result[3]\n",
    "    \n",
    "    # calculate reflectance including phase\n",
    "    traj_time, _, _ = det.calc_traj_time(step, refl_indices, radius, volume_fraction,\n",
    "                   n_particle[i], n_sample, wavelengths[i])\n",
    "    bin_width=sc.Quantity(40,'fs')\n",
    "    refl_phase[i],_ = det.calc_refl_phase_time(traj_time, trajectories, refl_indices, refl_per_traj,\n",
    "                         bin_width=bin_width)\n",
    "    \n",
    "    # calculate reflectance contribution from each polarization component\n",
    "    pol_refl_x[i], pol_refl_y[i], pol_refl_z[i] = det.calc_pol_frac(trajectories, refl_indices)"
   ]
  },
  {
   "cell_type": "markdown",
   "metadata": {},
   "source": [
    "Plot reflectance including and not including phase calculations"
   ]
  },
  {
   "cell_type": "code",
   "execution_count": 10,
   "metadata": {
    "collapsed": false
   },
   "outputs": [
    {
     "data": {
      "text/plain": [
       "<matplotlib.legend.Legend at 0x11e305f98>"
      ]
     },
     "execution_count": 10,
     "metadata": {},
     "output_type": "execute_result"
    },
    {
     "data": {
      "image/png": "[encoded data removed]",
      "text/plain": [
       "<matplotlib.figure.Figure at 0x122e83a90>"
      ]
     },
     "metadata": {},
     "output_type": "display_data"
    }
   ],
   "source": [
    "# compare incoherent reflectance to coherent reflectance\n",
    "sns.set_style('white')\n",
    "plt.figure()\n",
    "plt.plot(wavelengths, reflectance , label = 'refl incoherent', linewidth = 3.5)\n",
    "plt.plot(wavelengths, refl_phase*40000,'--', label = 'refl phase', linewidth = 3)\n",
    "plt.xlim([400,800])\n",
    "#plt.ylim([0,1])\n",
    "plt.ylabel('Reflectance')\n",
    "plt.xlabel('Wavelength (nm)')\n",
    "plt.legend()"
   ]
  },
  {
   "cell_type": "code",
   "execution_count": null,
   "metadata": {
    "collapsed": true
   },
   "outputs": [],
   "source": []
  }
 ],
 "metadata": {
  "anaconda-cloud": {},
  "kernelspec": {
   "display_name": "Python [py35]",
   "language": "python",
   "name": "Python [py35]"
  },
  "language_info": {
   "codemirror_mode": {
    "name": "ipython",
    "version": 3
   },
   "file_extension": ".py",
   "mimetype": "text/x-python",
   "name": "python",
   "nbconvert_exporter": "python",
   "pygments_lexer": "ipython3",
   "version": "3.5.3"
  }
 },
 "nbformat": 4,
 "nbformat_minor": 0
}
