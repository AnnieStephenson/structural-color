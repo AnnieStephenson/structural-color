{
 "cells": [
  {
   "cell_type": "markdown",
   "metadata": {},
   "source": [
    "# Tutorial for reflectance calculations with polarization in the structural-color package\n",
    "\n",
    "Copyright 2016, Vinothan N. Manoharan, Victoria Hwang, Annie Stephenson\n",
    "\n",
    "This file is part of the structural-color python package.\n",
    "\n",
    "This package is free software: you can redistribute it and/or modify it under the terms of the GNU General Public License as published by the Free Software Foundation, either version 3 of the License, or (at your option) any later version.\n",
    "\n",
    "This package is distributed in the hope that it will be useful, but WITHOUT ANY WARRANTY; without even the implied warranty of MERCHANTABILITY or FITNESS FOR A PARTICULAR PURPOSE. See the GNU General Public License for more details.\n",
    "\n",
    "You should have received a copy of the GNU General Public License along with this package. If not, see http://www.gnu.org/licenses/."
   ]
  },
  {
   "cell_type": "markdown",
   "metadata": {},
   "source": [
    "## Introduction to how polarization is implemented in the package\n",
    "\n",
    "Polarization plays a role in several calculations throughout the structural-color package:\n",
    "\n",
    "1. Cross sections\n",
    "<br>\n",
    "In the single scattering model used in this package, the cross sections are proportional to the structure factor * form factor, where the form factor comes from Mie theory. Mie theory solves Maxwell's equations for spheres, giving the scattered electric fields, which we use to calculate scattered intensity and scattering cross sections. The Mie solutions are polarization-dependent; we use Mie theory to find Jones or Stokes vectors to describe the fields, whose components reveal the polarization state. \n",
    "<br>\n",
    "<br>\n",
    "Most Mie solutions are performed in a basis defined by the scattering plane. So the Jones vector describes the scattered electric field components in terms of the scattered light that has polarization parallel to the scattering plane and the scattered light that is perpendicular to the scattering plane. (Remember, the scattering plane is the plane that contains the incident and scattered k-vectors of the light). Here's the way the Jones vector is written in this basis:\n",
    "<br>\n",
    "<br>\n",
    "$E_{scat} = \\begin{bmatrix}E_{||} \\\\ E_{\\perp}\\end{bmatrix}$\n",
    "<br>\n",
    "<br>\n",
    "This scattering plane basis is not ideal if you want to actually compare to any measured polarizations, because in the lab, we do not measure polarization according to its relation to the scattering plane, we measure it in the lab frame, which is not related to the scattering vectors of the light at all. And more specifically, we like to measure things in cartesian coordinates because it's intuitive. So we rotate the scattering matrix that comes from the Mie calculations, which allows us to get an expression for the Jones vector in a cartesian basis. \n",
    "<br>\n",
    "<br>\n",
    "$E_{scat} = \\begin{bmatrix}E_{x} \\\\ E_{y}\\end{bmatrix}$\n",
    "<br>\n",
    "<br>\n",
    "Now looking at this expression, you'll notice that there is no z component. The absence of z happens because we are assuming that the light is traveling in the +z direction, and under circumstances relevant to the model, polarization cannot be parallel to the direction of propagation. At this point, we can calculate the scattering cross sections in this cartesian coordinate system be doing a bit of math. To read more about this, see the docstrings of functions in mie.py. I worked very hard on them, and there is no point in repeating them here. \n",
    "<br>\n",
    "<br>\n",
    "2. Polarization vector\n",
    "<br>\n",
    "The polarization vector tells us the polarization direction of the the light, or in the case of the Monte Carlo model, the photon packets. It's often expressed as a Stokes or Jones vector, and it can be calculated by normalizing the above $E_{scat}$.  \n",
    "<br>\n",
    "But it's not quite that simple. We have to be careful here. This Jones vector is in a cartesian coordinate system that is no longer dependent on the incident and scattered vectors as the scattering plane basis is. But this cartesian coordinate system is not the one we care about for comparing to measurements. Why? Because these coordinates are are defined in the local coordinate system of the light, or a photon packet, in the language of the Monte Carlo model. No matter the global direction of the light, it always sees itself as traveling in it's own +z direction. If it changes direction, as it will in the Monte Carlo model, it rotates it's coordinate system, so that it always is traveling in it's own +z direction. \n",
    "<br>\n",
    "<br>\n",
    "We experimentalists do not care what direction the photon packet thinks it is traveling in; we care about the direction relative to our own world: the global lab frame. So we do another rotation, one that brings the expression for the field into a global cartesian coordinate system that assumes the normal to a film sample is in the -z direction, meaning normally incident light travels in the +z direction. The +x, and +y directions can be found according to right hand rule. So our new expression for the E-field has 3 components:\n",
    "<br>\n",
    "<br>\n",
    "$ E_{scat} = \\begin{bmatrix}E_{x} \\\\ E_{y}\\\\ E_{z}\\end{bmatrix}$\n",
    "<br>\n",
    "<br>\n",
    "This is the format of the polarization vectors that are attributes of a Trajectory object. \n",
    "<br>\n",
    "<br>\n",
    "3. Phase function\n",
    "<br>\n",
    "The final place the polarization comes in is in the phase function. The phase function is the probability distribution of scattering angles, and it's calculated by just normalizing the differential cross section:\n",
    "<br>\n",
    "<br>\n",
    "$p(\\theta, \\phi) = \\frac{\\frac{d\\sigma(\\theta, \\phi)}{d\\Omega}}{\\sigma}$\n",
    "<br>\n",
    "<br>\n",
    "You'll notice that it's a function of $\\theta$ and $\\phi$. For unpolarized light, we don't have to worry about the $\\phi$ dependence in our samples because both the structure factors and the form factors for unpolarized light are constant as a function of $\\phi$. Polarized light is a different story. For polarized incident light, we do have to calculate the phase function as a function of $\\theta$ and $\\phi$.\n",
    "<br>\n",
    "<br>\n",
    "Having a phase function that depends on two variables means that our phase function is now a 2-dimentional array instead of a 1-dimensional array, and the sampling of the angles is a bit more complicated and time-consuming. This is all under the hood though--you (the user) won't have to fuss with the different possible dimensions of the phase function, but I think it's good to know in case you ever want to plot the phase function.  \n",
    "\n",
    "**FAQ\n",
    "\n",
    "\n",
    "Q: If polarization is always calculated in Mie theory, what do we do with it in the calculations where we assume the light is unpolarized? \n",
    "<br>\n",
    "A: We average the parallel and perpendicular components. This is derived on pg 73 of Bohren and Huffman's $\\textit{Absorption and Scattering of Light by Small Particles}$\n",
    "\n",
    "\n",
    "Q: Is polarization implemented in both the single scattering model and the Monte Carlo model?\n",
    "<br>\n",
    "A: Currently, polarization is only fully implemented in the Monte Carlo model. However, it is certainly possible to add it to the single scattering model in the future"
   ]
  },
  {
   "cell_type": "markdown",
   "metadata": {},
   "source": [
    "\n",
    "### Loading and using the package"
   ]
  },
  {
   "cell_type": "code",
   "execution_count": 22,
   "metadata": {
    "collapsed": true
   },
   "outputs": [],
   "source": [
    "import numpy as np\n",
    "import matplotlib.pyplot as plt\n",
    "import structcol as sc\n",
    "from structcol import refractive_index as ri\n",
    "from structcol import montecarlo as mc\n",
    "import pymie as pm\n",
    "from pymie import size_parameter, index_ratio \n",
    "import seaborn as sns\n",
    "import time\n",
    "\n",
    "# For Jupyter notebooks only:\n",
    "%matplotlib inline"
   ]
  },
  {
   "cell_type": "markdown",
   "metadata": {},
   "source": [
    "### Run Monte Carlo model and calculate reflectance and polarization for trajectories\n",
    "#### for a single wavelength"
   ]
  },
  {
   "cell_type": "markdown",
   "metadata": {},
   "source": [
    "set system parameters"
   ]
  },
  {
   "cell_type": "code",
   "execution_count": 23,
   "metadata": {
    "collapsed": false
   },
   "outputs": [],
   "source": [
    "# incident light wavelength\n",
    "wavelength = sc.Quantity('600 nm')\n",
    "\n",
    "# sample parameters\n",
    "radius = sc.Quantity('0.140 um')\n",
    "volume_fraction = sc.Quantity(0.55, '')\n",
    "n_imag = 2.1e-4\n",
    "n_particle = ri.n('polystyrene', wavelength) + n_imag    # refractive indices can be specified as pint quantities or\n",
    "n_matrix = ri.n('vacuum', wavelength)      # called from the refractive_index module. n_matrix is the \n",
    "n_medium = ri.n('vacuum', wavelength)      # space within sample. n_medium is outside the sample\n",
    "n_sample = ri.n_eff(n_particle,         # refractive index of sample, calculated using Bruggeman approximation\n",
    "                    n_matrix, \n",
    "                    volume_fraction)\n",
    "thickness = sc.Quantity('80 um')\n",
    "z_low = sc.Quantity('0 um')\n",
    "\n",
    "# Monte Carlo parameters\n",
    "ntrajectories = 300                   # number of trajectories\n",
    "nevents = 200                         # number of scattering events in each trajectory"
   ]
  },
  {
   "cell_type": "markdown",
   "metadata": {},
   "source": [
    "initialize and run trajectories"
   ]
  },
  {
   "cell_type": "code",
   "execution_count": 24,
   "metadata": {
    "collapsed": false
   },
   "outputs": [],
   "source": [
    "# Calculate scattering quantities\n",
    "p, mu_scat, mu_abs = mc.calc_scat(radius, n_particle, n_sample, \n",
    "                                  volume_fraction, wavelength, polarization= True)\n",
    "\n",
    "# Initialize trajectories\n",
    "r0, k0, W0, p0 = mc.initialize(nevents, ntrajectories, n_medium, n_sample, polarization=True)\n",
    "r0 = sc.Quantity(r0, 'um')\n",
    "k0 = sc.Quantity(k0, '')\n",
    "W0 = sc.Quantity(W0, '')\n",
    "p0 = sc.Quantity(p0,'')\n",
    "\n",
    "trajectories = mc.Trajectory(r0, k0, W0, p0)\n",
    "\n",
    "# Sample trajectory angles\n",
    "sintheta, costheta, sinphi, cosphi, theta, phi= mc.sample_angles(nevents, \n",
    "                                                           ntrajectories,p)\n",
    "# Sample step sizes\n",
    "step = mc.sample_step(nevents, ntrajectories, mu_abs, mu_scat)\n",
    "\n",
    "# Update trajectories based on sampled values\n",
    "trajectories.scatter(sintheta, costheta, sinphi, cosphi)\n",
    "trajectories.polarize(theta, phi, sintheta, costheta, sinphi,cosphi,\n",
    "                      n_particle, n_sample, radius, wavelength, volume_fraction)\n",
    "trajectories.move(step)\n",
    "trajectories.absorb(mu_abs, step)  "
   ]
  },
  {
   "cell_type": "markdown",
   "metadata": {},
   "source": [
    "calculate reflectance"
   ]
  },
  {
   "cell_type": "code",
   "execution_count": 25,
   "metadata": {
    "collapsed": false
   },
   "outputs": [
    {
     "name": "stdout",
     "output_type": "stream",
     "text": [
      "Reflectance: 0.663788045377\n",
      "Transmittance: 0.336211954623\n"
     ]
    }
   ],
   "source": [
    "reflectance, transmittance = mc.calc_refl_trans(trajectories, z_low, thickness, n_medium, n_sample)\n",
    "\n",
    "print('Reflectance: ' + str(reflectance))\n",
    "print('Transmittance: ' + str(transmittance))"
   ]
  },
  {
   "cell_type": "markdown",
   "metadata": {},
   "source": [
    "### Run Monte Carlo model and calculate reflectance and polarization for trajectories\n",
    "#### for the full visible spectrum"
   ]
  },
  {
   "cell_type": "markdown",
   "metadata": {},
   "source": [
    "set system parameters"
   ]
  },
  {
   "cell_type": "code",
   "execution_count": 26,
   "metadata": {
    "collapsed": false
   },
   "outputs": [],
   "source": [
    "# incident light wavelength\n",
    "wavelengths = sc.Quantity(np.arange(400, 800, 20), 'nm')\n",
    "\n",
    "# sample parameters\n",
    "radius = sc.Quantity('0.140 um')\n",
    "volume_fraction = sc.Quantity(0.55, '')\n",
    "n_imag = 2.1e-4\n",
    "n_particle = ri.n('polystyrene', wavelengths) + n_imag   # refractive indices can be specified as pint quantities or\n",
    "n_matrix = ri.n('vacuum', wavelengths)      # called from the refractive_index module. n_matrix is the \n",
    "n_medium = ri.n('vacuum', wavelengths)      # space within sample. n_medium is outside the sample\n",
    "\n",
    "thickness = sc.Quantity('80 um')\n",
    "z_low = sc.Quantity('0 um')\n",
    "\n",
    "# Monte Carlo parameters\n",
    "ntrajectories = 300                   # number of trajectories\n",
    "nevents = 200                         # number of scattering events in each trajectory"
   ]
  },
  {
   "cell_type": "markdown",
   "metadata": {},
   "source": [
    "initialize trajectories, run trajectories, and calculate reflectance for each wavelength"
   ]
  },
  {
   "cell_type": "code",
   "execution_count": 27,
   "metadata": {
    "collapsed": false
   },
   "outputs": [],
   "source": [
    "reflectance = np.zeros(wavelengths.size)\n",
    "pol_refl_x = np.zeros(wavelengths.size)\n",
    "pol_refl_y = np.zeros(wavelengths.size)\n",
    "pol_refl_z = np.zeros(wavelengths.size)\n",
    "\n",
    "for i in range(wavelengths.size):\n",
    "    \n",
    "    # calculate n_sample\n",
    "    n_sample = ri.n_eff(n_particle[i], n_matrix[i], volume_fraction)\n",
    "    \n",
    "    # Calculate scattering quantities\n",
    "    p, mu_scat, mu_abs = mc.calc_scat(radius, n_particle[i], n_sample, \n",
    "                                      volume_fraction, wavelengths[i], polarization= True)\n",
    "\n",
    "    # Initialize trajectories\n",
    "    r0, k0, W0, p0 = mc.initialize(nevents, ntrajectories, n_medium[i], n_sample, polarization=True)\n",
    "    r0 = sc.Quantity(r0, 'um')\n",
    "    k0 = sc.Quantity(k0, '')\n",
    "    W0 = sc.Quantity(W0, '')\n",
    "    p0 = sc.Quantity(p0,'')\n",
    "\n",
    "    trajectories = mc.Trajectory(r0, k0, W0, p0)\n",
    "\n",
    "    # Sample trajectory angles\n",
    "    sintheta, costheta, sinphi, cosphi, theta, phi= mc.sample_angles(nevents, \n",
    "                                                               ntrajectories,p)\n",
    "    # Sample step sizes\n",
    "    step = mc.sample_step(nevents, ntrajectories, mu_abs, mu_scat)\n",
    "\n",
    "    # Update trajectories based on sampled values\n",
    "    trajectories.scatter(sintheta, costheta, sinphi, cosphi)\n",
    "    trajectories.polarize(theta, phi, sintheta, costheta, sinphi,cosphi,\n",
    "                          n_particle[i], n_sample, radius, wavelengths[i], volume_fraction)\n",
    "    trajectories.move(step)\n",
    "    trajectories.absorb(mu_abs, step)  \n",
    "    \n",
    "    # calculate reflectance and other values of interest\n",
    "    refl_indices, trans_indices, _, _, _, _, _, _, _, reflectance[i] = mc.calc_refl_trans(trajectories, z_low, \n",
    "                                                                          thickness, n_medium[i], n_sample,\n",
    "                                                                          return_extra = True)\n",
    "    \n",
    "    # calculate reflectance contribution from each polarization component\n",
    "    pol_refl_x[i], pol_refl_y[i], pol_refl_z[i] = mc.calc_pol_frac(trajectories, refl_indices)"
   ]
  },
  {
   "cell_type": "markdown",
   "metadata": {},
   "source": [
    "Plot reflectance and polarization spectra"
   ]
  },
  {
   "cell_type": "code",
   "execution_count": 21,
   "metadata": {
    "collapsed": false
   },
   "outputs": [
    {
     "data": {
      "text/plain": [
       "<matplotlib.legend.Legend at 0x7fe35e0c0438>"
      ]
     },
     "execution_count": 21,
     "metadata": {},
     "output_type": "execute_result"
    },
    {
     "data": {
      "image/png": "[encoded data removed]",
      "text/plain": [
       "<matplotlib.figure.Figure at 0x7fe35e065da0>"
      ]
     },
     "metadata": {},
     "output_type": "display_data"
    }
   ],
   "source": [
    "sns.set_style('white')\n",
    "plt.figure()\n",
    "plt.plot(wavelengths, reflectance , label = 'total', linewidth = 3.5)\n",
    "plt.plot(wavelengths, pol_refl_x, label = 'x-polarized', linewidth = 3)\n",
    "plt.plot(wavelengths, pol_refl_y, label = 'y-polarized', linewidth = 3)\n",
    "plt.plot(wavelengths, pol_refl_z, label = 'z-polarized', linewidth = 3)\n",
    "plt.plot(wavelengths, pol_refl_x + pol_refl_y + pol_refl_z, label = 'total polarized', linewidth = 3)\n",
    "plt.xlim([400,800])\n",
    "plt.ylim([0,1])\n",
    "plt.ylabel('Reflectance')\n",
    "plt.xlabel('Wavelength (nm)')\n",
    "plt.legend()"
   ]
  },
  {
   "cell_type": "markdown",
   "metadata": {},
   "source": [
    "This plot shows the contribution to reflectance from light which each of three possible polarization vectors in the global lab coordinate system. The total reflectance nearly overlaps with the sum of the three polarization compontents. The lack of a perfect overlap is due to any extra reflectance which is calculated outside of the trajectories themselves. This includes fresnel reflections at the initial medium-sample interface and the distribution of trajectories that were stuck inside the sample at the end of the Monte Carlo calculation. "
   ]
  },
  {
   "cell_type": "code",
   "execution_count": null,
   "metadata": {
    "collapsed": true
   },
   "outputs": [],
   "source": []
  }
 ],
 "metadata": {
  "anaconda-cloud": {},
  "kernelspec": {
   "display_name": "Python [Root]",
   "language": "python",
   "name": "Python [Root]"
  },
  "language_info": {
   "codemirror_mode": {
    "name": "ipython",
    "version": 3
   },
   "file_extension": ".py",
   "mimetype": "text/x-python",
   "name": "python",
   "nbconvert_exporter": "python",
   "pygments_lexer": "ipython3",
   "version": "3.5.2"
  }
 },
 "nbformat": 4,
 "nbformat_minor": 0
}
