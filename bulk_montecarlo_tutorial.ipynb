{
 "cells": [
  {
   "cell_type": "markdown",
   "metadata": {},
   "source": [
    "# Tutorial for bulk Monte Carlo calculations in the structural-color package"
   ]
  },
  {
   "cell_type": "code",
   "execution_count": 1,
   "metadata": {
    "collapsed": false
   },
   "outputs": [
    {
     "name": "stdout",
     "output_type": "stream",
     "text": [
      "/home/stephenson/Repositories/structural-color\n"
     ]
    }
   ],
   "source": [
    "%matplotlib inline\n",
    "import numpy as np\n",
    "import structcol as sc\n",
    "import structcol.refractive_index as ri\n",
    "from structcol import montecarlo as mc\n",
    "from structcol import phase_func_sphere as pfs\n",
    "import matplotlib.pyplot as plt\n",
    "import seaborn as sns\n",
    "import os\n",
    "print(os.getcwd())"
   ]
  },
  {
   "cell_type": "markdown",
   "metadata": {},
   "source": [
    "### Set parameters"
   ]
  },
  {
   "cell_type": "code",
   "execution_count": 8,
   "metadata": {
    "collapsed": false
   },
   "outputs": [],
   "source": [
    "# Properties of system\n",
    "ntrajectories = 5000         # number of trajectories for one microsphere\n",
    "nevents = 300                 # number of scattering events in each trajectory in a microsphere\n",
    "ntrajectories_bulk = 4000    # number of trajectories to run in the bulk film\n",
    "nevents_bulk = 200            # number of events to run in the bulk film\n",
    "wavelengths = sc.Quantity(np.arange(400., 801.,10),'nm') # wavelengths at which to calculate reflectance\n",
    "microsphere_radius = sc.Quantity(10,'um')  # radius of the microsphere\n",
    "nanosphere_radius = sc.Quantity('0.125 um') # radius of the nanosphere\n",
    "volume_fraction_microspheres = sc.Quantity(0.55,'') # volume fraction of the microspheres packed in a a nanosphere\n",
    "volume_fraction_nanospheres = sc.Quantity(0.55, '') # volume fraction of the nanospheres packed in a microsphere\n",
    "bulk_thickness = sc.Quantity('50 um') # thickness of the bulk film\n",
    "\n",
    "# refractive indices\n",
    "n_nanoparticle = ri.n('vacuum', wavelengths) # refractive index of nanoparticle\n",
    "n_matrix = ri.n('fused silica', wavelengths) # refractive index of matrix\n",
    "n_medium = ri.n('vacuum', wavelengths) # refractive index of medium outside the sample. \n",
    "n_matrix_bulk = n_medium\n",
    "n_medium_bulk = ri.n('vacuum', wavelengths)\n",
    "\n",
    "# Properties that should not need to be changed\n",
    "z_low = sc.Quantity('0.0 um') # sets trajectories starting point\n",
    "sns.set_style('white') # sets white plotting background"
   ]
  },
  {
   "cell_type": "markdown",
   "metadata": {},
   "source": [
    "### Run Monte Carlo for sphere geometry and calculate phase function"
   ]
  },
  {
   "cell_type": "code",
   "execution_count": 3,
   "metadata": {
    "collapsed": false
   },
   "outputs": [
    {
     "name": "stdout",
     "output_type": "stream",
     "text": [
      "wavelength: 400.0 nanometer\n"
     ]
    },
    {
     "name": "stderr",
     "output_type": "stream",
     "text": [
      "/home/stephenson/anaconda3/lib/python3.5/site-packages/Pint-0.7.2-py3.5.egg/pint/quantity.py:912: RuntimeWarning: invalid value encountered in greater\n",
      "/home/stephenson/Repositories/structural-color/structcol/montecarlo.py:360: RuntimeWarning: invalid value encountered in double_scalars\n",
      "  return((x-x0)/(x1-x0)-(y-y0)/(y1-y0), (z-z0)/(z1-z0)-(y-y0)/(y1-y0), x**2 + y**2 + z**2-radius**2 )\n",
      "/home/stephenson/Repositories/structural-color/structcol/montecarlo.py:360: RuntimeWarning: divide by zero encountered in double_scalars\n",
      "  return((x-x0)/(x1-x0)-(y-y0)/(y1-y0), (z-z0)/(z1-z0)-(y-y0)/(y1-y0), x**2 + y**2 + z**2-radius**2 )\n",
      "/home/stephenson/Repositories/structural-color/structcol/montecarlo.py:606: RuntimeWarning: invalid value encountered in true_divide\n",
      "  k1 = k1/mag\n",
      "/home/stephenson/Repositories/structural-color/structcol/montecarlo.py:628: RuntimeWarning: invalid value encountered in true_divide\n",
      "  dot_z = np.nan_to_num(abs(select_z1-select_z0)/mag)\n"
     ]
    },
    {
     "name": "stdout",
     "output_type": "stream",
     "text": [
      "wavelength: 410.0 nanometer\n",
      "wavelength: 420.0 nanometer\n",
      "wavelength: 430.0 nanometer\n",
      "wavelength: 440.0 nanometer\n",
      "wavelength: 450.0 nanometer\n",
      "wavelength: 460.0 nanometer\n",
      "wavelength: 470.0 nanometer\n",
      "wavelength: 480.0 nanometer\n",
      "wavelength: 490.0 nanometer\n",
      "wavelength: 500.0 nanometer\n",
      "wavelength: 510.0 nanometer\n",
      "wavelength: 520.0 nanometer\n",
      "wavelength: 530.0 nanometer\n",
      "wavelength: 540.0 nanometer\n",
      "wavelength: 550.0 nanometer\n",
      "wavelength: 560.0 nanometer\n",
      "wavelength: 570.0 nanometer\n",
      "wavelength: 580.0 nanometer\n",
      "wavelength: 590.0 nanometer\n",
      "wavelength: 600.0 nanometer\n",
      "wavelength: 610.0 nanometer\n",
      "wavelength: 620.0 nanometer\n",
      "wavelength: 630.0 nanometer\n",
      "wavelength: 640.0 nanometer\n",
      "wavelength: 650.0 nanometer\n",
      "wavelength: 660.0 nanometer\n",
      "wavelength: 670.0 nanometer\n",
      "wavelength: 680.0 nanometer\n",
      "wavelength: 690.0 nanometer\n",
      "wavelength: 700.0 nanometer\n",
      "wavelength: 710.0 nanometer\n",
      "wavelength: 720.0 nanometer\n",
      "wavelength: 730.0 nanometer\n",
      "wavelength: 740.0 nanometer\n",
      "wavelength: 750.0 nanometer\n",
      "wavelength: 760.0 nanometer\n",
      "wavelength: 770.0 nanometer\n",
      "wavelength: 780.0 nanometer\n",
      "wavelength: 790.0 nanometer\n",
      "wavelength: 800.0 nanometer\n"
     ]
    }
   ],
   "source": [
    "theta = np.linspace(.01,np.pi,200)\n",
    "nu = (np.cos(theta)+1)/2\n",
    "p_microsphere = np.zeros((wavelengths.size, 200))\n",
    "reflectance_microsphere = np.zeros(wavelengths.size)\n",
    "lscat = sc.Quantity(np.zeros(wavelengths.size),'um')\n",
    "\n",
    "for i in range(wavelengths.size):\n",
    "    # print wavlengths to keep track of where we are in calculation\n",
    "    print('wavelength: ' + str(wavelengths[i]))\n",
    "    \n",
    "    # caculate the effective index of the sample\n",
    "    n_sample = ri.n_eff(n_nanoparticle[i], n_matrix[i], volume_fraction_nanospheres)\n",
    "    \n",
    "    # Calculate the phase function and scattering and absorption coefficients from the single scattering model\n",
    "    # (this absorption coefficient is of the scatterer, not of an absorber added to the system)\n",
    "    p, mu_scat, mu_abs = mc.calc_scat(nanosphere_radius, n_nanoparticle[i], n_sample,\n",
    "                                      volume_fraction_nanospheres, wavelengths[i])\n",
    "\n",
    "    # Initialize the trajectories\n",
    "    r0, k0, W0 = mc.initialize_sphere(nevents, ntrajectories, n_medium[i], n_sample, microsphere_radius)\n",
    "    r0 = sc.Quantity(r0, 'um')\n",
    "    k0 = sc.Quantity(k0, '')\n",
    "    W0 = sc.Quantity(W0, '')\n",
    "\n",
    "    # Create trajectories object\n",
    "    trajectories = mc.Trajectory(r0, k0, W0)\n",
    "\n",
    "    # Generate a matrix of all the randomly sampled angles first \n",
    "    sintheta, costheta, sinphi, cosphi, _, _ = mc.sample_angles(nevents, ntrajectories, p)\n",
    "\n",
    "    # Create step size distribution\n",
    "    step = mc.sample_step(nevents, ntrajectories, mu_abs, mu_scat)\n",
    "\n",
    "    # Run photons\n",
    "    trajectories.absorb(mu_abs, step)                         \n",
    "    trajectories.scatter(sintheta, costheta, sinphi, cosphi)         \n",
    "    trajectories.move(step)\n",
    "\n",
    "    # Calculate reflection and transmition \n",
    "    (refl_indices, trans_indices, \n",
    "    k1_refl, k1_trans, \n",
    "    norm_refl, norm_trans,\n",
    "    refl_per_traj, trans_per_traj,\n",
    "    reflectance_microsphere[i], transmittance_microsphere)\\\n",
    "             = mc.calc_refl_trans_sphere(trajectories, n_medium[i], n_sample, microsphere_radius, \n",
    "                                         p, mu_abs, mu_scat, plot_exits = False, run_tir = False, return_extra = True)\n",
    "    \n",
    "    # calculate the lscat of the microsphere for use in the bulk simulation\n",
    "    lscat[i] = pfs.calc_lscat(refl_per_traj, trans_per_traj, trans_indices, volume_fraction_nanospheres, microsphere_radius)\n",
    "    \n",
    "    # find the points on the sphere where trajectories exit\n",
    "    x_inter, y_inter, z_inter = pfs.get_exit_pos(norm_refl, norm_trans, microsphere_radius)\n",
    "    \n",
    "    # calculate the probability density function as a function of nu, which depends on the scattering angle\n",
    "    pdf = pfs.calc_pdf(x_inter, y_inter, z_inter, microsphere_radius, plot = False, phi_dependent = False)\n",
    "\n",
    "    # calculate the probability density function values for the nu values of interest and store for each wavelength\n",
    "    p_microsphere[i,:] = pdf(nu)"
   ]
  },
  {
   "cell_type": "markdown",
   "metadata": {},
   "source": [
    "#### Plot results"
   ]
  },
  {
   "cell_type": "code",
   "execution_count": 4,
   "metadata": {
    "collapsed": false
   },
   "outputs": [
    {
     "data": {
      "text/plain": [
       "<matplotlib.text.Text at 0x7f7df938fcc0>"
      ]
     },
     "execution_count": 4,
     "metadata": {},
     "output_type": "execute_result"
    },
    {
     "data": {
      "image/png": "[encoded data removed]",
      "text/plain": [
       "<matplotlib.figure.Figure at 0x7f7dfe6d5e48>"
      ]
     },
     "metadata": {},
     "output_type": "display_data"
    },
    {
     "data": {
      "image/png": "[encoded data removed]",
      "text/plain": [
       "<matplotlib.figure.Figure at 0x7f7e3e2a3cc0>"
      ]
     },
     "metadata": {},
     "output_type": "display_data"
    }
   ],
   "source": [
    "plt.figure()\n",
    "plt.plot(wavelengths, reflectance_microsphere, linewidth = 3)\n",
    "plt.ylim([0,1])\n",
    "plt.xlim([400,800])\n",
    "plt.xlabel('Wavelength (nm)')\n",
    "plt.ylabel('Reflectance')\n",
    "plt.title('Single Sphere Reflectance')\n",
    "#plt.savefig('reflectance_1sphere.pdf')\n",
    "\n",
    "plt.figure()\n",
    "plt.plot(wavelengths, p_microsphere[:,100], linewidth = 3)\n",
    "plt.xlim([400,800])\n",
    "plt.xlabel('Wavelength (nm)')\n",
    "plt.ylabel('phase function, backscat')"
   ]
  },
  {
   "cell_type": "markdown",
   "metadata": {},
   "source": [
    "### Calculate reflectance for bulk film of structurally colored microspheres\n",
    "\n",
    "There are two key differences between the bulk Monte Carlo simulation and a typical Monte Carlo simulation\n",
    "\n",
    "1. Trajectory 1st step direction\n",
    "In the bulk film, trajectories do not propagate forward one step before scattering. Instead they enter the sample at an angle sampled from the the structured sphere phase function. We chose not to propagate them forward by 1 step first because the 1 step forward propagation is already accounted for in the monte carlo run inside the structured sphere.  \n",
    "\n",
    "2. Scattering length\n",
    "In the bulk film, the scattering length is not sampled from a distribution, but is instead is assumed to be the interparticle spacing calculated from the diameter and volume fraction of the structured spheres.\n",
    "It is unclear whether this is the ideal scattering length to use, so this may be updated in future versions.\n"
   ]
  },
  {
   "cell_type": "code",
   "execution_count": 10,
   "metadata": {
    "collapsed": false
   },
   "outputs": [
    {
     "name": "stdout",
     "output_type": "stream",
     "text": [
      "wavelength: 400.0 nanometer\n",
      "wavelength: 410.0 nanometer\n",
      "wavelength: 420.0 nanometer\n",
      "wavelength: 430.0 nanometer\n",
      "wavelength: 440.0 nanometer\n",
      "wavelength: 450.0 nanometer\n",
      "wavelength: 460.0 nanometer\n",
      "wavelength: 470.0 nanometer\n",
      "wavelength: 480.0 nanometer\n",
      "wavelength: 490.0 nanometer\n",
      "wavelength: 500.0 nanometer\n",
      "wavelength: 510.0 nanometer\n",
      "wavelength: 520.0 nanometer\n",
      "wavelength: 530.0 nanometer\n",
      "wavelength: 540.0 nanometer\n",
      "wavelength: 550.0 nanometer\n",
      "wavelength: 560.0 nanometer\n",
      "wavelength: 570.0 nanometer\n",
      "wavelength: 580.0 nanometer\n",
      "wavelength: 590.0 nanometer\n",
      "wavelength: 600.0 nanometer\n",
      "wavelength: 610.0 nanometer\n",
      "wavelength: 620.0 nanometer\n",
      "wavelength: 630.0 nanometer\n",
      "wavelength: 640.0 nanometer\n",
      "wavelength: 650.0 nanometer\n",
      "wavelength: 660.0 nanometer\n",
      "wavelength: 670.0 nanometer\n",
      "wavelength: 680.0 nanometer\n",
      "wavelength: 690.0 nanometer\n",
      "wavelength: 700.0 nanometer\n",
      "wavelength: 710.0 nanometer\n",
      "wavelength: 720.0 nanometer\n",
      "wavelength: 730.0 nanometer\n",
      "wavelength: 740.0 nanometer\n",
      "wavelength: 750.0 nanometer\n",
      "wavelength: 760.0 nanometer\n",
      "wavelength: 770.0 nanometer\n",
      "wavelength: 780.0 nanometer\n",
      "wavelength: 790.0 nanometer\n",
      "wavelength: 800.0 nanometer\n"
     ]
    }
   ],
   "source": [
    "reflectance_bulk = np.zeros(wavelengths.size)\n",
    "for i in range(wavelengths.size):\n",
    "    \n",
    "    # print the wavelength keep track of where we are in calculation \n",
    "    print('wavelength: ' + str(wavelengths[i]))\n",
    "\n",
    "    # Initialize the trajectories\n",
    "    r0, k0, W0 = mc.initialize(nevents_bulk, ntrajectories_bulk, n_medium_bulk[i], n_matrix_bulk[i])\n",
    "    r0 = sc.Quantity(r0, 'um')\n",
    "    W0 = sc.Quantity(W0, '')\n",
    "\n",
    "    # Sample angles\n",
    "    sintheta, costheta, sinphi, cosphi, _, _ = mc.sample_angles(nevents_bulk, ntrajectories_bulk, \n",
    "                                                                p_microsphere[i,:])\n",
    "\n",
    "    # Calculate step size\n",
    "    d_avg = pfs.calc_d_avg(volume_fraction_microspheres, microsphere_radius)\n",
    "    step = d_avg*np.ones((nevents_bulk,ntrajectories_bulk))\n",
    "    step = lscat[i]*np.ones((nevents_bulk,ntrajectories_bulk))\n",
    "\n",
    "    # initialize first direction to be the last sampled angle \n",
    "    # (since last sample angle isn't used, this is equivalent to sampling another angle)\n",
    "    k0[0,0,:] = sintheta[-1,:]*cosphi[-1,:]\n",
    "    k0[1,0,:] = sintheta[-1,:]*sinphi[-1,:]\n",
    "    k0[2,0,:] = costheta[-1,:]\n",
    "    k0 = sc.Quantity(k0, '')\n",
    "    \n",
    "    # Create trajectories object\n",
    "    trajectories = mc.Trajectory(r0, k0, W0)\n",
    "\n",
    "    # Run photons\n",
    "    #trajectories.absorb(mu_abs, step)                         \n",
    "    trajectories.scatter(sintheta, costheta, sinphi, cosphi)         \n",
    "    trajectories.move(step)\n",
    "\n",
    "    # calculate reflectance\n",
    "    reflectance_bulk[i], transmittance = mc.calc_refl_trans(trajectories, z_low, bulk_thickness, \n",
    "                                                               n_medium_bulk[i], n_matrix_bulk[i])"
   ]
  },
  {
   "cell_type": "markdown",
   "metadata": {},
   "source": [
    "#### Plot results"
   ]
  },
  {
   "cell_type": "code",
   "execution_count": 12,
   "metadata": {
    "collapsed": false
   },
   "outputs": [
    {
     "data": {
      "image/png": "[encoded data removed]",
      "text/plain": [
       "<matplotlib.figure.Figure at 0x7f7dfe3f9710>"
      ]
     },
     "metadata": {},
     "output_type": "display_data"
    }
   ],
   "source": [
    "plt.figure()\n",
    "plt.plot(wavelengths, reflectance_bulk, linewidth = 3)\n",
    "plt.ylim([0,1])\n",
    "plt.xlim([400,800])\n",
    "plt.xlabel('Wavelength (nm)')\n",
    "plt.ylabel('Reflectance')\n",
    "plt.title('Bulk Reflectance')\n",
    "np.savez('bulk_poly_data/reflectance_bulk_2', \n",
    "        wavelengths = wavelengths, \n",
    "        reflectance = reflectance_bulk)\n",
    "#plt.savefig('reflectance_bulk.pdf')"
   ]
  },
  {
   "cell_type": "code",
   "execution_count": null,
   "metadata": {
    "collapsed": true
   },
   "outputs": [],
   "source": []
  },
  {
   "cell_type": "code",
   "execution_count": null,
   "metadata": {
    "collapsed": true
   },
   "outputs": [],
   "source": []
  }
 ],
 "metadata": {
  "anaconda-cloud": {},
  "kernelspec": {
   "display_name": "Python [Root]",
   "language": "python",
   "name": "Python [Root]"
  },
  "language_info": {
   "codemirror_mode": {
    "name": "ipython",
    "version": 3
   },
   "file_extension": ".py",
   "mimetype": "text/x-python",
   "name": "python",
   "nbconvert_exporter": "python",
   "pygments_lexer": "ipython3",
   "version": "3.5.2"
  }
 },
 "nbformat": 4,
 "nbformat_minor": 0
}
