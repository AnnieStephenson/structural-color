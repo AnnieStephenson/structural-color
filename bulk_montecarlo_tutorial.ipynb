{
 "cells": [
  {
   "cell_type": "markdown",
   "metadata": {},
   "source": [
    "# Tutorial for bulk Monte Carlo simulations in the structural-color package\n",
    "\n",
    "Copyright 2016, Vinothan N. Manoharan, Victoria Hwang, Annie Stephenson\n",
    "\n",
    "This file is part of the structural-color python package.\n",
    "\n",
    "This package is free software: you can redistribute it and/or modify it under the terms of the GNU General Public License as published by the Free Software Foundation, either version 3 of the License, or (at your option) any later version.\n",
    "\n",
    "This package is distributed in the hope that it will be useful, but WITHOUT ANY WARRANTY; without even the implied warranty of MERCHANTABILITY or FITNESS FOR A PARTICULAR PURPOSE. See the GNU General Public License for more details.\n",
    "\n",
    "You should have received a copy of the GNU General Public License along with this package. If not, see http://www.gnu.org/licenses/."
   ]
  },
  {
   "cell_type": "markdown",
   "metadata": {},
   "source": [
    "## Introduction to bulk Monte Carlo simulations\n",
    "\n",
    "Monte Carlo simulations in the structural-color package can be run on multiple levels for specific types of samples. For example, we can first use Monte Carlo to calculate the reflectance of a particle assembly in a spherical geometry, and then use a second Monte Carlo simulation to calculate the reflectance if we took many of those spheres and packed them into a film. \n",
    "\n",
    "Future versions of this code may be able to handle layers of films or spheres of films, but the current version is best equipped to handle spheres in spheres, and trying other sample configurations may result in errors or incorrect results. \n",
    "\n",
    "We call this module bulk_montecarlo because we want to distinguish it from the lower level structures inside it. We are looking at bulk films made up of spheres wich contain particle packings (the particles also happen to be spheres).\n",
    "\n",
    "The idea behind the bulk Monte Carlo simulations is simple. We first perform a Monte Carlo simulation of trajectories scattering through a sphere and calculate the reflectance and transmittance. We then use these values along with other scattering information obtained from the simulation to calculate a simulated total scattering cross section for the sphere. This gives us everything we need to do a second Monte Carlo simulation, treating the spheres (that is, the larger spheres containing the packings) as we normally would the particles (the spherical particles we assume in a normal Monte Carlo simulation). We can then calculate a reflectance from such a bulk film.\n",
    "\n",
    "Below is an example that calculates a reflectance spectrum from a bulk film, step-by-step. "
   ]
  },
  {
   "cell_type": "markdown",
   "metadata": {},
   "source": [
    "## Loading and using the package and module\n",
    "\n",
    "You'll need the following imports"
   ]
  },
  {
   "cell_type": "code",
   "execution_count": 1,
   "metadata": {
    "collapsed": false
   },
   "outputs": [],
   "source": [
    "%matplotlib inline\n",
    "import numpy as np\n",
    "import structcol as sc\n",
    "import structcol.refractive_index as ri\n",
    "from structcol import montecarlo as mc\n",
    "from structcol import phase_func_sphere as pfs\n",
    "import matplotlib.pyplot as plt\n",
    "import seaborn as sns\n",
    "import os"
   ]
  },
  {
   "cell_type": "markdown",
   "metadata": {},
   "source": [
    "## Start by running Monte Carlo code for a single sphere\n",
    "This is essentially the same as running MC for a sphere as described in montecarlo_tutorial.ipynb, only we return a few extra parameters from calc_refl_trans() and use them to calculate the phase function, scattering coefficient, and absorption coefficient for the bulk Monte Carlo simulation.\n",
    "\n",
    "#### Set parameters\n",
    "We have to set a few extra parameters for the bulk simulation"
   ]
  },
  {
   "cell_type": "code",
   "execution_count": 2,
   "metadata": {
    "collapsed": false
   },
   "outputs": [],
   "source": [
    "# Properties of source\n",
    "wavelengths = sc.Quantity(np.arange(400., 801.,15),'nm') # wavelengths at which to calculate reflectance\n",
    "\n",
    "# Geometric properties of sample\n",
    "particle_radius = sc.Quantity('0.130 um')        # radius of the sphere particles \n",
    "volume_fraction_particles = sc.Quantity(0.6, '') # volume fraction of the particles in the sphere boundary\n",
    "volume_fraction_bulk = sc.Quantity(0.55,'')      # volume fraction of the spheres in the bulk film\n",
    "sphere_boundary_radius = sc.Quantity(5,'um')     # radius of the sphere boundary\n",
    "bulk_thickness = sc.Quantity('20 um')            # thickness of the bulk film\n",
    "\n",
    "# Refractive indices\n",
    "n_particle = ri.n('vacuum', wavelengths)    # refractive index of particle\n",
    "n_matrix = ri.n('polystyrene', wavelengths) + 2e-5*ri.n('vacuum', wavelengths)*1j # refractive index of matrix\n",
    "n_matrix_bulk = ri.n('vacuum', wavelengths) # refractive index of the bulk matrix\n",
    "n_medium = ri.n('vacuum', wavelengths)      # refractive index of medium outside the bulk sample. \n",
    "\n",
    "# Monte Carlo parameters\n",
    "ntrajectories = 2000         # number of trajectories to run with a spherical boundary\n",
    "nevents = 300                # number of scattering events for each trajectory in a spherical boundary\n",
    "ntrajectories_bulk = 2000    # number of trajectories to run in the bulk film\n",
    "nevents_bulk = 300           # number of events to run in the bulk film\n",
    "\n",
    "# Properties that should not need to be changed\n",
    "z_low = sc.Quantity('0.0 um') # sets trajectories starting point\n",
    "sns.set_style('white')        # sets white plotting background"
   ]
  },
  {
   "cell_type": "markdown",
   "metadata": {},
   "source": [
    "### Run Monte Carlo for sphere geometry \n",
    "\n",
    "The next code block is nearly identical to the code for running a sphere found in the montecarlo_tutorial.ipynb. The few differences are explained below\n",
    "\n",
    "differences in mc:\n",
    "1. In calc_refl_trans(), set the argument return_extra = True\n",
    "<br>\n",
    "We must set return_extra to True in order to return all of the parameters from reflection that are needed to calculate the scattering coefficient, absorption length, and phase function for the bulk\n",
    "<br>\n",
    "<br>\n",
    "2. Pass n_matrix_bulk where you would normally pass n_medium\n",
    "<br>\n",
    "Since this sphere is embedded in a bulk film, the material outside the sphere is the matrix of the bulk, so where we would normally pass n_medium, we instead pass n_matrix_bulk\n",
    "<br>\n",
    "<br>\n",
    "3. Run calc_scat_bulk() after calculating reflectance.\n",
    "<br>\n",
    "For each wavelength, after running calc_refl_trans(), we must run calc_scat_bulk() to get the phase function, scattering coeffient, and absorption coefficient for the bulk. These will be used in a later code block for the bulk Monte Carlo simulation \n",
    "\n"
   ]
  },
  {
   "cell_type": "code",
   "execution_count": 3,
   "metadata": {
    "collapsed": false
   },
   "outputs": [
    {
     "name": "stdout",
     "output_type": "stream",
     "text": [
      "wavelength: 400.0 nanometer\n"
     ]
    },
    {
     "name": "stderr",
     "output_type": "stream",
     "text": [
      "/home/stephenson/anaconda3/lib/python3.5/site-packages/Pint-0.7.2-py3.5.egg/pint/quantity.py:912: RuntimeWarning: invalid value encountered in greater\n",
      "/home/stephenson/Repositories/structural-color/structcol/montecarlo.py:360: RuntimeWarning: invalid value encountered in double_scalars\n",
      "  return((x-x0)/(x1-x0)-(y-y0)/(y1-y0), (z-z0)/(z1-z0)-(y-y0)/(y1-y0), x**2 + y**2 + z**2-radius**2 )\n",
      "/home/stephenson/Repositories/structural-color/structcol/montecarlo.py:360: RuntimeWarning: divide by zero encountered in double_scalars\n",
      "  return((x-x0)/(x1-x0)-(y-y0)/(y1-y0), (z-z0)/(z1-z0)-(y-y0)/(y1-y0), x**2 + y**2 + z**2-radius**2 )\n",
      "/home/stephenson/Repositories/structural-color/structcol/montecarlo.py:606: RuntimeWarning: invalid value encountered in true_divide\n",
      "  k1 = k1/mag\n",
      "/home/stephenson/Repositories/structural-color/structcol/montecarlo.py:628: RuntimeWarning: invalid value encountered in true_divide\n",
      "  dot_z = np.nan_to_num(abs(select_z1-select_z0)/mag)\n"
     ]
    },
    {
     "name": "stdout",
     "output_type": "stream",
     "text": [
      "wavelength: 415.0 nanometer\n",
      "wavelength: 430.0 nanometer\n",
      "wavelength: 445.0 nanometer\n",
      "wavelength: 460.0 nanometer\n",
      "wavelength: 475.0 nanometer\n",
      "wavelength: 490.0 nanometer\n",
      "wavelength: 505.0 nanometer\n",
      "wavelength: 520.0 nanometer\n",
      "wavelength: 535.0 nanometer\n",
      "wavelength: 550.0 nanometer\n",
      "wavelength: 565.0 nanometer\n",
      "wavelength: 580.0 nanometer\n",
      "wavelength: 595.0 nanometer\n",
      "wavelength: 610.0 nanometer\n",
      "wavelength: 625.0 nanometer\n",
      "wavelength: 640.0 nanometer\n",
      "wavelength: 655.0 nanometer\n",
      "wavelength: 670.0 nanometer\n",
      "wavelength: 685.0 nanometer\n",
      "wavelength: 700.0 nanometer\n",
      "wavelength: 715.0 nanometer\n",
      "wavelength: 730.0 nanometer\n",
      "wavelength: 745.0 nanometer\n",
      "wavelength: 760.0 nanometer\n",
      "wavelength: 775.0 nanometer\n",
      "wavelength: 790.0 nanometer\n"
     ]
    }
   ],
   "source": [
    "# initialize quantities we want to save as a function of wavelength\n",
    "reflectance_sphere = np.zeros(wavelengths.size)\n",
    "mu_scat_bulk = sc.Quantity(np.zeros(wavelengths.size),'1/um')\n",
    "mu_abs_bulk = sc.Quantity(np.zeros(wavelengths.size),'1/um')\n",
    "p_bulk = np.zeros((wavelengths.size, 200))\n",
    "\n",
    "# loop through wavelengths\n",
    "for i in range(wavelengths.size):\n",
    "    \n",
    "    # print wavlengths to keep track of where we are in calculation\n",
    "    print('wavelength: ' + str(wavelengths[i]))\n",
    "    \n",
    "    # caculate the effective index of the sample\n",
    "    n_sample = ri.n_eff(n_particle[i], n_matrix[i], volume_fraction_particles)\n",
    "    \n",
    "    # Calculate the phase function and scattering and absorption coefficients from the single scattering model\n",
    "    # (this absorption coefficient is of the scatterer, not of an absorber added to the system)\n",
    "    p, mu_scat, mu_abs = mc.calc_scat(particle_radius, n_particle[i], n_sample,\n",
    "                                      volume_fraction_particles, wavelengths[i])\n",
    "\n",
    "    # Initialize the trajectories\n",
    "    r0, k0, W0 = mc.initialize_sphere(nevents, ntrajectories, n_matrix_bulk[i], n_sample, sphere_boundary_radius)\n",
    "    r0 = sc.Quantity(r0, 'um')\n",
    "    k0 = sc.Quantity(k0, '')\n",
    "    W0 = sc.Quantity(W0, '')\n",
    "\n",
    "    # Create trajectories object\n",
    "    trajectories = mc.Trajectory(r0, k0, W0)\n",
    "\n",
    "    # Generate a matrix of all the randomly sampled angles first \n",
    "    sintheta, costheta, sinphi, cosphi, _, _ = mc.sample_angles(nevents, ntrajectories, p)\n",
    "\n",
    "    # Create step size distribution\n",
    "    step = mc.sample_step(nevents, ntrajectories, mu_abs, mu_scat)\n",
    "\n",
    "    # Run photons\n",
    "    trajectories.absorb(mu_abs, step)                         \n",
    "    trajectories.scatter(sintheta, costheta, sinphi, cosphi)         \n",
    "    trajectories.move(step)\n",
    "\n",
    "    # Calculate reflection and transmition \n",
    "    (refl_indices, \n",
    "     trans_indices, \n",
    "     k1_refl, k1_trans, \n",
    "     norm_refl, norm_trans,\n",
    "     refl_per_traj, trans_per_traj,\n",
    "     reflectance_sphere[i], \n",
    "     transmittance_sphere)\\\n",
    "             = mc.calc_refl_trans_sphere(trajectories, n_matrix_bulk[i], n_sample, \n",
    "                                         sphere_boundary_radius, \n",
    "                                         p, mu_abs, mu_scat,  \n",
    "                                         run_tir = False, \n",
    "                                         return_extra = True)\n",
    "        \n",
    "    ### Calculate phase function and lscat ###\n",
    "    # use output of calc_refl_trans to calculate phase function, mu_scat, and mu_abs for the bulk\n",
    "    p_bulk[i,:], mu_scat_bulk[i], mu_abs_bulk[i] = pfs.calc_scat_bulk(refl_per_traj, trans_per_traj, \n",
    "                                                                     trans_indices, \n",
    "                                                                     norm_refl, norm_trans, \n",
    "                                                                     volume_fraction_bulk, \n",
    "                                                                     sphere_boundary_radius,\n",
    "                                                                     plot=False, phi_dependent=False)\n",
    "    "
   ]
  },
  {
   "cell_type": "markdown",
   "metadata": {},
   "source": [
    "#### Plot results"
   ]
  },
  {
   "cell_type": "code",
   "execution_count": 4,
   "metadata": {
    "collapsed": false
   },
   "outputs": [
    {
     "data": {
      "text/plain": [
       "<matplotlib.text.Text at 0x7f6ec80030f0>"
      ]
     },
     "execution_count": 4,
     "metadata": {},
     "output_type": "execute_result"
    },
    {
     "data": {
      "image/png": "[encoded data removed]",
      "text/plain": [
       "<matplotlib.figure.Figure at 0x7f6ec8013cf8>"
      ]
     },
     "metadata": {},
     "output_type": "display_data"
    },
    {
     "data": {
      "image/png": "[encoded data removed]",
      "text/plain": [
       "<matplotlib.figure.Figure at 0x7f6f07df5e48>"
      ]
     },
     "metadata": {},
     "output_type": "display_data"
    }
   ],
   "source": [
    "plt.figure()\n",
    "plt.plot(wavelengths, reflectance_sphere, linewidth = 3)\n",
    "plt.ylim([0,1])\n",
    "plt.xlim([400,800])\n",
    "plt.xlabel('Wavelength (nm)')\n",
    "plt.ylabel('Reflectance')\n",
    "plt.title('Single sphere reflectance')\n",
    "\n",
    "plt.figure()\n",
    "plt.plot(wavelengths, p_bulk[:,100], linewidth = 3)\n",
    "plt.xlim([400,800])\n",
    "plt.xlabel('Wavelength (nm)')\n",
    "plt.ylabel('Probability')\n",
    "plt.title('Phase function value at backscattering angle')"
   ]
  },
  {
   "cell_type": "markdown",
   "metadata": {},
   "source": [
    "The first plot shows us the reflectance of a single sphere, which should give us a qualitative guide for the features we expect to see in the bulk film reflectance. \n",
    "\n",
    "The second plot shows the value of the bulk phase function at the backscattering angle, as a function of wavelength. This plot tells us the probability of backscattering at any given wavelength. It should not match up perfectly with the single sphere reflectance, as the reflectance includes scattering from the entire reflection hemisphere, but it should have some qualitatively similar features. "
   ]
  },
  {
   "cell_type": "markdown",
   "metadata": {},
   "source": [
    "### Calculate reflectance for bulk film of structurally colored microspheres\n",
    "The following code block is nearly identical to the code for running the Monte Carlo simulation for a film. \n",
    "\n",
    "Notes:\n",
    "- We replace many quantities with their bulk counterpart, e.g. nevents_bulk instead of nevents.\n",
    "- We use n_matrix_bulk here instead of an n_sample calculated from effective medium theory because usually, the spheres in a bulk film are significantly larger than the wavelength of light, so we can simply use the matrix rather than an effective medium. However, if you run the simulation with smaller spheres (close to the wavelength of light), you may want to change n_matrix_bulk to n_sample calculate from effective medium theory. \n"
   ]
  },
  {
   "cell_type": "code",
   "execution_count": 5,
   "metadata": {
    "collapsed": false
   },
   "outputs": [
    {
     "name": "stdout",
     "output_type": "stream",
     "text": [
      "wavelength: 400.0 nanometer\n",
      "wavelength: 415.0 nanometer\n",
      "wavelength: 430.0 nanometer\n",
      "wavelength: 445.0 nanometer\n",
      "wavelength: 460.0 nanometer\n",
      "wavelength: 475.0 nanometer\n",
      "wavelength: 490.0 nanometer\n",
      "wavelength: 505.0 nanometer\n",
      "wavelength: 520.0 nanometer\n",
      "wavelength: 535.0 nanometer\n",
      "wavelength: 550.0 nanometer\n",
      "wavelength: 565.0 nanometer\n",
      "wavelength: 580.0 nanometer\n",
      "wavelength: 595.0 nanometer\n",
      "wavelength: 610.0 nanometer\n",
      "wavelength: 625.0 nanometer\n",
      "wavelength: 640.0 nanometer\n",
      "wavelength: 655.0 nanometer\n",
      "wavelength: 670.0 nanometer\n",
      "wavelength: 685.0 nanometer\n",
      "wavelength: 700.0 nanometer\n",
      "wavelength: 715.0 nanometer\n",
      "wavelength: 730.0 nanometer\n",
      "wavelength: 745.0 nanometer\n",
      "wavelength: 760.0 nanometer\n",
      "wavelength: 775.0 nanometer\n",
      "wavelength: 790.0 nanometer\n"
     ]
    }
   ],
   "source": [
    "# initialize some quantities we want to save as a function of wavelength\n",
    "reflectance_bulk = np.zeros(wavelengths.size)\n",
    "\n",
    "# loop through wavelengths\n",
    "for i in range(wavelengths.size):\n",
    "    \n",
    "    # print the wavelength keep track of where we are in calculation \n",
    "    print('wavelength: ' + str(wavelengths[i]))\n",
    "\n",
    "    # Initialize the trajectories\n",
    "    r0, k0, W0 = mc.initialize(nevents_bulk, ntrajectories_bulk, n_medium[i], n_matrix_bulk[i])\n",
    "    r0 = sc.Quantity(r0, 'um')\n",
    "    W0 = sc.Quantity(W0, '')\n",
    "    k0 = sc.Quantity(k0, '')\n",
    "\n",
    "    # Sample angles\n",
    "    sintheta, costheta, sinphi, cosphi, _, _ = mc.sample_angles(nevents_bulk, ntrajectories_bulk, \n",
    "                                                                p_bulk[i,:])\n",
    "    # Calculate step size\n",
    "    step = mc.sample_step(nevents_bulk, ntrajectories_bulk, mu_scat_bulk[i], mu_scat_bulk[i])\n",
    "    \n",
    "    # Create trajectories object\n",
    "    trajectories = mc.Trajectory(r0, k0, W0)\n",
    "\n",
    "    # Run photons\n",
    "    trajectories.absorb(mu_abs_bulk[i], step)  \n",
    "    trajectories.scatter(sintheta, costheta, sinphi, cosphi)         \n",
    "    trajectories.move(step)\n",
    "\n",
    "    # calculate reflectance\n",
    "    reflectance_bulk[i], transmittance = mc.calc_refl_trans(trajectories, z_low, bulk_thickness, \n",
    "                                                               n_medium[i], n_matrix_bulk[i])"
   ]
  },
  {
   "cell_type": "markdown",
   "metadata": {},
   "source": [
    "#### Plot results"
   ]
  },
  {
   "cell_type": "code",
   "execution_count": 6,
   "metadata": {
    "collapsed": false
   },
   "outputs": [
    {
     "data": {
      "text/plain": [
       "<matplotlib.text.Text at 0x7f6ec7ee0a20>"
      ]
     },
     "execution_count": 6,
     "metadata": {},
     "output_type": "execute_result"
    },
    {
     "data": {
      "image/png": "[encoded data removed]",
      "text/plain": [
       "<matplotlib.figure.Figure at 0x7f6ec8013390>"
      ]
     },
     "metadata": {},
     "output_type": "display_data"
    }
   ],
   "source": [
    "plt.figure()\n",
    "plt.plot(wavelengths, reflectance_bulk, linewidth = 3)\n",
    "plt.ylim([0,1])\n",
    "plt.xlim([400,800])\n",
    "plt.xlabel('Wavelength (nm)')\n",
    "plt.ylabel('Reflectance')\n",
    "plt.title('Bulk Reflectance')"
   ]
  },
  {
   "cell_type": "markdown",
   "metadata": {
    "collapsed": true
   },
   "source": [
    "This plot of reflectance versus wavelength shows that the bulk reflectance qualitatively behaves similarly to a single sphere"
   ]
  }
 ],
 "metadata": {
  "anaconda-cloud": {},
  "kernelspec": {
   "display_name": "Python [Root]",
   "language": "python",
   "name": "Python [Root]"
  },
  "language_info": {
   "codemirror_mode": {
    "name": "ipython",
    "version": 3
   },
   "file_extension": ".py",
   "mimetype": "text/x-python",
   "name": "python",
   "nbconvert_exporter": "python",
   "pygments_lexer": "ipython3",
   "version": "3.5.2"
  }
 },
 "nbformat": 4,
 "nbformat_minor": 0
}
