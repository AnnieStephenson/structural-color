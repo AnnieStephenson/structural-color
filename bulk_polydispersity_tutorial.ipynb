{
 "cells": [
  {
   "cell_type": "markdown",
   "metadata": {},
   "source": [
    "# Tutorial for calculating the reflectance of a polydisperse bulk film using Monte Carlo"
   ]
  },
  {
   "cell_type": "code",
   "execution_count": 106,
   "metadata": {
    "collapsed": false
   },
   "outputs": [
    {
     "name": "stdout",
     "output_type": "stream",
     "text": [
      "/home/stephenson/Repositories/structural-color\n"
     ]
    }
   ],
   "source": [
    "%matplotlib inline\n",
    "import numpy as np\n",
    "import time\n",
    "import structcol as sc\n",
    "import structcol.refractive_index as ri\n",
    "from structcol import montecarlo as mc\n",
    "from structcol import phase_func_sphere as pfs\n",
    "import matplotlib.pyplot as plt\n",
    "import seaborn as sns\n",
    "from scipy.misc import factorial\n",
    "import os\n",
    "print(os.getcwd())"
   ]
  },
  {
   "cell_type": "markdown",
   "metadata": {},
   "source": [
    "### Set parameters"
   ]
  },
  {
   "cell_type": "code",
   "execution_count": 107,
   "metadata": {
    "collapsed": true
   },
   "outputs": [],
   "source": [
    "# Properties of system\n",
    "ntrajectories = 5000         # number of trajectories for one microsphere\n",
    "nevents = 300                 # number of scattering events in each trajectory in a microsphere\n",
    "ntrajectories_bulk = 4000    # number of trajectories to run in the bulk film\n",
    "nevents_bulk = 200            # number of events to run in the bulk film\n",
    "wavelengths = sc.Quantity(np.arange(400., 801.,10),'nm') # wavelengths at which to calculate reflectance\n",
    "nanosphere_radius = sc.Quantity('0.125 um') # radius of the nanosphere\n",
    "volume_fraction_microspheres = sc.Quantity(0.55,'') # volume fraction of the microspheres packed in a a nanosphere\n",
    "volume_fraction_nanospheres = sc.Quantity(0.55, '') # volume fraction of the nanospheres packed in a microsphere\n",
    "bulk_thickness = sc.Quantity('50 um') # thickness of the bulk film\n",
    "\n",
    "# refractive indices\n",
    "n_nanoparticle = ri.n('vacuum', wavelengths) # refractive index of nanoparticle\n",
    "n_matrix = ri.n('fused silica', wavelengths) # refractive index of matrix\n",
    "n_medium = ri.n('vacuum', wavelengths) # refractive index of medium outside the sample. \n",
    "n_matrix_bulk = n_medium\n",
    "n_medium_bulk = ri.n('vacuum', wavelengths)\n",
    "\n",
    "# params related to polydispersity calculations\n",
    "num_radii = 3 # number of radii from which to sample, higher number takes longer but gives a more precise calculation\n",
    "microsphere_radius_mean = sc.Quantity(10,'um')  # radius of the microsphere\n",
    "pdi = 0.2\n",
    "\n",
    "# Properties that should not need to be changed\n",
    "z_low = sc.Quantity('0.0 um') # sets trajectories starting point\n",
    "sns.set_style('white') # sets white plotting background"
   ]
  },
  {
   "cell_type": "code",
   "execution_count": 108,
   "metadata": {
    "collapsed": false
   },
   "outputs": [],
   "source": [
    "# some funtions to use throughout\n",
    "def size_distribution(diameter_range, mean, t):\n",
    "    if t <= 100:\n",
    "        schulz = ((t+1)/mean)**(t+1) * diameter_range**t / factorial(t) * np.exp(-diameter_range/mean*(t+1))\n",
    "        distr = schulz  \n",
    "    else:\n",
    "        std_dev = diameter_range / np.sqrt(t+1)\n",
    "        distr = np.exp(-(diameter_range - mean)**2 / (2 * std_dev**2)) / np.sqrt(2*np.pi*std_dev**2)\n",
    "        #distr = distr/np.sum(distr)\n",
    "    return(distr)\n",
    "\n",
    "\n",
    "def calc_rad_list(num_radii, radius_mean, pdi):\n",
    "    num_pdf_points = 600\n",
    "    diam_range = np.linspace(1,4*radius_mean.magnitude, num_pdf_points)*microsphere_radius_mean.units\n",
    "    t = (1-pdi**2)/pdi**2\n",
    "    pdf_range = size_distribution(diam_range, 2*radius_mean,t).magnitude\n",
    "    rad_range = diam_range.magnitude/2\n",
    "    #print(pdf_range)\n",
    "    max_rad_ind = np.argmax(pdf_range)\n",
    "    max_rad = rad_range[max_rad_ind]\n",
    "    \n",
    "    rad_list = [max_rad]\n",
    "    num = 1\n",
    "    denom = 2\n",
    "    for i in range(0,num_radii-1,2):\n",
    "        rad_ind_1 = np.argmin(np.abs(pdf_range[0:int(num_pdf_points/2)]-(num/denom)*np.max(pdf_range)))\n",
    "        rad_ind_2 = np.argmin(np.abs(pdf_range[int(num_pdf_points/2):]-(num/denom)*np.max(pdf_range)))\n",
    "        rad_list.append(rad_range[rad_ind_1])\n",
    "        rad_list.append(rad_range[300 + rad_ind_2])\n",
    "        if num==1:\n",
    "            denom = 2*denom\n",
    "        else:\n",
    "            num = num-2\n",
    "    rad_list.sort()\n",
    "    rad_list = np.array(rad_list)*microsphere_radius_mean.units\n",
    "    return rad_list\n",
    "        \n"
   ]
  },
  {
   "cell_type": "code",
   "execution_count": 120,
   "metadata": {
    "collapsed": false
   },
   "outputs": [
    {
     "name": "stdout",
     "output_type": "stream",
     "text": [
      "[  0.1  10.   20. ] micrometer\n",
      "[  0.1  10.   20. ] micrometer\n"
     ]
    }
   ],
   "source": [
    "# calculate radius list to sample from\n",
    "rad_mean = microsphere_radius_mean.magnitude\n",
    "num_half = int(np.round((num_radii +1)/2))\n",
    "microsphere_radius = np.unique(np.hstack((np.linspace(rad_mean/100, rad_mean, num_half),\n",
    "          np.linspace(rad_mean, 2*rad_mean, num_half))))*microsphere_radius_mean.units\n",
    "print(microsphere_radius)\n",
    "\n",
    "#microsphere_radius = calc_rad_list(num_radii, microsphere_radius_mean, pdi)\n",
    "print(microsphere_radius)"
   ]
  },
  {
   "cell_type": "markdown",
   "metadata": {},
   "source": [
    "### Calculate phase functions for a set of sphere diameters"
   ]
  },
  {
   "cell_type": "code",
   "execution_count": 121,
   "metadata": {
    "collapsed": false
   },
   "outputs": [
    {
     "name": "stdout",
     "output_type": "stream",
     "text": [
      "radius: 0.1 micrometer\n"
     ]
    },
    {
     "name": "stderr",
     "output_type": "stream",
     "text": [
      "/home/stephenson/anaconda3/lib/python3.5/site-packages/Pint-0.7.2-py3.5.egg/pint/quantity.py:912: RuntimeWarning: invalid value encountered in greater\n",
      "  return op(self._convert_magnitude_not_inplace(UnitsContainer()), other)\n",
      "/home/stephenson/Repositories/structural-color/structcol/montecarlo.py:360: RuntimeWarning: invalid value encountered in double_scalars\n",
      "  return((x-x0)/(x1-x0)-(y-y0)/(y1-y0), (z-z0)/(z1-z0)-(y-y0)/(y1-y0), x**2 + y**2 + z**2-radius**2 )\n",
      "/home/stephenson/Repositories/structural-color/structcol/montecarlo.py:360: RuntimeWarning: divide by zero encountered in double_scalars\n",
      "  return((x-x0)/(x1-x0)-(y-y0)/(y1-y0), (z-z0)/(z1-z0)-(y-y0)/(y1-y0), x**2 + y**2 + z**2-radius**2 )\n",
      "/home/stephenson/Repositories/structural-color/structcol/montecarlo.py:606: RuntimeWarning: invalid value encountered in true_divide\n",
      "  k1 = k1/mag\n",
      "/home/stephenson/Repositories/structural-color/structcol/montecarlo.py:628: RuntimeWarning: invalid value encountered in true_divide\n",
      "  dot_z = np.nan_to_num(abs(select_z1-select_z0)/mag)\n"
     ]
    },
    {
     "name": "stdout",
     "output_type": "stream",
     "text": [
      "radius: 10.0 micrometer\n",
      "radius: 20.0 micrometer\n"
     ]
    }
   ],
   "source": [
    "p_microsphere = np.zeros((microsphere_radius.size, wavelengths.size, 200))\n",
    "reflectance_microsphere = np.zeros(wavelengths.size)\n",
    "lscat = sc.Quantity(np.zeros((microsphere_radius.size, wavelengths.size)),'um')\n",
    "theta = np.linspace(.01,np.pi,200)\n",
    "nu = (np.cos(theta)+1)/2\n",
    "\n",
    "for j in range(microsphere_radius.size):\n",
    "    # print radius to keep track of where we are in calculation\n",
    "    print('radius: ' + str(microsphere_radius[j]))\n",
    "    for i in range(wavelengths.size):\n",
    "\n",
    "        # caculate the effective index of the sample\n",
    "        n_sample = ri.n_eff(n_nanoparticle[i], n_matrix[i], volume_fraction_nanospheres)\n",
    "\n",
    "        # Calculate the phase function and scattering and absorption coefficients from the single scattering model\n",
    "        # (this absorption coefficient is of the scatterer, not of an absorber added to the system)\n",
    "        p, mu_scat, mu_abs = mc.calc_scat(nanosphere_radius, n_nanoparticle[i], n_sample,\n",
    "                                          volume_fraction_nanospheres, wavelengths[i])\n",
    "\n",
    "        # Initialize the trajectories\n",
    "        r0, k0, W0 = mc.initialize_sphere(nevents, ntrajectories, n_medium[i], n_sample, microsphere_radius[j])\n",
    "        r0 = sc.Quantity(r0, 'um')\n",
    "        k0 = sc.Quantity(k0, '')\n",
    "        W0 = sc.Quantity(W0, '')\n",
    "\n",
    "        # Create trajectories object\n",
    "        trajectories = mc.Trajectory(r0, k0, W0)\n",
    "\n",
    "        # Generate a matrix of all the randomly sampled angles first \n",
    "        sintheta, costheta, sinphi, cosphi, _, _ = mc.sample_angles(nevents, ntrajectories, p)\n",
    "\n",
    "        # Create step size distribution\n",
    "        step = mc.sample_step(nevents, ntrajectories, mu_abs, mu_scat)\n",
    "\n",
    "        # Run photons\n",
    "        trajectories.absorb(mu_abs, step)                         \n",
    "        trajectories.scatter(sintheta, costheta, sinphi, cosphi)         \n",
    "        trajectories.move(step)\n",
    "\n",
    "        # Calculate reflection and transmition \n",
    "        (refl_indices, trans_indices, \n",
    "        k1_refl, k1_trans, \n",
    "        norm_refl, norm_trans,\n",
    "        refl_per_traj, trans_per_traj,\n",
    "        reflectance_microsphere[i], transmittance_microsphere)\\\n",
    "                 = mc.calc_refl_trans_sphere(trajectories, n_medium[i], n_sample, microsphere_radius[j], \n",
    "                                             p, mu_abs, mu_scat, plot_exits = False, run_tir = False, \n",
    "                                             return_extra = True)\n",
    "\n",
    "        # calculate the lscat of the microsphere for use in the bulk simulation\n",
    "        lscat[j,i] = pfs.calc_lscat(refl_per_traj, trans_per_traj, trans_indices, \n",
    "                                  volume_fraction_nanospheres, microsphere_radius[j])\n",
    "\n",
    "        # find the points on the sphere where trajectories exit\n",
    "        x_inter, y_inter, z_inter = pfs.get_exit_pos(norm_refl, norm_trans, microsphere_radius[j])\n",
    "\n",
    "        # calculate the probability density function as a function of nu, which depends on the scattering angle\n",
    "        pdf = pfs.calc_pdf(x_inter, y_inter, z_inter, microsphere_radius[j], plot = False, phi_dependent = False)\n",
    "\n",
    "        # calculate the probability density function values for the nu values of interest and store for each wavelength\n",
    "        p_microsphere[j,i,:] = pdf(nu)"
   ]
  },
  {
   "cell_type": "markdown",
   "metadata": {},
   "source": [
    "### Sample distribution of microsphere radii"
   ]
  },
  {
   "cell_type": "code",
   "execution_count": 122,
   "metadata": {
    "collapsed": false
   },
   "outputs": [],
   "source": [
    "# calculate diameter pdf\n",
    "\n",
    "# calculate t for distrubtion\n",
    "t = (1-pdi**2)/pdi**2\n",
    "\n",
    "# calculate pdf\n",
    "pdf = size_distribution(2*microsphere_radius, 2*microsphere_radius_mean, t)\n",
    "pdf_norm = pdf/np.sum(pdf)\n",
    "\n",
    "# sample diameter distribution\n",
    "microsphere_diams_sampled = np.reshape(np.random.choice(2*microsphere_radius.magnitude, \n",
    "                                                          ntrajectories_bulk*nevents_bulk, p = pdf_norm), \n",
    "                                                          (nevents_bulk,ntrajectories_bulk))                          \n",
    "microsphere_rads_sampled = microsphere_diams_sampled/2              "
   ]
  },
  {
   "cell_type": "code",
   "execution_count": 123,
   "metadata": {
    "collapsed": false
   },
   "outputs": [
    {
     "data": {
      "image/png": "[encoded data removed]",
      "text/plain": [
       "<matplotlib.figure.Figure at 0x7f42a0a3a898>"
      ]
     },
     "metadata": {},
     "output_type": "display_data"
    }
   ],
   "source": [
    "diam_range = np.linspace(1,4*microsphere_radius_mean.magnitude,600)*microsphere_radius_mean.units\n",
    "pdf_range  = size_distribution(diam_range, 2*microsphere_radius_mean,t)\n",
    "plt.plot(diam_range, pdf_range, linewidth = 2.5)\n",
    "plt.scatter(2*microsphere_radius, pdf, s = 45, color = [0.8,0.3,0.3])\n",
    "plt.xlabel('diameter')\n",
    "plt.savefig('dist3_new.pdf')\n",
    "#plt.xlim([15,25])"
   ]
  },
  {
   "cell_type": "code",
   "execution_count": 113,
   "metadata": {
    "collapsed": false
   },
   "outputs": [
    {
     "data": {
      "text/plain": [
       "(0, 40)"
      ]
     },
     "execution_count": 113,
     "metadata": {},
     "output_type": "execute_result"
    },
    {
     "data": {
      "image/png": "[encoded data removed]",
      "text/plain": [
       "<matplotlib.figure.Figure at 0x7f42a09c4e48>"
      ]
     },
     "metadata": {},
     "output_type": "display_data"
    }
   ],
   "source": [
    "sns.distplot(np.ndarray.flatten(microsphere_diams_sampled), kde = False)\n",
    "plt.xlim([0,40])"
   ]
  },
  {
   "cell_type": "markdown",
   "metadata": {},
   "source": [
    "### Calculate reflectance of bulk polydisperse film"
   ]
  },
  {
   "cell_type": "code",
   "execution_count": 114,
   "metadata": {
    "collapsed": false
   },
   "outputs": [
    {
     "name": "stdout",
     "output_type": "stream",
     "text": [
      "wavelength: 400.0 nanometer\n",
      "wavelength: 410.0 nanometer\n",
      "wavelength: 420.0 nanometer\n",
      "wavelength: 430.0 nanometer\n",
      "wavelength: 440.0 nanometer\n",
      "wavelength: 450.0 nanometer\n",
      "wavelength: 460.0 nanometer\n",
      "wavelength: 470.0 nanometer\n",
      "wavelength: 480.0 nanometer\n",
      "wavelength: 490.0 nanometer\n",
      "wavelength: 500.0 nanometer\n",
      "wavelength: 510.0 nanometer\n",
      "wavelength: 520.0 nanometer\n",
      "wavelength: 530.0 nanometer\n",
      "wavelength: 540.0 nanometer\n",
      "wavelength: 550.0 nanometer\n",
      "wavelength: 560.0 nanometer\n",
      "wavelength: 570.0 nanometer\n",
      "wavelength: 580.0 nanometer\n",
      "wavelength: 590.0 nanometer\n",
      "wavelength: 600.0 nanometer\n",
      "wavelength: 610.0 nanometer\n",
      "wavelength: 620.0 nanometer\n",
      "wavelength: 630.0 nanometer\n",
      "wavelength: 640.0 nanometer\n",
      "wavelength: 650.0 nanometer\n",
      "wavelength: 660.0 nanometer\n",
      "wavelength: 670.0 nanometer\n",
      "wavelength: 680.0 nanometer\n",
      "wavelength: 690.0 nanometer\n",
      "wavelength: 700.0 nanometer\n",
      "wavelength: 710.0 nanometer\n",
      "wavelength: 720.0 nanometer\n",
      "wavelength: 730.0 nanometer\n",
      "wavelength: 740.0 nanometer\n",
      "wavelength: 750.0 nanometer\n",
      "wavelength: 760.0 nanometer\n",
      "wavelength: 770.0 nanometer\n",
      "wavelength: 780.0 nanometer\n",
      "wavelength: 790.0 nanometer\n",
      "wavelength: 800.0 nanometer\n"
     ]
    }
   ],
   "source": [
    "reflectance_bulk_poly = np.zeros(wavelengths.size)\n",
    "for i in range(wavelengths.size):\n",
    "    \n",
    "    # print the wavelength keep track of where we are in calculation \n",
    "    print('wavelength: ' + str(wavelengths[i]))\n",
    "\n",
    "    # Initialize the trajectories\n",
    "    r0, k0, W0 = mc.initialize(nevents_bulk, ntrajectories_bulk, n_medium_bulk[i], n_matrix_bulk[i])\n",
    "    r0 = sc.Quantity(r0, 'um')\n",
    "    W0 = sc.Quantity(W0, '')\n",
    "\n",
    "    # Sample phi angles\n",
    "    rand = np.random.random((nevents_bulk,ntrajectories_bulk))\n",
    "    phi = 2*np.pi*rand\n",
    "    sinphi = np.sin(phi)\n",
    "    cosphi = np.cos(phi)\n",
    "    \n",
    "    # Sample theta angles and calculate step size based on sampled radii\n",
    "    theta = np.zeros((nevents_bulk, ntrajectories_bulk))\n",
    "    lscat_rad_samp = np.zeros((nevents_bulk, ntrajectories_bulk))\n",
    "    angles = np.linspace(0.01,np.pi, 200)   \n",
    "    for j in range(microsphere_radius.size):\n",
    "        rad_ind_ev, rad_ind_tr = np.where(microsphere_rads_sampled == microsphere_radius[j].magnitude)\n",
    "        if rad_ind_ev.size==0:\n",
    "            continue\n",
    "        prob = p_microsphere[j,i,:]/np.sum(p_microsphere[j,i,:])\n",
    "        lscat_rad_samp[rad_ind_ev, rad_ind_tr] = lscat[j,i]\n",
    "        theta[rad_ind_ev, rad_ind_tr] = np.random.choice(angles, rad_ind_ev.size, p = prob)    \n",
    "    sintheta = np.sin(theta)\n",
    "    costheta = np.cos(theta)    \n",
    "    step = lscat_rad_samp*np.ones((nevents_bulk, ntrajectories_bulk))*lscat.units\n",
    "\n",
    "    # initialize first direction to be the last sampled angle \n",
    "    # (since last sample angle isn't used, this is equivalent to sampling another angle)\n",
    "    k0[0,0,:] = sintheta[-1,:]*cosphi[-1,:]\n",
    "    k0[1,0,:] = sintheta[-1,:]*sinphi[-1,:]\n",
    "    k0[2,0,:] = costheta[-1,:]\n",
    "    k0 = sc.Quantity(k0, '')\n",
    "    \n",
    "    # Create trajectories object\n",
    "    trajectories = mc.Trajectory(r0, k0, W0)\n",
    "\n",
    "    # Run photons\n",
    "    #trajectories.absorb(mu_abs, step)                         \n",
    "    trajectories.scatter(sintheta, costheta, sinphi, cosphi)         \n",
    "    trajectories.move(step)\n",
    "\n",
    "    # calculate reflectance\n",
    "    reflectance_bulk_poly[i], transmittance = mc.calc_refl_trans(trajectories, z_low, bulk_thickness, \n",
    "                                                               n_medium_bulk[i], n_matrix_bulk[i])"
   ]
  },
  {
   "cell_type": "markdown",
   "metadata": {},
   "source": [
    "### Plot results"
   ]
  },
  {
   "cell_type": "code",
   "execution_count": 119,
   "metadata": {
    "collapsed": false
   },
   "outputs": [
    {
     "data": {
      "text/plain": [
       "<matplotlib.text.Text at 0x7f42a0ab83c8>"
      ]
     },
     "execution_count": 119,
     "metadata": {},
     "output_type": "execute_result"
    },
    {
     "data": {
      "image/png": "[encoded data removed]",
      "text/plain": [
       "<matplotlib.figure.Figure at 0x7f42a08a09b0>"
      ]
     },
     "metadata": {},
     "output_type": "display_data"
    }
   ],
   "source": [
    "plt.figure()\n",
    "plt.plot(wavelengths, reflectance_bulk_poly, linewidth = 3)\n",
    "plt.ylim([0,1])\n",
    "plt.xlim([400,800])\n",
    "plt.xlabel('Wavelength (nm)')\n",
    "plt.ylabel('Reflectance')\n",
    "plt.title('Bulk Reflectance')\n",
    "#np.savez('bulk_poly_data/refl_bulk_poly_3_' + str(pdi) + '_' + str(num_radii), \n",
    "#        wavelengths = wavelengths, \n",
    "#        reflectance = reflectance_bulk_poly)\n",
    "#plt.savefig('reflectance_bulk_poly_pdi0.5.pdf')"
   ]
  },
  {
   "cell_type": "code",
   "execution_count": null,
   "metadata": {
    "collapsed": false
   },
   "outputs": [],
   "source": []
  },
  {
   "cell_type": "code",
   "execution_count": null,
   "metadata": {
    "collapsed": true
   },
   "outputs": [],
   "source": []
  }
 ],
 "metadata": {
  "anaconda-cloud": {},
  "kernelspec": {
   "display_name": "Python [Root]",
   "language": "python",
   "name": "Python [Root]"
  },
  "language_info": {
   "codemirror_mode": {
    "name": "ipython",
    "version": 3
   },
   "file_extension": ".py",
   "mimetype": "text/x-python",
   "name": "python",
   "nbconvert_exporter": "python",
   "pygments_lexer": "ipython3",
   "version": "3.5.2"
  }
 },
 "nbformat": 4,
 "nbformat_minor": 0
}
