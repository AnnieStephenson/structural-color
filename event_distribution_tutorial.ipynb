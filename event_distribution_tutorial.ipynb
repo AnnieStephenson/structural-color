{
 "cells": [
  {
   "cell_type": "markdown",
   "metadata": {},
   "source": [
    "# Tutorial for using the event distribution module of the structural-color python package\n",
    "\n",
    "Copyright 2016, Vinothan N. Manoharan, Victoria Hwang, Annie Stephenson\n",
    "\n",
    "This file is part of the structural-color python package.\n",
    "\n",
    "This package is free software: you can redistribute it and/or modify it under the terms of the GNU General Public License as published by the Free Software Foundation, either version 3 of the License, or (at your option) any later version.\n",
    "\n",
    "This package is distributed in the hope that it will be useful, but WITHOUT ANY WARRANTY; without even the implied warranty of MERCHANTABILITY or FITNESS FOR A PARTICULAR PURPOSE. See the GNU General Public License for more details.\n",
    "\n",
    "You should have received a copy of the GNU General Public License along with this package. If not, see http://www.gnu.org/licenses/."
   ]
  },
  {
   "cell_type": "markdown",
   "metadata": {},
   "source": [
    "# Introduction to the event distribution module"
   ]
  },
  {
   "cell_type": "markdown",
   "metadata": {},
   "source": [
    "The event distribution module of the structural-color package allows us to interpret the trajectories run using the Monte Carlo model in this same package. By tracking the event at which a trajectory exits, and how its properties (direction, position, etc.) change as it moves, we can gain insight into the physics of the scattering modelled by our package. "
   ]
  },
  {
   "cell_type": "markdown",
   "metadata": {},
   "source": [
    "## Loading and using the package and module"
   ]
  },
  {
   "cell_type": "code",
   "execution_count": 1,
   "metadata": {
    "collapsed": false
   },
   "outputs": [],
   "source": [
    "import time\n",
    "import numpy as np\n",
    "import matplotlib.pyplot as plt\n",
    "import structcol as sc\n",
    "import structcol.refractive_index as ri\n",
    "from structcol import montecarlo as mc\n",
    "from structcol import event_distribution as ed\n",
    "import seaborn as sns\n",
    "sns.set_style('white')\n",
    "\n",
    "# For Jupyter notebooks only:\n",
    "%matplotlib inline"
   ]
  },
  {
   "cell_type": "markdown",
   "metadata": {},
   "source": [
    "### Set properties of system"
   ]
  },
  {
   "cell_type": "code",
   "execution_count": 2,
   "metadata": {
    "collapsed": false
   },
   "outputs": [],
   "source": [
    "# Monte Carlo parameters\n",
    "ntrajectories = 30000 # number of trajectories\n",
    "nevents = 20 # number of scattering events in each trajectory\n",
    "\n",
    "# source/detector properties\n",
    "wavelength = sc.Quantity(np.array(550),'nm') # wavelength at which to run simulation \n",
    "\n",
    "# sample properties\n",
    "particle_radius = sc.Quantity('140 nm') # radius of the particles\n",
    "volume_fraction = sc.Quantity(0.56, '') # volume fraction of particles\n",
    "z_low = sc.Quantity('0.0 um')\n",
    "thickness = sc.Quantity('10 um')\n",
    "particle = 'ps'\n",
    "matrix = 'air'\n",
    "\n",
    "# indices of refraction\n",
    "n_particle = ri.n('polystyrene', wavelength) # refractive indices can be specified as pint quantities or\n",
    "n_matrix = ri.n('vacuum', wavelength)      # called from the refractive_index module. n_matrix is the \n",
    "n_medium = ri.n('vacuum', wavelength)      # space within sample. n_medium is outside the sample."
   ]
  },
  {
   "cell_type": "markdown",
   "metadata": {
    "collapsed": true
   },
   "source": [
    "### Run photons for a single wavelength"
   ]
  },
  {
   "cell_type": "code",
   "execution_count": 3,
   "metadata": {
    "collapsed": false
   },
   "outputs": [],
   "source": [
    "# Calculate the effective refractive index of the sample\n",
    "n_sample = ri.n_eff(n_particle, n_matrix, volume_fraction)\n",
    "\n",
    "# Calculate the phase function and scattering and absorption coefficients from the single scattering model\n",
    "# (this absorption coefficient is of the scatterer, not of an absorber added to the system)\n",
    "p, mu_scat, mu_abs = mc.calc_scat(particle_radius, n_particle, n_sample, volume_fraction, wavelength)\n",
    "lscat = 1/mu_scat.magnitude # microns\n",
    "\n",
    "# Initialize the trajectories\n",
    "r0, k0, W0 = mc.initialize(nevents, ntrajectories, n_medium, n_sample)\n",
    "r0 = sc.Quantity(r0, 'um')\n",
    "k0 = sc.Quantity(k0, '')\n",
    "W0 = sc.Quantity(W0, '')\n",
    "\n",
    "# Generate a matrix of all the randomly sampled angles first \n",
    "sintheta, costheta, sinphi, cosphi, theta, _ = mc.sample_angles(nevents, ntrajectories, p)\n",
    "sintheta = np.sin(theta)\n",
    "costheta = np.cos(theta)\n",
    "\n",
    "# Create step size distribution\n",
    "step = mc.sample_step(nevents, ntrajectories, mu_abs, mu_scat)\n",
    "\n",
    "# Create trajectories object\n",
    "trajectories = mc.Trajectory(r0, k0, W0)\n",
    "\n",
    "# Run photons\n",
    "trajectories.absorb(mu_abs, step)                         \n",
    "trajectories.scatter(sintheta, costheta, sinphi, cosphi)         \n",
    "trajectories.move(step)"
   ]
  },
  {
   "cell_type": "markdown",
   "metadata": {},
   "source": [
    "### Calculate reflectance\n",
    "\n",
    "Be sure to set return_extra to True in order to return all the additional parameters we'll need to calculate the distribution of the trajectory events"
   ]
  },
  {
   "cell_type": "code",
   "execution_count": 4,
   "metadata": {
    "collapsed": false
   },
   "outputs": [
    {
     "name": "stdout",
     "output_type": "stream",
     "text": [
      "Reflectance: 0.215604365699\n"
     ]
    }
   ],
   "source": [
    "refl_indices, trans_indices,\\\n",
    "inc_refl_per_traj, refl_per_traj, trans_per_traj,\\\n",
    "trans_frac, refl_frac,\\\n",
    "refl_fresnel, trans_fresnel, reflectance, tir_refl_bool = mc.calc_refl_trans(trajectories, z_low, thickness, \n",
    "                                                                             n_medium, n_sample, \n",
    "                                                                             return_extra = True)\n",
    "\n",
    "print('Reflectance: ' + str(reflectance))"
   ]
  },
  {
   "cell_type": "markdown",
   "metadata": {},
   "source": [
    "#### Calculating event distribution for a sphere\n",
    "We can also use the event_distribution for a sample with a sphere boundary. To do this, you must run the Monte Carlo calculation above using initialize_sphere() instead of initialize(). See montecarlo_tutorial.ipynb for more details on how to do this, or look at the initialize_sphere() docstring. \n",
    "\n",
    "Then you must calculate the relfectance using calc_refl_trans_sphere() instead of calc_refl_trans() as shown below. The rest of the code in this notebook is compatible with either the film or sphere geometry. \n",
    "\n",
    "```python\n",
    "radius = thickness/2\n",
    "\n",
    "refl_indices, trans_indices,\\\n",
    "inc_refl_per_traj, refl_per_traj, trans_per_traj,\\\n",
    "trans_frac, refl_frac,\\\n",
    "refl_fresnel, trans_fresnel, reflectance, tir_refl_bool = mc.calc_refl_trans_sphere(trajectories, \n",
    "                                                                             n_medium, n_sample,\n",
    "                                                                             radius, p, mu_abs, mu_scat,\n",
    "                                                                             run_tir = False,\n",
    "                                                                             return_extra = True)\n",
    "\n",
    "```"
   ]
  },
  {
   "cell_type": "markdown",
   "metadata": {},
   "source": [
    "### Calculate event distribution\n",
    "\n",
    "Input the output from calc_refl_trans() into a function that calculates the how the reflectance is distributed across all the events"
   ]
  },
  {
   "cell_type": "code",
   "execution_count": 5,
   "metadata": {
    "collapsed": false
   },
   "outputs": [],
   "source": [
    "refl_events, trans_events = ed.calc_refl_trans_event(refl_per_traj, \n",
    "                                                     inc_refl_per_traj, \n",
    "                                                     trans_per_traj, \n",
    "                                                     refl_indices, \n",
    "                                                     trans_indices, \n",
    "                                                     nevents)"
   ]
  },
  {
   "cell_type": "markdown",
   "metadata": {},
   "source": [
    "Plot the event distribution"
   ]
  },
  {
   "cell_type": "code",
   "execution_count": 6,
   "metadata": {
    "collapsed": false
   },
   "outputs": [
    {
     "data": {
      "text/plain": [
       "<matplotlib.text.Text at 0x7f2b3e190d30>"
      ]
     },
     "execution_count": 6,
     "metadata": {},
     "output_type": "execute_result"
    },
    {
     "data": {
      "image/png": "[encoded data removed]",
      "text/plain": [
       "<matplotlib.figure.Figure at 0x7f2b40903198>"
      ]
     },
     "metadata": {},
     "output_type": "display_data"
    },
    {
     "data": {
      "image/png": "[encoded data removed]",
      "text/plain": [
       "<matplotlib.figure.Figure at 0x7f2b408f4c18>"
      ]
     },
     "metadata": {},
     "output_type": "display_data"
    }
   ],
   "source": [
    "plt.figure()\n",
    "plt.title('Reflected Event Distribution')\n",
    "events = np.arange(0, refl_events.size)\n",
    "plt.plot(events, refl_events, linestyle='-', marker='.')\n",
    "plt.ylim([0,.06])\n",
    "plt.xlim([0,nevents])\n",
    "plt.ylabel('Reflectance')\n",
    "plt.xlabel('Event Number')\n",
    "\n",
    "plt.figure()\n",
    "plt.title('Transmitted Event Distribution')\n",
    "events = np.arange(0, trans_events.size)\n",
    "plt.plot(events, trans_events, linestyle='-', marker='.')\n",
    "plt.ylim([0,0.6])\n",
    "plt.xlim([0,nevents])\n",
    "plt.ylabel('Reflectance')\n",
    "plt.xlabel('Event Number')"
   ]
  },
  {
   "cell_type": "markdown",
   "metadata": {},
   "source": [
    "In these plots, the 0th event corresponds to the fresnel reflection (or transmission) due to the interface, before entering the sample. The fresnel transmission is 0 for the 0th event because light cannot be transmitted through the sample due to transmission from the first interface. Also, note that the Reflection at the 1st event is 0 because the first event propagates the photons into the sample, meaning none can be reflected at this stage. "
   ]
  },
  {
   "cell_type": "code",
   "execution_count": 7,
   "metadata": {
    "collapsed": false
   },
   "outputs": [
    {
     "name": "stdout",
     "output_type": "stream",
     "text": [
      "Reflectance: 0.215604365699\n",
      "Reflectance event sum: 0.191867718002\n"
     ]
    }
   ],
   "source": [
    "print('Reflectance: ' + str(reflectance))\n",
    "print('Reflectance event sum: ' + str(np.sum(refl_events)))"
   ]
  },
  {
   "cell_type": "markdown",
   "metadata": {},
   "source": [
    "If we compare the reflectance and the sum of the refl_events, you'll notice they are not the same. The refl_events sum is smaller by a few percent. It's smaller because the total reflectance calculation includes a correction for both stuck and fresnel reflected trajectories, and refl_events doesn't.\n",
    "\n",
    "Stuck trajectories refers to trajectories that haven't been given enough events to be reflected or transmitted. They are still bouncing around inside the sample. To avoid these, simply use a larger number of events.\n",
    "\n",
    "Fresnel reflected refers to the trajectory weights that are reflected back into the sample due to Fresnel reflection. These partially reflected trajectories are treated differently from those which are totally internally reflected due to Fresnel. The totally internally reflected trajectories are treated as trajectories that have not yet exited and continue to run until they do exit. To correct for the discrepancy caused by the Fresnel reflection, I've implemented several solutions. "
   ]
  },
  {
   "cell_type": "markdown",
   "metadata": {},
   "source": [
    "### Correcting for partial Fresnel reflections\n",
    "\n",
    "I developed two methods to deal with the Fresnel reflected trajectories "
   ]
  },
  {
   "cell_type": "markdown",
   "metadata": {},
   "source": [
    "#### option 1: Add the Fresnel reflected weights to the average event for fresnel reflection\n",
    "\n",
    "This function finds the average event at which Fresnel trajectories are reflected and adds the Fresnel trajectory weights to that event. The problem with this method is that it can result in a sudden jump in reflectance at that event, which seems unphysical."
   ]
  },
  {
   "cell_type": "code",
   "execution_count": 8,
   "metadata": {
    "collapsed": false
   },
   "outputs": [],
   "source": [
    "refl_events_fresnel_avg = ed.calc_refl_event_fresnel_avg(refl_events, refl_indices, trans_indices, \n",
    "                                                         refl_fresnel, trans_fresnel,\n",
    "                                                         refl_frac, trans_frac, nevents)"
   ]
  },
  {
   "cell_type": "markdown",
   "metadata": {},
   "source": [
    "plot the reflected event distribution with the fresnel correction"
   ]
  },
  {
   "cell_type": "code",
   "execution_count": 9,
   "metadata": {
    "collapsed": false
   },
   "outputs": [
    {
     "data": {
      "text/plain": [
       "<matplotlib.legend.Legend at 0x7f2b3e24bd30>"
      ]
     },
     "execution_count": 9,
     "metadata": {},
     "output_type": "execute_result"
    },
    {
     "data": {
      "image/png": "[encoded data removed]",
      "text/plain": [
       "<matplotlib.figure.Figure at 0x7f2b3e2d7e48>"
      ]
     },
     "metadata": {},
     "output_type": "display_data"
    }
   ],
   "source": [
    "plt.figure()\n",
    "plt.title('Reflected Event Distribution')\n",
    "events = np.arange(0, refl_events.size)\n",
    "plt.plot(events, refl_events, linestyle='-', marker='.', label = 'not fresnel corrected')\n",
    "plt.plot(events, refl_events_fresnel_avg, linestyle='-', marker='.', label = 'fresnel corrected')\n",
    "plt.ylim([0,.06])\n",
    "plt.xlim([0,nevents])\n",
    "plt.ylabel('Reflectance')\n",
    "plt.xlabel('Event Number')\n",
    "plt.legend()"
   ]
  },
  {
   "cell_type": "markdown",
   "metadata": {},
   "source": [
    "#### option 2: Add the Fresnel reflected weights to an event found by sampling the reflection and transmission spectrum\n",
    "\n",
    "This requires first calculating a probability density function (pdf) using the reflectance and transmittance spectrum"
   ]
  },
  {
   "cell_type": "code",
   "execution_count": 10,
   "metadata": {
    "collapsed": false
   },
   "outputs": [],
   "source": [
    "pdf_refl, pdf_trans = ed.calc_pdf_scat(refl_events, trans_events, nevents)\n",
    "\n",
    "refl_events_fresnel_samp = ed.calc_refl_event_fresnel_pdf(refl_events, \n",
    "                                                          pdf_refl, pdf_trans, refl_indices, trans_indices,\n",
    "                                                          refl_fresnel, trans_fresnel,\n",
    "                                                          refl_frac, trans_frac, nevents)"
   ]
  },
  {
   "cell_type": "markdown",
   "metadata": {},
   "source": [
    "plot the reflected event distribution with the fresnel corrections"
   ]
  },
  {
   "cell_type": "code",
   "execution_count": 11,
   "metadata": {
    "collapsed": false
   },
   "outputs": [
    {
     "data": {
      "text/plain": [
       "<matplotlib.legend.Legend at 0x7f2b3e122128>"
      ]
     },
     "execution_count": 11,
     "metadata": {},
     "output_type": "execute_result"
    },
    {
     "data": {
      "image/png": "[encoded data removed]",
      "text/plain": [
       "<matplotlib.figure.Figure at 0x7f2b3e2a84e0>"
      ]
     },
     "metadata": {},
     "output_type": "display_data"
    }
   ],
   "source": [
    "plt.figure()\n",
    "plt.title('Reflected Event Distribution')\n",
    "events = np.arange(0, refl_events.size)\n",
    "plt.plot(events, refl_events, linestyle='-', marker='.', label = 'not fresnel corrected')\n",
    "plt.plot(events, refl_events_fresnel_avg, linestyle='-', marker='.', label = 'fresnel avg corrected')\n",
    "plt.plot(events, refl_events_fresnel_samp, linestyle='-', marker='.', label = 'fresnel samp corrected')\n",
    "plt.ylim([0,.06])\n",
    "plt.xlim([0,nevents])\n",
    "plt.ylabel('Reflectance')\n",
    "plt.xlabel('Event Number')\n",
    "plt.legend()"
   ]
  },
  {
   "cell_type": "code",
   "execution_count": 12,
   "metadata": {
    "collapsed": false
   },
   "outputs": [
    {
     "name": "stdout",
     "output_type": "stream",
     "text": [
      "Reflectance: 0.215604365699\n",
      "Reflectance event sum: 0.191867718002\n",
      "Reflectance event sum fresnel average: 0.214934302782\n",
      "Reflectance event sum fresnel sample: 0.214934302782\n"
     ]
    }
   ],
   "source": [
    "print('Reflectance: ' + str(reflectance))\n",
    "print('Reflectance event sum: ' + str(np.sum(refl_events)))\n",
    "print('Reflectance event sum fresnel average: ' + str(np.sum(refl_events_fresnel_avg)))\n",
    "print('Reflectance event sum fresnel sample: ' + str(np.sum(refl_events_fresnel_samp)))"
   ]
  },
  {
   "cell_type": "markdown",
   "metadata": {},
   "source": [
    "The fresnel corrected sums of refl_events are larger than the sum without refl_events. "
   ]
  },
  {
   "cell_type": "markdown",
   "metadata": {},
   "source": [
    "### Calculating reflectance due to totally internally reflected light\n",
    "\n",
    "Some trajectories are not just partially fresnel reflected, but are totally internally reflected back into the sample when they attempt to exit. Since we continue to track these photons, we treat them differently from the partially reflected ones. We can calculate several useful values related to the totally internally reflected photons\n",
    "\n",
    "**tir_all**: the summed weights of photons that are totally internally reflected at any event, regardless of whether they are reflected, transmitted, or stuck\n",
    "\n",
    "**tir_all_refl**: the summed weights of photons that are totally internally reflected at any event, but only those which eventually contribute to reflectance\n",
    "\n",
    "**tir_single**: the summed weights of photons that are totally internally reflected after the first scattering event, regardless of whether they are reflected, transmitted, or stuck\n",
    "\n",
    "**tir_single_refl**: the summed weights of photons that are totally internally reflected after the first scattering event, but only those which eventually contribute to reflectance\n",
    "\n",
    "**tir_incides_single**: the event indices of photons that are totally internally reflected after a single scattering event\n",
    "\n",
    "Note: because these are summed weights, you must divide by ntrajectories to normalize"
   ]
  },
  {
   "cell_type": "code",
   "execution_count": 13,
   "metadata": {
    "collapsed": false
   },
   "outputs": [],
   "source": [
    "# total internal reflection\n",
    "tir_all,\\\n",
    "tir_all_refl,\\\n",
    "tir_single,\\\n",
    "tir_single_refl,\\\n",
    "tir_indices_single = ed.calc_tir(tir_refl_bool, refl_indices, trans_indices, inc_refl_per_traj, \n",
    "                                 trajectories.weight, \n",
    "                                 trajectories.direction[2,:,:],\n",
    "                                 ntrajectories, \n",
    "                                 n_sample, \n",
    "                                 n_medium)"
   ]
  },
  {
   "cell_type": "code",
   "execution_count": 14,
   "metadata": {
    "collapsed": false
   },
   "outputs": [
    {
     "name": "stdout",
     "output_type": "stream",
     "text": [
      "TIR single refl: 0.0484258921884\n"
     ]
    }
   ],
   "source": [
    "print('TIR single refl: ' + str(tir_single_refl/ntrajectories))"
   ]
  },
  {
   "cell_type": "markdown",
   "metadata": {},
   "source": [
    "### Getting trajectory properties at exit\n",
    "\n",
    "At times, we may want to see certain properties of trajectories at their event of reflection. Here we, look at kz, the z-component of the direction and zpos, the z-component of position"
   ]
  },
  {
   "cell_type": "code",
   "execution_count": 15,
   "metadata": {
    "collapsed": false
   },
   "outputs": [],
   "source": [
    "ntraj_save = 3000 # number of trajectories to save. \n",
    "\n",
    "# intialize the properties we want to save\n",
    "zpos = np.zeros((nevents+1, ntraj_save))\n",
    "kz = np.zeros((nevents, ntraj_save))\n",
    "\n",
    "# find the properties for each event and trajectory\n",
    "for tr in range(0, ntraj_save):\n",
    "    zpos[0:int(refl_indices[tr])+1,tr] = trajectories.position[2, 0:int(refl_indices[tr]) + 1, tr]\n",
    "    kz[0:int(refl_indices[tr]),tr] = trajectories.direction[2,0:int(refl_indices[tr]), tr]"
   ]
  },
  {
   "cell_type": "markdown",
   "metadata": {},
   "source": [
    "Plot kz of trajectories after second scattering event"
   ]
  },
  {
   "cell_type": "code",
   "execution_count": 16,
   "metadata": {
    "collapsed": false
   },
   "outputs": [
    {
     "data": {
      "text/plain": [
       "<matplotlib.text.Text at 0x7f2b3e0f9550>"
      ]
     },
     "execution_count": 16,
     "metadata": {},
     "output_type": "execute_result"
    },
    {
     "data": {
      "image/png": "[encoded data removed]",
      "text/plain": [
       "<matplotlib.figure.Figure at 0x7f2b3e2654e0>"
      ]
     },
     "metadata": {},
     "output_type": "display_data"
    }
   ],
   "source": [
    "sns.distplot(kz[1,:], kde=False)\n",
    "plt.ylim(0,50)\n",
    "plt.ylabel('number of trajectories')\n",
    "plt.xlabel('z-component of momentum vector')\n",
    "plt.title('Kz of trajectories reflected after second scattering event')"
   ]
  },
  {
   "cell_type": "markdown",
   "metadata": {},
   "source": [
    "### Saving and loading results\n",
    "\n",
    "This function saves the results calculated by the event_distribution module, along with several sample parameters to help with identifying the data file later on. There are several mandatory parameters to save as well as many optional ones. See the docstring for the full list of optional parameters."
   ]
  },
  {
   "cell_type": "markdown",
   "metadata": {},
   "source": [
    "save data"
   ]
  },
  {
   "cell_type": "code",
   "execution_count": 17,
   "metadata": {
    "collapsed": false
   },
   "outputs": [],
   "source": [
    "ed.save_data(particle,\n",
    "             matrix,\n",
    "             particle_radius,\n",
    "             volume_fraction,\n",
    "             thickness,\n",
    "             reflectance,\n",
    "             refl_events,\n",
    "             wavelength, \n",
    "             nevents, \n",
    "             ntrajectories,\n",
    "             tir_all = tir_all, \n",
    "             tir_all_refl = tir_all_refl,\n",
    "             tir_single = tir_single,\n",
    "             tir_single_refl = tir_single_refl,\n",
    "             tir_indices_single = tir_indices_single)"
   ]
  },
  {
   "cell_type": "markdown",
   "metadata": {},
   "source": [
    "load data from saved file"
   ]
  },
  {
   "cell_type": "code",
   "execution_count": 18,
   "metadata": {
    "collapsed": false
   },
   "outputs": [],
   "source": [
    "data = np.load('ps_in_air_ntraj300_nevent20_rad140_vf0.56_thick10_numwl1.npz')\n",
    "refl_events = data['refl_events']"
   ]
  },
  {
   "cell_type": "markdown",
   "metadata": {},
   "source": [
    "### Find event distributions for a range of wavelengths \n",
    "(for film geometry)"
   ]
  },
  {
   "cell_type": "markdown",
   "metadata": {},
   "source": [
    "Set properties of system"
   ]
  },
  {
   "cell_type": "code",
   "execution_count": 19,
   "metadata": {
    "collapsed": false
   },
   "outputs": [],
   "source": [
    "# Monte Carlo parameters\n",
    "ntrajectories = 300 # number of trajectories\n",
    "nevents = 20 # number of scattering events in each trajectory\n",
    "\n",
    "# source/detector properties\n",
    "wavelengths = sc.Quantity(np.arange(400,810,20),'nm') # wavelength at which to run simulation \n",
    "\n",
    "# sample properties\n",
    "particle_radius = sc.Quantity('140 nm') # radius of the particles\n",
    "volume_fraction = sc.Quantity(0.56, '') # volume fraction of particles\n",
    "z_low = sc.Quantity('0.0 um')\n",
    "thickness = sc.Quantity('10 um')\n",
    "particle = 'ps'\n",
    "matrix = 'air'\n",
    "\n",
    "# indices of refraction\n",
    "n_particle = ri.n('polystyrene', wavelengths) # refractive indices can be specified as pint quantities or\n",
    "n_matrix = ri.n('vacuum', wavelengths)      # called from the refractive_index module. n_matrix is the \n",
    "n_medium = ri.n('vacuum', wavelengths)      # space within sample. n_medium is outside the sample."
   ]
  },
  {
   "cell_type": "markdown",
   "metadata": {},
   "source": [
    "Run Monte carlo and event distrubution code"
   ]
  },
  {
   "cell_type": "code",
   "execution_count": 20,
   "metadata": {
    "collapsed": false
   },
   "outputs": [
    {
     "name": "stdout",
     "output_type": "stream",
     "text": [
      "400 nanometer\n",
      "time: 0.0006004929542541504 min\n",
      "420 nanometer\n",
      "time: 0.0005586783091227214 min\n",
      "440 nanometer\n",
      "time: 0.0005481561024983724 min\n",
      "460 nanometer\n",
      "time: 0.0005473176638285319 min\n",
      "480 nanometer\n",
      "time: 0.000560156504313151 min\n",
      "500 nanometer\n",
      "time: 0.0005565285682678223 min\n",
      "520 nanometer\n",
      "time: 0.0007779796918233236 min\n",
      "540 nanometer\n",
      "time: 0.000572657585144043 min\n",
      "560 nanometer\n",
      "time: 0.0005444844563802083 min\n",
      "580 nanometer\n",
      "time: 0.0005450566609700521 min\n",
      "600 nanometer\n",
      "time: 0.0005426764488220215 min\n",
      "620 nanometer\n",
      "time: 0.0005435466766357422 min\n",
      "640 nanometer\n",
      "time: 0.0005423585573832194 min\n",
      "660 nanometer\n",
      "time: 0.0006178498268127441 min\n",
      "680 nanometer\n",
      "time: 0.0006968895594278971 min\n",
      "700 nanometer\n",
      "time: 0.0005520383516947428 min\n",
      "720 nanometer\n",
      "time: 0.0005474448204040528 min\n",
      "740 nanometer\n",
      "time: 0.0005446990331013997 min\n",
      "760 nanometer\n",
      "time: 0.0005428671836853027 min\n",
      "780 nanometer\n",
      "time: 0.0005411068598429362 min\n",
      "800 nanometer\n",
      "time: 0.0007113377253214518 min\n",
      "total time: 0.00020367781321207681 hr\n"
     ]
    }
   ],
   "source": [
    "t0_tot = time.time()\n",
    "\n",
    "# initialize arrays for quanitties we want to look at later\n",
    "refl_events = np.zeros((wavelengths.size,2*nevents+1))\n",
    "refl_events_fresnel_samp = np.zeros((wavelengths.size,2*nevents+1))\n",
    "refl_events_fresnel_avg = np.zeros((wavelengths.size,2*nevents+1))\n",
    "reflectance = np.zeros(wavelengths.size)\n",
    "p = np.zeros((wavelengths.size,200))\n",
    "lscat = np.zeros(wavelengths.size)\n",
    "tir_single = np.zeros((wavelengths.size))\n",
    "tir_single_refl = np.zeros((wavelengths.size))\n",
    "tir_all = np.zeros((wavelengths.size))\n",
    "tir_all_refl = np.zeros((wavelengths.size))\n",
    "tir_indices_single = np.zeros((wavelengths.size, ntrajectories))\n",
    "\n",
    "# run monte carlo, reflectance, and event_distribution\n",
    "for i in range(wavelengths.size):\n",
    "    t0 = time.time()\n",
    "    print(wavelengths[i])\n",
    "    \n",
    "    n_sample = ri.n_eff(n_particle[i], n_matrix[i], volume_fraction)\n",
    "    \n",
    "    # Calculate the phase function and scattering and absorption coefficients from the single scattering model\n",
    "    # (this absorption coefficient is of the scatterer, not of an absorber added to the system)\n",
    "    p[i,:], mu_scat, mu_abs = mc.calc_scat(particle_radius, n_particle[i], n_sample, volume_fraction, wavelengths[i])\n",
    "    lscat[i] = 1/mu_scat.magnitude # microns\n",
    "    \n",
    "    # Initialize the trajectories\n",
    "    r0, k0, W0 = mc.initialize(nevents, ntrajectories, n_medium[i], n_sample, incidence_angle = 0)\n",
    "    r0 = sc.Quantity(r0, 'um')\n",
    "    k0 = sc.Quantity(k0, '')\n",
    "    W0 = sc.Quantity(W0, '')\n",
    "    \n",
    "    ###############################################################################\n",
    "    # Generate a matrix of all the randomly sampled angles first \n",
    "    sintheta, costheta, sinphi, cosphi, theta, _ = mc.sample_angles(nevents, ntrajectories, p[i,:])\n",
    "    sintheta = np.sin(theta)\n",
    "    costheta = np.cos(theta)\n",
    "    \n",
    "    # Create step size distribution\n",
    "    step = mc.sample_step(nevents, ntrajectories, mu_abs, mu_scat)\n",
    "        \n",
    "    # Create trajectories object\n",
    "    trajectories = mc.Trajectory(r0, k0, W0)\n",
    "    \n",
    "    # Run photons\n",
    "    trajectories.absorb(mu_abs, step)                         \n",
    "    trajectories.scatter(sintheta, costheta, sinphi, cosphi)         \n",
    "    trajectories.move(step)\n",
    "    \n",
    "    ################### Calculate reflection and transmition   \n",
    "    refl_indices, trans_indices,\\\n",
    "    inc_refl_per_traj, refl_per_traj, trans_per_traj,\\\n",
    "    trans_frac, refl_frac,\\\n",
    "    refl_fresnel, trans_fresnel, reflectance[i], tir_refl_bool = mc.calc_refl_trans(trajectories, z_low, thickness, \n",
    "                                                                             n_medium[i], n_sample, \n",
    "                                                                             return_extra = True)\n",
    "\n",
    "\n",
    "    ################### Calculate event distributions ##########################\n",
    "    \n",
    "    refl_events[i,:], trans_events = ed.calc_refl_trans_event(refl_per_traj, inc_refl_per_traj, trans_per_traj, \n",
    "                              refl_indices, trans_indices, nevents)\n",
    "    \n",
    "    # total internal reflection\n",
    "    tir_all[i],\\\n",
    "    tir_all_refl[i],\\\n",
    "    tir_single[i],\\\n",
    "    tir_single_refl[i],\\\n",
    "    tir_indices_single[i,:] = ed.calc_tir(tir_refl_bool, refl_indices, trans_indices, inc_refl_per_traj, \n",
    "                                     trajectories.weight, \n",
    "                                     trajectories.direction[2,:,:],\n",
    "                                     ntrajectories, \n",
    "                                     n_sample, \n",
    "                                     n_medium[i])\n",
    "    \n",
    "    # keep track of time to run\n",
    "    t1 = time.time()\n",
    "    t_wl = t1-t0\n",
    "    print('time: ' + str(t_wl/60) + ' min')\n",
    "    \n",
    "t_tot = time.time()-t0_tot\n",
    "print('total time: ' + str(t_tot/3600) + ' hr')"
   ]
  },
  {
   "cell_type": "code",
   "execution_count": 21,
   "metadata": {
    "collapsed": false
   },
   "outputs": [
    {
     "data": {
      "text/plain": [
       "<matplotlib.legend.Legend at 0x7f2b406122b0>"
      ]
     },
     "execution_count": 21,
     "metadata": {},
     "output_type": "execute_result"
    },
    {
     "data": {
      "image/png": "[encoded data removed]",
      "text/plain": [
       "<matplotlib.figure.Figure at 0x7f2b3e0ba8d0>"
      ]
     },
     "metadata": {},
     "output_type": "display_data"
    }
   ],
   "source": [
    "plt.figure()\n",
    "plt.plot(wavelengths, reflectance, label = 'Reflectance')\n",
    "plt.plot(wavelengths, tir_single_refl/ntrajectories, label = 'TIR reflectance')\n",
    "plt.ylabel('Reflectance')\n",
    "plt.xlabel('Wavelengths')\n",
    "plt.legend()"
   ]
  },
  {
   "cell_type": "markdown",
   "metadata": {},
   "source": [
    "##### Save results"
   ]
  },
  {
   "cell_type": "code",
   "execution_count": 22,
   "metadata": {
    "collapsed": false
   },
   "outputs": [],
   "source": [
    "ed.save_data(particle,\n",
    "             matrix,\n",
    "             particle_radius,\n",
    "             volume_fraction,\n",
    "             thickness,\n",
    "             reflectance,\n",
    "             refl_events,\n",
    "             wavelengths, \n",
    "             nevents, \n",
    "             ntrajectories,\n",
    "             tir_all = tir_all, \n",
    "             tir_all_refl = tir_all_refl,\n",
    "             tir_single = tir_single,\n",
    "             tir_single_refl = tir_single_refl,\n",
    "             tir_indices_single = tir_indices_single)"
   ]
  },
  {
   "cell_type": "markdown",
   "metadata": {},
   "source": [
    "### Find event distribution of reflectance for a range of scattering angles (for a single wavelength)\n",
    "(for film geometry)"
   ]
  },
  {
   "cell_type": "markdown",
   "metadata": {},
   "source": [
    "set parameters of system"
   ]
  },
  {
   "cell_type": "code",
   "execution_count": 23,
   "metadata": {
    "collapsed": true
   },
   "outputs": [],
   "source": [
    "# Monte Carlo parameters\n",
    "ntrajectories = 300 # number of trajectories\n",
    "nevents = 20 # number of scattering events in each trajectory\n",
    "\n",
    "# source/detector properties\n",
    "wavelength = sc.Quantity(np.array(550),'nm') # wavelength at which to run simulation \n",
    "\n",
    "# sample properties\n",
    "particle_radius = sc.Quantity('140 nm') # radius of the particles\n",
    "volume_fraction = sc.Quantity(0.56, '') # volume fraction of particles\n",
    "z_low = sc.Quantity('0.0 um')\n",
    "thickness = sc.Quantity('10 um')\n",
    "particle = 'ps'\n",
    "matrix = 'air'\n",
    "\n",
    "# indices of refraction\n",
    "n_particle = ri.n('polystyrene', wavelength) # refractive indices can be specified as pint quantities or\n",
    "n_matrix = ri.n('vacuum', wavelength)      # called from the refractive_index module. n_matrix is the \n",
    "n_medium = ri.n('vacuum', wavelength)      # space within sample. n_medium is outside the sample.\n",
    "n_sample = ri.n_eff(n_particle, n_matrix, volume_fraction)"
   ]
  },
  {
   "cell_type": "code",
   "execution_count": 24,
   "metadata": {
    "collapsed": false
   },
   "outputs": [
    {
     "name": "stdout",
     "output_type": "stream",
     "text": [
      "125.0 degree\n",
      "time: 0.00042112270991007486 min\n",
      "127.0 degree\n",
      "time: 0.00040633281071980794 min\n",
      "129.0 degree\n",
      "time: 0.000402526060740153 min\n",
      "131.0 degree\n",
      "time: 0.0004030426343282064 min\n",
      "133.0 degree\n",
      "time: 0.00040189425150553387 min\n",
      "135.0 degree\n",
      "time: 0.00040188233057657875 min\n",
      "137.0 degree\n",
      "time: 0.0004210352897644043 min\n",
      "139.0 degree\n",
      "time: 0.0004150827725728353 min\n",
      "141.0 degree\n",
      "time: 0.0004980683326721192 min\n",
      "143.0 degree\n",
      "time: 0.0005264878273010254 min\n",
      "145.0 degree\n",
      "time: 0.0004123806953430176 min\n",
      "147.0 degree\n",
      "time: 0.00040394067764282227 min\n",
      "149.0 degree\n",
      "time: 0.00040455261866251626 min\n",
      "total time: 9.438951810201009e-05 hr\n"
     ]
    }
   ],
   "source": [
    "t0_tot = time.time()\n",
    "\n",
    "theta_range = sc.Quantity(np.arange(125., 150, 2),'degrees')\n",
    "\n",
    "refl_events = np.zeros((theta_range.size, 2*nevents+1))\n",
    "refl_events_fresnel_samp = np.zeros((theta_range.size, 2*nevents+1))\n",
    "refl_events_fresnel_avg = np.zeros((theta_range.size, 2*nevents+1))\n",
    "reflectance = np.zeros(theta_range.size)\n",
    "\n",
    "# Calculate the phase function and scattering and absorption coefficients from the single scattering model\n",
    "# (this absorption coefficient is of the scatterer, not of an absorber added to the system)\n",
    "p, mu_scat, mu_abs = mc.calc_scat(particle_radius, n_particle, n_sample, volume_fraction, wavelength)\n",
    "lscat = 1/mu_scat.magnitude # microns\n",
    "\n",
    "# Initialize the trajectories\n",
    "r0, k0, W0 = mc.initialize(nevents, ntrajectories, n_medium, n_sample)\n",
    "r0 = sc.Quantity(r0, 'um')\n",
    "k0 = sc.Quantity(k0, '')\n",
    "W0 = sc.Quantity(W0, '')\n",
    "\n",
    "# Create step size distribution\n",
    "step = mc.sample_step(nevents, ntrajectories, mu_abs, mu_scat)\n",
    "\n",
    "\n",
    "for j in range(theta_range.size):\n",
    "    t0 = time.time()\n",
    "    print(theta_range[j])\n",
    "    \n",
    "    # Generate a matrix of all the randomly sampled angles first \n",
    "    _, _, sinphi, cosphi, _, _ = mc.sample_angles(nevents, ntrajectories, p)\n",
    "    theta = np.ones(theta.shape)*theta_range[j].to('rad').magnitude\n",
    "    sintheta = np.sin(theta)\n",
    "    costheta = np.cos(theta)\n",
    "    \n",
    "    # Create trajectories object\n",
    "    trajectories = mc.Trajectory(r0, k0, W0)\n",
    "\n",
    "    # Run photons\n",
    "    trajectories.absorb(mu_abs, step)    \n",
    "\n",
    "    trajectories.scatter(sintheta, costheta, sinphi, cosphi)   \n",
    "    trajectories.move(step)\n",
    "\n",
    "    ################### Calculate reflection and transmition   \n",
    "    refl_indices, trans_indices,\\\n",
    "    inc_refl_per_traj, refl_per_traj, trans_per_traj,\\\n",
    "    trans_frac, refl_frac,\\\n",
    "    refl_fresnel, trans_fresnel, reflectance[j], _= mc.calc_refl_trans(trajectories, z_low, thickness, n_medium, \n",
    "                                                                     n_sample, return_extra = True)\n",
    "\n",
    "\n",
    "    ################### Calculate event distribution ##########################\n",
    "    \n",
    "    refl_events[j,:], trans_events = ed.calc_refl_trans_event(refl_per_traj, inc_refl_per_traj, trans_per_traj, \n",
    "                              refl_indices, trans_indices, nevents)\n",
    "    \n",
    "    # keep track of time to run\n",
    "    t1 = time.time()\n",
    "    t_wl = t1-t0\n",
    "    print('time: ' + str(t_wl/60) + ' min')\n",
    "    \n",
    "t_tot = time.time()-t0_tot\n",
    "print('total time: ' + str(t_tot/3600) + ' hr')"
   ]
  },
  {
   "cell_type": "code",
   "execution_count": 25,
   "metadata": {
    "collapsed": false
   },
   "outputs": [
    {
     "data": {
      "text/plain": [
       "<matplotlib.text.Text at 0x7f2b40631390>"
      ]
     },
     "execution_count": 25,
     "metadata": {},
     "output_type": "execute_result"
    },
    {
     "data": {
      "image/png": "[encoded data removed]",
      "text/plain": [
       "<matplotlib.figure.Figure at 0x7f2b3e0e2400>"
      ]
     },
     "metadata": {},
     "output_type": "display_data"
    }
   ],
   "source": [
    "plt.figure()\n",
    "plt.title('Reflectance vs theta after single scattering event')\n",
    "plt.plot(theta_range, refl_events[:,2], linestyle='-', marker='.')\n",
    "plt.ylabel('Reflectance')\n",
    "plt.xlabel('Theta (degrees)')"
   ]
  },
  {
   "cell_type": "markdown",
   "metadata": {},
   "source": [
    "##### Save results"
   ]
  },
  {
   "cell_type": "code",
   "execution_count": 26,
   "metadata": {
    "collapsed": false
   },
   "outputs": [],
   "source": [
    "ed.save_data(particle,\n",
    "             matrix,\n",
    "             particle_radius,\n",
    "             volume_fraction,\n",
    "             thickness,\n",
    "             reflectance,\n",
    "             refl_events,\n",
    "             wavelength, \n",
    "             nevents, \n",
    "             ntrajectories,\n",
    "             theta_range = theta_range)"
   ]
  }
 ],
 "metadata": {
  "anaconda-cloud": {},
  "kernelspec": {
   "display_name": "Python [Root]",
   "language": "python",
   "name": "Python [Root]"
  },
  "language_info": {
   "codemirror_mode": {
    "name": "ipython",
    "version": 3
   },
   "file_extension": ".py",
   "mimetype": "text/x-python",
   "name": "python",
   "nbconvert_exporter": "python",
   "pygments_lexer": "ipython3",
   "version": "3.5.2"
  }
 },
 "nbformat": 4,
 "nbformat_minor": 0
}
