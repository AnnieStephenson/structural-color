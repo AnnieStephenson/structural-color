{
 "cells": [
  {
   "cell_type": "markdown",
   "metadata": {},
   "source": [
    "# Tutorial for using the event distribution module of the structural-color python package\n",
    "\n",
    "Copyright 2016, Vinothan N. Manoharan, Victoria Hwang, Annie Stephenson\n",
    "\n",
    "This file is part of the structural-color python package.\n",
    "\n",
    "This package is free software: you can redistribute it and/or modify it under the terms of the GNU General Public License as published by the Free Software Foundation, either version 3 of the License, or (at your option) any later version.\n",
    "\n",
    "This package is distributed in the hope that it will be useful, but WITHOUT ANY WARRANTY; without even the implied warranty of MERCHANTABILITY or FITNESS FOR A PARTICULAR PURPOSE. See the GNU General Public License for more details.\n",
    "\n",
    "You should have received a copy of the GNU General Public License along with this package. If not, see http://www.gnu.org/licenses/."
   ]
  },
  {
   "cell_type": "markdown",
   "metadata": {},
   "source": [
    "# Introduction to the event distribution module"
   ]
  },
  {
   "cell_type": "markdown",
   "metadata": {},
   "source": [
    "The event distribution module of the structural-color package allows us to interpret the trajectories run using the Monte Carlo model in this same package. By tracking the event at which a trajectory exits, and how its properties (direction, position, etc.) change as it moves, we can gain insight into the physics of the scattering modelled by our package. "
   ]
  },
  {
   "cell_type": "markdown",
   "metadata": {},
   "source": [
    "## Loading and using the package and module"
   ]
  },
  {
   "cell_type": "code",
   "execution_count": 30,
   "metadata": {
    "collapsed": false
   },
   "outputs": [],
   "source": [
    "import time\n",
    "import numpy as np\n",
    "import matplotlib.pyplot as plt\n",
    "import structcol as sc\n",
    "import structcol.refractive_index as ri\n",
    "from structcol import montecarlo as mc\n",
    "from structcol import detector as det\n",
    "from structcol import event_distribution as ed\n",
    "import seaborn as sns\n",
    "sns.set_style('white')\n",
    "\n",
    "# For Jupyter notebooks only:\n",
    "%matplotlib inline"
   ]
  },
  {
   "cell_type": "markdown",
   "metadata": {},
   "source": [
    "### Set properties of system"
   ]
  },
  {
   "cell_type": "code",
   "execution_count": 31,
   "metadata": {
    "collapsed": false
   },
   "outputs": [],
   "source": [
    "# Monte Carlo parameters\n",
    "ntrajectories = 30000 # number of trajectories\n",
    "nevents = 20 # number of scattering events in each trajectory\n",
    "\n",
    "# source/detector properties\n",
    "wavelength = sc.Quantity(np.array(550),'nm') # wavelength at which to run simulation \n",
    "\n",
    "# sample properties\n",
    "particle_radius = sc.Quantity('140 nm') # radius of the particles\n",
    "volume_fraction = sc.Quantity(0.56, '') # volume fraction of particles\n",
    "z_low = sc.Quantity('0.0 um')\n",
    "thickness = sc.Quantity('10 um')\n",
    "particle = 'ps'\n",
    "matrix = 'air'\n",
    "boundary = 'film'\n",
    "\n",
    "# indices of refraction\n",
    "n_particle = ri.n('polystyrene', wavelength) # refractive indices can be specified as pint quantities or\n",
    "n_matrix = ri.n('vacuum', wavelength)      # called from the refractive_index module. n_matrix is the \n",
    "n_medium = ri.n('vacuum', wavelength)      # space within sample. n_medium is outside the sample."
   ]
  },
  {
   "cell_type": "markdown",
   "metadata": {
    "collapsed": true
   },
   "source": [
    "### Run photons for a single wavelength"
   ]
  },
  {
   "cell_type": "code",
   "execution_count": 32,
   "metadata": {
    "collapsed": false
   },
   "outputs": [],
   "source": [
    "# Calculate the effective refractive index of the sample\n",
    "n_sample = ri.n_eff(n_particle, n_matrix, volume_fraction)\n",
    "\n",
    "# Calculate the phase function and scattering and absorption coefficients from the single scattering model\n",
    "# (this absorption coefficient is of the scatterer, not of an absorber added to the system)\n",
    "p, mu_scat, mu_abs = mc.calc_scat(particle_radius, n_particle, n_sample, volume_fraction, wavelength)\n",
    "lscat = 1/mu_scat.magnitude # microns\n",
    "\n",
    "# Initialize the trajectories\n",
    "r0, k0, W0 = mc.initialize(nevents, ntrajectories, n_medium, n_sample, boundary)\n",
    "r0 = sc.Quantity(r0, 'um')\n",
    "k0 = sc.Quantity(k0, '')\n",
    "W0 = sc.Quantity(W0, '')\n",
    "\n",
    "# Generate a matrix of all the randomly sampled angles first \n",
    "sintheta, costheta, sinphi, cosphi, theta, _ = mc.sample_angles(nevents, ntrajectories, p)\n",
    "sintheta = np.sin(theta)\n",
    "costheta = np.cos(theta)\n",
    "\n",
    "# Create step size distribution\n",
    "step = mc.sample_step(nevents, ntrajectories, mu_abs, mu_scat)\n",
    "\n",
    "# Create trajectories object\n",
    "trajectories = mc.Trajectory(r0, k0, W0)\n",
    "\n",
    "# Run photons\n",
    "trajectories.absorb(mu_abs, step)                         \n",
    "trajectories.scatter(sintheta, costheta, sinphi, cosphi)         \n",
    "trajectories.move(step)"
   ]
  },
  {
   "cell_type": "markdown",
   "metadata": {},
   "source": [
    "### Calculate reflectance\n",
    "\n",
    "Be sure to set return_extra to True in order to return all the additional parameters we'll need to calculate the distribution of the trajectory events"
   ]
  },
  {
   "cell_type": "code",
   "execution_count": 33,
   "metadata": {
    "collapsed": false
   },
   "outputs": [
    {
     "name": "stdout",
     "output_type": "stream",
     "text": [
      "Reflectance: 0.220049702496\n"
     ]
    }
   ],
   "source": [
    "refl_indices, trans_indices,\\\n",
    "inc_refl_per_traj, refl_per_traj, trans_per_traj,\\\n",
    "trans_frac, refl_frac,\\\n",
    "refl_fresnel, trans_fresnel,\\\n",
    "reflectance, transmittance,\\\n",
    "tir_refl_bool, _,_ = det.calc_refl_trans(trajectories, thickness, n_medium, n_sample, boundary, \n",
    "                                                                  return_extra = True)\n",
    "\n",
    "print('Reflectance: ' + str(reflectance))"
   ]
  },
  {
   "cell_type": "markdown",
   "metadata": {},
   "source": [
    "#### Calculating event distribution for a sphere\n",
    "We can also use the event_distribution for a sample with a sphere boundary. To do this, simply set boundary='sphere' when setting the sample parameters above. See montecarlo_tutorial.ipynb for additional optional parameters that can be set for the sphere case. "
   ]
  },
  {
   "cell_type": "markdown",
   "metadata": {},
   "source": [
    "### Calculate event distribution\n",
    "\n",
    "Input the output from calc_refl_trans() into a function that calculates the how the reflectance is distributed across all the events"
   ]
  },
  {
   "cell_type": "code",
   "execution_count": 34,
   "metadata": {
    "collapsed": false
   },
   "outputs": [],
   "source": [
    "refl_events, trans_events = ed.calc_refl_trans_event(refl_per_traj, \n",
    "                                                     inc_refl_per_traj, \n",
    "                                                     trans_per_traj, \n",
    "                                                     refl_indices, \n",
    "                                                     trans_indices, \n",
    "                                                     nevents)"
   ]
  },
  {
   "cell_type": "markdown",
   "metadata": {},
   "source": [
    "Plot the event distribution"
   ]
  },
  {
   "cell_type": "code",
   "execution_count": 35,
   "metadata": {
    "collapsed": false
   },
   "outputs": [
    {
     "data": {
      "text/plain": [
       "<matplotlib.text.Text at 0x7f44df862390>"
      ]
     },
     "execution_count": 35,
     "metadata": {},
     "output_type": "execute_result"
    },
    {
     "data": {
      "image/png": "[encoded data removed]",
      "text/plain": [
       "<matplotlib.figure.Figure at 0x7f44df75c4e0>"
      ]
     },
     "metadata": {},
     "output_type": "display_data"
    },
    {
     "data": {
      "image/png": "[encoded data removed]",
      "text/plain": [
       "<matplotlib.figure.Figure at 0x7f44df7619b0>"
      ]
     },
     "metadata": {},
     "output_type": "display_data"
    }
   ],
   "source": [
    "plt.figure()\n",
    "plt.title('Reflected Event Distribution')\n",
    "events = np.arange(0, refl_events.size)\n",
    "plt.plot(events, refl_events, linestyle='-', marker='.')\n",
    "plt.ylim([0,.06])\n",
    "plt.xlim([0,nevents])\n",
    "plt.ylabel('Reflectance')\n",
    "plt.xlabel('Event Number')\n",
    "\n",
    "plt.figure()\n",
    "plt.title('Transmitted Event Distribution')\n",
    "events = np.arange(0, trans_events.size)\n",
    "plt.plot(events, trans_events, linestyle='-', marker='.')\n",
    "plt.ylim([0,0.6])\n",
    "plt.xlim([0,nevents])\n",
    "plt.ylabel('Reflectance')\n",
    "plt.xlabel('Event Number')"
   ]
  },
  {
   "cell_type": "markdown",
   "metadata": {},
   "source": [
    "In these plots, the 0th event corresponds to the fresnel reflection (or transmission) due to the interface, before entering the sample. The fresnel transmission is 0 for the 0th event because light cannot be transmitted through the sample due to transmission from the first interface. Also, note that the Reflection at the 1st event is 0 because the first event propagates the photons into the sample, meaning none can be reflected at this stage. "
   ]
  },
  {
   "cell_type": "code",
   "execution_count": 36,
   "metadata": {
    "collapsed": false
   },
   "outputs": [
    {
     "name": "stdout",
     "output_type": "stream",
     "text": [
      "Reflectance: 0.220049702496\n",
      "Reflectance event sum: 0.196140787963\n"
     ]
    }
   ],
   "source": [
    "print('Reflectance: ' + str(reflectance))\n",
    "print('Reflectance event sum: ' + str(np.sum(refl_events)))"
   ]
  },
  {
   "cell_type": "markdown",
   "metadata": {},
   "source": [
    "If we compare the reflectance and the sum of the refl_events, you'll notice they are not the same. The refl_events sum is smaller by a few percent. It's smaller because the total reflectance calculation includes a correction for both stuck and fresnel reflected trajectories, and refl_events doesn't.\n",
    "\n",
    "Stuck trajectories refers to trajectories that haven't been given enough events to be reflected or transmitted. They are still bouncing around inside the sample. To avoid these, simply use a larger number of events.\n",
    "\n",
    "Fresnel reflected refers to the trajectory weights that are reflected back into the sample due to Fresnel reflection. These partially reflected trajectories are treated differently from those which are totally internally reflected due to Fresnel. The totally internally reflected trajectories are treated as trajectories that have not yet exited and continue to run until they do exit. To correct for the discrepancy caused by the Fresnel reflection, I've implemented several solutions. "
   ]
  },
  {
   "cell_type": "markdown",
   "metadata": {},
   "source": [
    "### Correcting for partial Fresnel reflections\n",
    "\n",
    "I developed two methods to deal with the Fresnel reflected trajectories "
   ]
  },
  {
   "cell_type": "markdown",
   "metadata": {},
   "source": [
    "#### option 1: Add the Fresnel reflected weights to the average event for fresnel reflection\n",
    "\n",
    "This function finds the average event at which Fresnel trajectories are reflected and adds the Fresnel trajectory weights to that event. The problem with this method is that it can result in a sudden jump in reflectance at that event, which seems unphysical."
   ]
  },
  {
   "cell_type": "code",
   "execution_count": 37,
   "metadata": {
    "collapsed": false
   },
   "outputs": [],
   "source": [
    "refl_events_fresnel_avg = ed.calc_refl_event_fresnel_avg(refl_events, refl_indices, trans_indices, \n",
    "                                                         refl_fresnel, trans_fresnel,\n",
    "                                                         refl_frac, trans_frac, nevents)"
   ]
  },
  {
   "cell_type": "markdown",
   "metadata": {},
   "source": [
    "plot the reflected event distribution with the fresnel correction"
   ]
  },
  {
   "cell_type": "code",
   "execution_count": 38,
   "metadata": {
    "collapsed": false
   },
   "outputs": [
    {
     "data": {
      "text/plain": [
       "<matplotlib.legend.Legend at 0x7f44df6dbef0>"
      ]
     },
     "execution_count": 38,
     "metadata": {},
     "output_type": "execute_result"
    },
    {
     "data": {
      "image/png": "[encoded data removed]",
      "text/plain": [
       "<matplotlib.figure.Figure at 0x7f44df7452b0>"
      ]
     },
     "metadata": {},
     "output_type": "display_data"
    }
   ],
   "source": [
    "plt.figure()\n",
    "plt.title('Reflected Event Distribution')\n",
    "events = np.arange(0, refl_events.size)\n",
    "plt.plot(events, refl_events, linestyle='-', marker='.', label = 'not fresnel corrected')\n",
    "plt.plot(events, refl_events_fresnel_avg, linestyle='-', marker='.', label = 'fresnel corrected')\n",
    "plt.ylim([0,.06])\n",
    "plt.xlim([0,nevents])\n",
    "plt.ylabel('Reflectance')\n",
    "plt.xlabel('Event Number')\n",
    "plt.legend()"
   ]
  },
  {
   "cell_type": "markdown",
   "metadata": {},
   "source": [
    "#### option 2: Add the Fresnel reflected weights to an event found by sampling the reflection and transmission spectrum\n",
    "\n",
    "This requires first calculating a probability density function (pdf) using the reflectance and transmittance spectrum"
   ]
  },
  {
   "cell_type": "code",
   "execution_count": 39,
   "metadata": {
    "collapsed": false
   },
   "outputs": [],
   "source": [
    "pdf_refl, pdf_trans = ed.calc_pdf_scat(refl_events, trans_events, nevents)\n",
    "\n",
    "refl_events_fresnel_samp = ed.calc_refl_event_fresnel_pdf(refl_events, \n",
    "                                                          pdf_refl, pdf_trans, refl_indices, trans_indices,\n",
    "                                                          refl_fresnel, trans_fresnel,\n",
    "                                                          refl_frac, trans_frac, nevents)"
   ]
  },
  {
   "cell_type": "markdown",
   "metadata": {},
   "source": [
    "plot the reflected event distribution with the fresnel corrections"
   ]
  },
  {
   "cell_type": "code",
   "execution_count": 40,
   "metadata": {
    "collapsed": false
   },
   "outputs": [
    {
     "data": {
      "text/plain": [
       "<matplotlib.legend.Legend at 0x7f44df6582e8>"
      ]
     },
     "execution_count": 40,
     "metadata": {},
     "output_type": "execute_result"
    },
    {
     "data": {
      "image/png": "[encoded data removed]",
      "text/plain": [
       "<matplotlib.figure.Figure at 0x7f44df72ef98>"
      ]
     },
     "metadata": {},
     "output_type": "display_data"
    }
   ],
   "source": [
    "plt.figure()\n",
    "plt.title('Reflected Event Distribution')\n",
    "events = np.arange(0, refl_events.size)\n",
    "plt.plot(events, refl_events, linestyle='-', marker='.', label = 'not fresnel corrected')\n",
    "plt.plot(events, refl_events_fresnel_avg, linestyle='-', marker='.', label = 'fresnel avg corrected')\n",
    "plt.plot(events, refl_events_fresnel_samp, linestyle='-', marker='.', label = 'fresnel samp corrected')\n",
    "plt.ylim([0,.06])\n",
    "plt.xlim([0,nevents])\n",
    "plt.ylabel('Reflectance')\n",
    "plt.xlabel('Event Number')\n",
    "plt.legend()"
   ]
  },
  {
   "cell_type": "code",
   "execution_count": 41,
   "metadata": {
    "collapsed": false
   },
   "outputs": [
    {
     "name": "stdout",
     "output_type": "stream",
     "text": [
      "Reflectance: 0.220049702496\n",
      "Reflectance event sum: 0.196140787963\n",
      "Reflectance event sum fresnel average: 0.219510383563\n",
      "Reflectance event sum fresnel sample: 0.219510383563\n"
     ]
    }
   ],
   "source": [
    "print('Reflectance: ' + str(reflectance))\n",
    "print('Reflectance event sum: ' + str(np.sum(refl_events)))\n",
    "print('Reflectance event sum fresnel average: ' + str(np.sum(refl_events_fresnel_avg)))\n",
    "print('Reflectance event sum fresnel sample: ' + str(np.sum(refl_events_fresnel_samp)))"
   ]
  },
  {
   "cell_type": "markdown",
   "metadata": {},
   "source": [
    "The fresnel corrected sums of refl_events are larger than the sum without refl_events. "
   ]
  },
  {
   "cell_type": "markdown",
   "metadata": {},
   "source": [
    "### Calculating reflectance due to totally internally reflected light\n",
    "\n",
    "Some trajectories are not just partially fresnel reflected, but are totally internally reflected back into the sample when they attempt to exit. Since we continue to track these photons, we treat them differently from the partially reflected ones. We can calculate several useful values related to the totally internally reflected photons\n",
    "\n",
    "**tir_all**: the summed weights of photons that are totally internally reflected at any event, regardless of whether they are reflected, transmitted, or stuck\n",
    "\n",
    "**tir_all_refl**: the summed weights of photons that are totally internally reflected at any event, but only those which eventually contribute to reflectance\n",
    "\n",
    "**tir_single**: the summed weights of photons that are totally internally reflected after the first scattering event, regardless of whether they are reflected, transmitted, or stuck\n",
    "\n",
    "**tir_single_refl**: the summed weights of photons that are totally internally reflected after the first scattering event, but only those which eventually contribute to reflectance\n",
    "\n",
    "**tir_incides_single**: the event indices of photons that are totally internally reflected after a single scattering event\n",
    "\n",
    "Note: because these are summed weights, you must divide by ntrajectories to normalize"
   ]
  },
  {
   "cell_type": "code",
   "execution_count": 42,
   "metadata": {
    "collapsed": false
   },
   "outputs": [],
   "source": [
    "# total internal reflection\n",
    "tir_all,\\\n",
    "tir_all_refl,\\\n",
    "tir_single,\\\n",
    "tir_single_refl,\\\n",
    "tir_indices_single = ed.calc_tir(tir_refl_bool, refl_indices, trans_indices, inc_refl_per_traj, \n",
    "                                 n_sample, \n",
    "                                 n_medium,\n",
    "                                 boundary,\n",
    "                                 trajectories,\n",
    "                                 thickness)"
   ]
  },
  {
   "cell_type": "code",
   "execution_count": 43,
   "metadata": {
    "collapsed": false
   },
   "outputs": [
    {
     "name": "stdout",
     "output_type": "stream",
     "text": [
      "TIR single refl: 0.0498581442913\n"
     ]
    }
   ],
   "source": [
    "print('TIR single refl: ' + str(tir_single_refl/ntrajectories))"
   ]
  },
  {
   "cell_type": "markdown",
   "metadata": {},
   "source": [
    "### Getting trajectory properties at exit\n",
    "\n",
    "At times, we may want to see certain properties of trajectories at their event of reflection. Here we, look at kz, the z-component of the direction and zpos, the z-component of position"
   ]
  },
  {
   "cell_type": "code",
   "execution_count": 44,
   "metadata": {
    "collapsed": false
   },
   "outputs": [],
   "source": [
    "ntraj_save = 3000 # number of trajectories to save. \n",
    "\n",
    "# intialize the properties we want to save\n",
    "zpos = np.zeros((nevents+1, ntraj_save))\n",
    "kz = np.zeros((nevents, ntraj_save))\n",
    "\n",
    "# find the properties for each event and trajectory\n",
    "for tr in range(0, ntraj_save):\n",
    "    zpos[0:int(refl_indices[tr])+1,tr] = trajectories.position[2, 0:int(refl_indices[tr]) + 1, tr]\n",
    "    kz[0:int(refl_indices[tr]),tr] = trajectories.direction[2,0:int(refl_indices[tr]), tr]"
   ]
  },
  {
   "cell_type": "markdown",
   "metadata": {},
   "source": [
    "Plot kz of trajectories after second scattering event"
   ]
  },
  {
   "cell_type": "code",
   "execution_count": 45,
   "metadata": {
    "collapsed": false
   },
   "outputs": [
    {
     "data": {
      "text/plain": [
       "<matplotlib.text.Text at 0x7f44df62f710>"
      ]
     },
     "execution_count": 45,
     "metadata": {},
     "output_type": "execute_result"
    },
    {
     "data": {
      "image/png": "[encoded data removed]",
      "text/plain": [
       "<matplotlib.figure.Figure at 0x7f44df6f6d68>"
      ]
     },
     "metadata": {},
     "output_type": "display_data"
    }
   ],
   "source": [
    "sns.distplot(kz[1,:], kde=False)\n",
    "plt.ylim(0,50)\n",
    "plt.ylabel('number of trajectories')\n",
    "plt.xlabel('z-component of momentum vector')\n",
    "plt.title('Kz of trajectories reflected after second scattering event')"
   ]
  },
  {
   "cell_type": "markdown",
   "metadata": {},
   "source": [
    "### Saving and loading results\n",
    "\n",
    "This function saves the results calculated by the event_distribution module, along with several sample parameters to help with identifying the data file later on. There are several mandatory parameters to save as well as many optional ones. See the docstring for the full list of optional parameters."
   ]
  },
  {
   "cell_type": "markdown",
   "metadata": {},
   "source": [
    "save data"
   ]
  },
  {
   "cell_type": "code",
   "execution_count": 46,
   "metadata": {
    "collapsed": false
   },
   "outputs": [],
   "source": [
    "ed.save_data(particle,\n",
    "             matrix,\n",
    "             particle_radius,\n",
    "             volume_fraction,\n",
    "             thickness,\n",
    "             reflectance,\n",
    "             refl_events,\n",
    "             wavelength, \n",
    "             nevents, \n",
    "             ntrajectories,\n",
    "             tir_all = tir_all, \n",
    "             tir_all_refl = tir_all_refl,\n",
    "             tir_single = tir_single,\n",
    "             tir_single_refl = tir_single_refl,\n",
    "             tir_indices_single = tir_indices_single)"
   ]
  },
  {
   "cell_type": "markdown",
   "metadata": {},
   "source": [
    "load data from saved file"
   ]
  },
  {
   "cell_type": "code",
   "execution_count": 47,
   "metadata": {
    "collapsed": false
   },
   "outputs": [],
   "source": [
    "data = np.load('ps_in_air_ntraj300_nevent20_rad140_vf0.56_thick10_numwl1.npz')\n",
    "refl_events = data['refl_events']"
   ]
  },
  {
   "cell_type": "markdown",
   "metadata": {},
   "source": [
    "### Find event distributions for a range of wavelengths \n",
    "(for film geometry)"
   ]
  },
  {
   "cell_type": "markdown",
   "metadata": {},
   "source": [
    "Set properties of system"
   ]
  },
  {
   "cell_type": "code",
   "execution_count": 48,
   "metadata": {
    "collapsed": false
   },
   "outputs": [],
   "source": [
    "# Monte Carlo parameters\n",
    "ntrajectories = 300 # number of trajectories\n",
    "nevents = 20 # number of scattering events in each trajectory\n",
    "\n",
    "# source/detector properties\n",
    "wavelengths = sc.Quantity(np.arange(400,810,20),'nm') # wavelength at which to run simulation \n",
    "\n",
    "# sample properties\n",
    "particle_radius = sc.Quantity('140 nm') # radius of the particles\n",
    "volume_fraction = sc.Quantity(0.56, '') # volume fraction of particles\n",
    "z_low = sc.Quantity('0.0 um')\n",
    "thickness = sc.Quantity('10 um')\n",
    "particle = 'ps'\n",
    "matrix = 'air'\n",
    "boundary = 'film'\n",
    "\n",
    "# indices of refraction\n",
    "n_particle = ri.n('polystyrene', wavelengths) # refractive indices can be specified as pint quantities or\n",
    "n_matrix = ri.n('vacuum', wavelengths)      # called from the refractive_index module. n_matrix is the \n",
    "n_medium = ri.n('vacuum', wavelengths)      # space within sample. n_medium is outside the sample."
   ]
  },
  {
   "cell_type": "markdown",
   "metadata": {},
   "source": [
    "Run Monte carlo and event distrubution code"
   ]
  },
  {
   "cell_type": "code",
   "execution_count": 49,
   "metadata": {
    "collapsed": false
   },
   "outputs": [
    {
     "name": "stdout",
     "output_type": "stream",
     "text": [
      "400 nanometer\n",
      "time: 0.0004795074462890625 min\n",
      "420 nanometer\n",
      "time: 0.0004117767016092936 min\n",
      "440 nanometer\n",
      "time: 0.0004225015640258789 min\n",
      "460 nanometer\n",
      "time: 0.0004138469696044922 min\n",
      "480 nanometer\n",
      "time: 0.00041611989339192707 min\n",
      "500 nanometer\n",
      "time: 0.0004110018412272135 min\n",
      "520 nanometer\n",
      "time: 0.000444185733795166 min\n",
      "540 nanometer\n",
      "time: 0.00043355226516723634 min\n",
      "560 nanometer\n",
      "time: 0.0007584333419799804 min\n",
      "580 nanometer\n",
      "time: 0.00042064587275187173 min\n",
      "600 nanometer\n",
      "time: 0.00040798187255859376 min\n",
      "620 nanometer\n",
      "time: 0.0004082918167114258 min\n",
      "640 nanometer\n",
      "time: 0.00040826797485351565 min\n",
      "660 nanometer\n",
      "time: 0.00040827194849650067 min\n",
      "680 nanometer\n",
      "time: 0.0004069248835245768 min\n",
      "700 nanometer\n",
      "time: 0.00072479248046875 min\n",
      "720 nanometer\n",
      "time: 0.0006577571233113607 min\n",
      "740 nanometer\n",
      "time: 0.00041077136993408205 min\n",
      "760 nanometer\n",
      "time: 0.0004082322120666504 min\n",
      "780 nanometer\n",
      "time: 0.00040694475173950193 min\n",
      "800 nanometer\n",
      "time: 0.0004069209098815918 min\n",
      "total time: 0.0001614228884379069 hr\n"
     ]
    }
   ],
   "source": [
    "t0_tot = time.time()\n",
    "\n",
    "# initialize arrays for quanitties we want to look at later\n",
    "refl_events = np.zeros((wavelengths.size,2*nevents+1))\n",
    "refl_events_fresnel_samp = np.zeros((wavelengths.size,2*nevents+1))\n",
    "refl_events_fresnel_avg = np.zeros((wavelengths.size,2*nevents+1))\n",
    "reflectance = np.zeros(wavelengths.size)\n",
    "p = np.zeros((wavelengths.size,200))\n",
    "lscat = np.zeros(wavelengths.size)\n",
    "tir_single = np.zeros((wavelengths.size))\n",
    "tir_single_refl = np.zeros((wavelengths.size))\n",
    "tir_all = np.zeros((wavelengths.size))\n",
    "tir_all_refl = np.zeros((wavelengths.size))\n",
    "tir_indices_single = np.zeros((wavelengths.size, ntrajectories))\n",
    "\n",
    "# run monte carlo, reflectance, and event_distribution\n",
    "for i in range(wavelengths.size):\n",
    "    t0 = time.time()\n",
    "    print(wavelengths[i])\n",
    "    \n",
    "    n_sample = ri.n_eff(n_particle[i], n_matrix[i], volume_fraction)\n",
    "    \n",
    "    # Calculate the phase function and scattering and absorption coefficients from the single scattering model\n",
    "    # (this absorption coefficient is of the scatterer, not of an absorber added to the system)\n",
    "    p[i,:], mu_scat, mu_abs = mc.calc_scat(particle_radius, n_particle[i], n_sample, volume_fraction, wavelengths[i])\n",
    "    lscat[i] = 1/mu_scat.magnitude # microns\n",
    "    \n",
    "    # Initialize the trajectories\n",
    "    r0, k0, W0 = mc.initialize(nevents, ntrajectories, n_medium[i], n_sample, boundary)\n",
    "    r0 = sc.Quantity(r0, 'um')\n",
    "    k0 = sc.Quantity(k0, '')\n",
    "    W0 = sc.Quantity(W0, '')\n",
    "    \n",
    "    ###############################################################################\n",
    "    # Generate a matrix of all the randomly sampled angles first \n",
    "    sintheta, costheta, sinphi, cosphi, theta, _ = mc.sample_angles(nevents, ntrajectories, p[i,:])\n",
    "    sintheta = np.sin(theta)\n",
    "    costheta = np.cos(theta)\n",
    "    \n",
    "    # Create step size distribution\n",
    "    step = mc.sample_step(nevents, ntrajectories, mu_abs, mu_scat)\n",
    "        \n",
    "    # Create trajectories object\n",
    "    trajectories = mc.Trajectory(r0, k0, W0)\n",
    "    \n",
    "    # Run photons\n",
    "    trajectories.absorb(mu_abs, step)                         \n",
    "    trajectories.scatter(sintheta, costheta, sinphi, cosphi)         \n",
    "    trajectories.move(step)\n",
    "    \n",
    "    ################### Calculate reflection and transmition   \n",
    "    refl_indices, trans_indices,\\\n",
    "    inc_refl_per_traj, refl_per_traj, trans_per_traj,\\\n",
    "    trans_frac, refl_frac,\\\n",
    "    refl_fresnel, trans_fresnel,\\\n",
    "    reflectance[i], transmittance,\\\n",
    "    tir_refl_bool,_,_ = det.calc_refl_trans(trajectories, thickness, n_medium[i], \n",
    "                                            n_sample, boundary, return_extra = True)\n",
    "\n",
    "\n",
    "    ################### Calculate event distributions ##########################\n",
    "    \n",
    "    refl_events[i,:], trans_events = ed.calc_refl_trans_event(refl_per_traj, inc_refl_per_traj, trans_per_traj, \n",
    "                              refl_indices, trans_indices, nevents)\n",
    "    \n",
    "    # total internal reflection\n",
    "    tir_all[i],\\\n",
    "    tir_all_refl[i],\\\n",
    "    tir_single[i],\\\n",
    "    tir_single_refl[i],\\\n",
    "    tir_indices_single[i,:] = ed.calc_tir(tir_refl_bool, refl_indices, trans_indices, inc_refl_per_traj, \n",
    "                                     n_sample, \n",
    "                                     n_medium[i],\n",
    "                                     boundary,\n",
    "                                     trajectories,\n",
    "                                     thickness)\n",
    "    \n",
    "    # keep track of time to run\n",
    "    t1 = time.time()\n",
    "    t_wl = t1-t0\n",
    "    print('time: ' + str(t_wl/60) + ' min')\n",
    "    \n",
    "t_tot = time.time()-t0_tot\n",
    "print('total time: ' + str(t_tot/3600) + ' hr')"
   ]
  },
  {
   "cell_type": "code",
   "execution_count": 50,
   "metadata": {
    "collapsed": false
   },
   "outputs": [
    {
     "data": {
      "text/plain": [
       "<matplotlib.legend.Legend at 0x7f44df480358>"
      ]
     },
     "execution_count": 50,
     "metadata": {},
     "output_type": "execute_result"
    },
    {
     "data": {
      "image/png": "[encoded data removed]",
      "text/plain": [
       "<matplotlib.figure.Figure at 0x7f44df57e1d0>"
      ]
     },
     "metadata": {},
     "output_type": "display_data"
    }
   ],
   "source": [
    "plt.figure()\n",
    "plt.plot(wavelengths, reflectance, label = 'Reflectance')\n",
    "plt.plot(wavelengths, tir_single_refl/ntrajectories, label = 'TIR reflectance')\n",
    "plt.ylabel('Reflectance')\n",
    "plt.xlabel('Wavelengths')\n",
    "plt.legend()"
   ]
  },
  {
   "cell_type": "markdown",
   "metadata": {},
   "source": [
    "##### Save results"
   ]
  },
  {
   "cell_type": "code",
   "execution_count": 25,
   "metadata": {
    "collapsed": false
   },
   "outputs": [],
   "source": [
    "ed.save_data(particle,\n",
    "             matrix,\n",
    "             particle_radius,\n",
    "             volume_fraction,\n",
    "             thickness,\n",
    "             reflectance,\n",
    "             refl_events,\n",
    "             wavelengths, \n",
    "             nevents, \n",
    "             ntrajectories,\n",
    "             tir_all = tir_all, \n",
    "             tir_all_refl = tir_all_refl,\n",
    "             tir_single = tir_single,\n",
    "             tir_single_refl = tir_single_refl,\n",
    "             tir_indices_single = tir_indices_single)"
   ]
  },
  {
   "cell_type": "markdown",
   "metadata": {},
   "source": [
    "### Find event distribution of reflectance for a range of scattering angles (for a single wavelength)\n",
    "(for film geometry)"
   ]
  },
  {
   "cell_type": "markdown",
   "metadata": {},
   "source": [
    "set parameters of system"
   ]
  },
  {
   "cell_type": "code",
   "execution_count": 26,
   "metadata": {
    "collapsed": true
   },
   "outputs": [],
   "source": [
    "# Monte Carlo parameters\n",
    "ntrajectories = 300 # number of trajectories\n",
    "nevents = 20 # number of scattering events in each trajectory\n",
    "\n",
    "# source/detector properties\n",
    "wavelength = sc.Quantity(np.array(550),'nm') # wavelength at which to run simulation \n",
    "\n",
    "# sample properties\n",
    "particle_radius = sc.Quantity('140 nm') # radius of the particles\n",
    "volume_fraction = sc.Quantity(0.56, '') # volume fraction of particles\n",
    "z_low = sc.Quantity('0.0 um')\n",
    "thickness = sc.Quantity('10 um')\n",
    "particle = 'ps'\n",
    "matrix = 'air'\n",
    "\n",
    "# indices of refraction\n",
    "n_particle = ri.n('polystyrene', wavelength) # refractive indices can be specified as pint quantities or\n",
    "n_matrix = ri.n('vacuum', wavelength)      # called from the refractive_index module. n_matrix is the \n",
    "n_medium = ri.n('vacuum', wavelength)      # space within sample. n_medium is outside the sample.\n",
    "n_sample = ri.n_eff(n_particle, n_matrix, volume_fraction)"
   ]
  },
  {
   "cell_type": "code",
   "execution_count": 27,
   "metadata": {
    "collapsed": false
   },
   "outputs": [
    {
     "name": "stdout",
     "output_type": "stream",
     "text": [
      "125.0 degree\n",
      "time: 0.0002794782320658366 min\n",
      "127.0 degree\n",
      "time: 0.00026519298553466796 min\n",
      "129.0 degree\n",
      "time: 0.0002630432446797689 min\n",
      "131.0 degree\n",
      "time: 0.00026197433471679686 min\n",
      "133.0 degree\n",
      "time: 0.0002613981564839681 min\n",
      "135.0 degree\n",
      "time: 0.00026108821233113605 min\n",
      "137.0 degree\n",
      "time: 0.0002629876136779785 min\n",
      "139.0 degree\n",
      "time: 0.00026127099990844724 min\n",
      "141.0 degree\n",
      "time: 0.0002623478571573893 min\n",
      "143.0 degree\n",
      "time: 0.00026942094167073567 min\n",
      "145.0 degree\n",
      "time: 0.0002967198689778646 min\n",
      "147.0 degree\n",
      "time: 0.0002711017926534017 min\n",
      "149.0 degree\n",
      "time: 0.00028405984242757163 min\n",
      "total time: 6.0727463828192817e-05 hr\n"
     ]
    }
   ],
   "source": [
    "t0_tot = time.time()\n",
    "\n",
    "theta_range = sc.Quantity(np.arange(125., 150, 2),'degrees')\n",
    "\n",
    "refl_events = np.zeros((theta_range.size, 2*nevents+1))\n",
    "refl_events_fresnel_samp = np.zeros((theta_range.size, 2*nevents+1))\n",
    "refl_events_fresnel_avg = np.zeros((theta_range.size, 2*nevents+1))\n",
    "reflectance = np.zeros(theta_range.size)\n",
    "\n",
    "# Calculate the phase function and scattering and absorption coefficients from the single scattering model\n",
    "# (this absorption coefficient is of the scatterer, not of an absorber added to the system)\n",
    "p, mu_scat, mu_abs = mc.calc_scat(particle_radius, n_particle, n_sample, volume_fraction, wavelength)\n",
    "lscat = 1/mu_scat.magnitude # microns\n",
    "\n",
    "# Initialize the trajectories\n",
    "r0, k0, W0 = mc.initialize(nevents, ntrajectories, n_medium, n_sample, boundary)\n",
    "r0 = sc.Quantity(r0, 'um')\n",
    "k0 = sc.Quantity(k0, '')\n",
    "W0 = sc.Quantity(W0, '')\n",
    "\n",
    "# Create step size distribution\n",
    "step = mc.sample_step(nevents, ntrajectories, mu_abs, mu_scat)\n",
    "\n",
    "\n",
    "for j in range(theta_range.size):\n",
    "    t0 = time.time()\n",
    "    print(theta_range[j])\n",
    "    \n",
    "    # Generate a matrix of all the randomly sampled angles first \n",
    "    _, _, sinphi, cosphi, _, _ = mc.sample_angles(nevents, ntrajectories, p)\n",
    "    theta = np.ones(theta.shape)*theta_range[j].to('rad').magnitude\n",
    "    sintheta = np.sin(theta)\n",
    "    costheta = np.cos(theta)\n",
    "    \n",
    "    # Create trajectories object\n",
    "    trajectories = mc.Trajectory(r0, k0, W0)\n",
    "\n",
    "    # Run photons\n",
    "    trajectories.absorb(mu_abs, step)    \n",
    "\n",
    "    trajectories.scatter(sintheta, costheta, sinphi, cosphi)   \n",
    "    trajectories.move(step)\n",
    "\n",
    "    ################### Calculate reflection and transmition   \n",
    "    refl_indices, trans_indices,\\\n",
    "    inc_refl_per_traj, refl_per_traj, trans_per_traj,\\\n",
    "    trans_frac, refl_frac,\\\n",
    "    refl_fresnel, trans_fresnel,\\\n",
    "    reflectance[j], _,_,_,_= det.calc_refl_trans(trajectories, thickness, n_medium, \n",
    "                                                                     n_sample, boundary, return_extra = True)\n",
    "\n",
    "\n",
    "    ################### Calculate event distribution ##########################\n",
    "    \n",
    "    refl_events[j,:], trans_events = ed.calc_refl_trans_event(refl_per_traj, inc_refl_per_traj, trans_per_traj, \n",
    "                              refl_indices, trans_indices, nevents)\n",
    "    \n",
    "    # keep track of time to run\n",
    "    t1 = time.time()\n",
    "    t_wl = t1-t0\n",
    "    print('time: ' + str(t_wl/60) + ' min')\n",
    "    \n",
    "t_tot = time.time()-t0_tot\n",
    "print('total time: ' + str(t_tot/3600) + ' hr')"
   ]
  },
  {
   "cell_type": "code",
   "execution_count": 28,
   "metadata": {
    "collapsed": false
   },
   "outputs": [
    {
     "data": {
      "text/plain": [
       "<matplotlib.text.Text at 0x7f44df7d0080>"
      ]
     },
     "execution_count": 28,
     "metadata": {},
     "output_type": "execute_result"
    },
    {
     "data": {
      "image/png": "[encoded data removed]",
      "text/plain": [
       "<matplotlib.figure.Figure at 0x7f44dd230978>"
      ]
     },
     "metadata": {},
     "output_type": "display_data"
    }
   ],
   "source": [
    "plt.figure()\n",
    "plt.title('Reflectance vs theta after single scattering event')\n",
    "plt.plot(theta_range, refl_events[:,2], linestyle='-', marker='.')\n",
    "plt.ylabel('Reflectance')\n",
    "plt.xlabel('Theta (degrees)')"
   ]
  },
  {
   "cell_type": "markdown",
   "metadata": {},
   "source": [
    "##### Save results"
   ]
  },
  {
   "cell_type": "code",
   "execution_count": 29,
   "metadata": {
    "collapsed": false
   },
   "outputs": [],
   "source": [
    "ed.save_data(particle,\n",
    "             matrix,\n",
    "             particle_radius,\n",
    "             volume_fraction,\n",
    "             thickness,\n",
    "             reflectance,\n",
    "             refl_events,\n",
    "             wavelength, \n",
    "             nevents, \n",
    "             ntrajectories,\n",
    "             theta_range = theta_range)"
   ]
  }
 ],
 "metadata": {
  "anaconda-cloud": {},
  "kernelspec": {
   "display_name": "Python [Root]",
   "language": "python",
   "name": "Python [Root]"
  },
  "language_info": {
   "codemirror_mode": {
    "name": "ipython",
    "version": 3
   },
   "file_extension": ".py",
   "mimetype": "text/x-python",
   "name": "python",
   "nbconvert_exporter": "python",
   "pygments_lexer": "ipython3",
   "version": "3.5.2"
  }
 },
 "nbformat": 4,
 "nbformat_minor": 0
}
