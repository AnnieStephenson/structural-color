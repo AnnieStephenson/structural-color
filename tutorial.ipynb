{
 "cells": [
  {
   "cell_type": "markdown",
   "metadata": {},
   "source": [
    "# Tutorial for the structural-color python package\n",
    "\n",
    "Copyright 2016, Vinothan N. Manoharan\n",
    "\n",
    "This file is part of the structural-color python package.\n",
    "\n",
    "This package is free software: you can redistribute it and/or modify it under\n",
    "the terms of the GNU General Public License as published by the Free Software\n",
    "Foundation, either version 3 of the License, or (at your option) any later\n",
    "version.\n",
    "\n",
    "This package is distributed in the hope that it will be useful, but WITHOUT\n",
    "ANY WARRANTY; without even the implied warranty of MERCHANTABILITY or FITNESS\n",
    "FOR A PARTICULAR PURPOSE. See the GNU General Public License for more\n",
    "details.\n",
    "\n",
    "You should have received a copy of the GNU General Public License along with\n",
    "this package. If not, see <http://www.gnu.org/licenses/>."
   ]
  },
  {
   "cell_type": "markdown",
   "metadata": {},
   "source": [
    "## Loading and using the package\n",
    "\n",
    "To load, make sure you are in the top directory and do"
   ]
  },
  {
   "cell_type": "code",
   "execution_count": 3,
   "metadata": {
    "collapsed": false
   },
   "outputs": [],
   "source": [
    "import structcol\n",
    "# or \n",
    "import structcol as sc"
   ]
  },
  {
   "cell_type": "markdown",
   "metadata": {},
   "source": [
    "This will populate the structcol namespace with a few functions and classes.  You will probably find it easiest to keep all your calculations within a Jupyter notebook like this one.  The package itself contains only generic functions and classes (that is, it doesn't include any specific calculations of structural color spectra beyond the ones in this notebook).  For calculations in a notebook, you'll want to import some other packages too, like numpy and matplotlib:"
   ]
  },
  {
   "cell_type": "code",
   "execution_count": 4,
   "metadata": {
    "collapsed": false
   },
   "outputs": [],
   "source": [
    "%matplotlib inline \n",
    "import matplotlib\n",
    "import numpy as np\n",
    "import matplotlib.pyplot as plt\n",
    "import scipy.integrate\n",
    "\n",
    "# require seaborn (not installed by default in Anaconda; comment out if not installed)\n",
    "import seaborn as sns"
   ]
  },
  {
   "cell_type": "markdown",
   "metadata": {},
   "source": [
    "## Using quantities with units\n",
    "\n",
    "The structural-color package uses the [`pint`](http://pint.readthedocs.io/en/latest/) package to keep track of units and automatically convert them.  To define a quantity with units, use the `structcol.Quantity` constructor.  For example, to define a wavelength of 0.45 $\\mu$m:"
   ]
  },
  {
   "cell_type": "code",
   "execution_count": 5,
   "metadata": {
    "collapsed": false
   },
   "outputs": [],
   "source": [
    "wavelen = sc.Quantity('0.45 um')"
   ]
  },
  {
   "cell_type": "code",
   "execution_count": 6,
   "metadata": {
    "collapsed": false
   },
   "outputs": [
    {
     "name": "stdout",
     "output_type": "stream",
     "text": [
      "0.45 micrometer\n",
      "[length]\n"
     ]
    }
   ],
   "source": [
    "print(wavelen)\n",
    "print(wavelen.dimensionality)"
   ]
  },
  {
   "cell_type": "markdown",
   "metadata": {},
   "source": [
    "Converting between units:"
   ]
  },
  {
   "cell_type": "code",
   "execution_count": 7,
   "metadata": {
    "collapsed": false
   },
   "outputs": [
    {
     "name": "stdout",
     "output_type": "stream",
     "text": [
      "4.5e-07 meter\n"
     ]
    }
   ],
   "source": [
    "print(wavelen.to('m'))"
   ]
  },
  {
   "cell_type": "markdown",
   "metadata": {},
   "source": [
    "Units work in numpy arrays, too:"
   ]
  },
  {
   "cell_type": "code",
   "execution_count": 8,
   "metadata": {
    "collapsed": false
   },
   "outputs": [],
   "source": [
    "wavelens = sc.Quantity(np.arange(450.0, 800.0, 10.0), 'nm')"
   ]
  },
  {
   "cell_type": "code",
   "execution_count": 9,
   "metadata": {
    "collapsed": false
   },
   "outputs": [
    {
     "name": "stdout",
     "output_type": "stream",
     "text": [
      "[ 0.45  0.46  0.47  0.48  0.49  0.5   0.51  0.52  0.53  0.54  0.55  0.56  0.57  0.58  0.59  0.6   0.61  0.62  0.63  0.64  0.65  0.66  0.67  0.68  0.69  0.7   0.71  0.72  0.73  0.74  0.75  0.76  0.77  0.78  0.79] micrometer\n"
     ]
    }
   ],
   "source": [
    "print(wavelens.to('um'))"
   ]
  },
  {
   "cell_type": "markdown",
   "metadata": {},
   "source": [
    "## Refractive index module\n",
    "\n",
    "To use the refractive index module:"
   ]
  },
  {
   "cell_type": "code",
   "execution_count": 10,
   "metadata": {
    "collapsed": true
   },
   "outputs": [],
   "source": [
    "import structcol.refractive_index as ri"
   ]
  },
  {
   "cell_type": "markdown",
   "metadata": {},
   "source": [
    "This module contains dispersion relations for a number of materials.  For example, to get the index of polystyrene at 500 nm, you can call"
   ]
  },
  {
   "cell_type": "code",
   "execution_count": 11,
   "metadata": {
    "collapsed": false
   },
   "outputs": [
    {
     "data": {
      "text/html": [
       "1.6032768445664916 dimensionless"
      ],
      "text/latex": [
       "$1.6032768445664916 dimensionless$"
      ],
      "text/plain": [
       "<Quantity(1.6032768445664916, 'dimensionless')>"
      ]
     },
     "execution_count": 11,
     "metadata": {},
     "output_type": "execute_result"
    }
   ],
   "source": [
    "ri.n('polystyrene', sc.Quantity('500 nm'))"
   ]
  },
  {
   "cell_type": "markdown",
   "metadata": {},
   "source": [
    "You must give this function a quantity with units as the second argument.  If you give it a number, it will throw an error, rather than trying to guess what units you're thinking of.  You can also calculate the refractive index at several different wavelengths simultaneously, like this (using `wavelens` array from above):"
   ]
  },
  {
   "cell_type": "code",
   "execution_count": 12,
   "metadata": {
    "collapsed": true
   },
   "outputs": [],
   "source": [
    "n_particle = ri.n('polystyrene', wavelens)"
   ]
  },
  {
   "cell_type": "code",
   "execution_count": 13,
   "metadata": {
    "collapsed": false
   },
   "outputs": [
    {
     "data": {
      "text/plain": [
       "<matplotlib.text.Text at 0xd4337c0cf8>"
      ]
     },
     "execution_count": 13,
     "metadata": {},
     "output_type": "execute_result"
    },
    {
     "data": {
      "image/png": "[encoded data removed]",
      "text/plain": [
       "<matplotlib.figure.Figure at 0xd4337af198>"
      ]
     },
     "metadata": {},
     "output_type": "display_data"
    }
   ],
   "source": [
    "plt.plot(wavelens, n_particle)\n",
    "plt.ylabel('$n_\\mathrm{PS}$')\n",
    "plt.xlabel('wavelength (nm)')"
   ]
  },
  {
   "cell_type": "markdown",
   "metadata": {},
   "source": [
    "## Mie scattering module\n",
    "\n",
    "To use this module:"
   ]
  },
  {
   "cell_type": "code",
   "execution_count": 14,
   "metadata": {
    "collapsed": true
   },
   "outputs": [],
   "source": [
    "from structcol import mie"
   ]
  },
  {
   "cell_type": "markdown",
   "metadata": {},
   "source": [
    "Form factor calculation:"
   ]
  },
  {
   "cell_type": "code",
   "execution_count": 34,
   "metadata": {
    "collapsed": false
   },
   "outputs": [
    {
     "name": "stdout",
     "output_type": "stream",
     "text": [
      "Number of terms:\n",
      "88\n",
      "Scattering, extinction, and backscattering efficiencies:\n",
      "2.168914125 2.168914125 7.21678381994\n",
      "Extinction efficiency from optical theorem:\n",
      "[ 2.16891413  2.16891413]\n"
     ]
    }
   ],
   "source": [
    "wavelen = sc.Quantity('450 nm')\n",
    "n_medium = ri.n('vacuum', wavelen)\n",
    "n_particle = ri.n('polystyrene', wavelen)\n",
    "radius = sc.Quantity('5 um')\n",
    "m = (n_particle/n_medium).magnitude\n",
    "x = (2*np.pi*n_medium/wavelen * radius).to('dimensionless').magnitude\n",
    "angles = np.linspace(0, 2*np.pi, 1000)\n",
    "form_factor_par, form_factor_perp = mie.calc_ang_dist(m, x, angles=angles)"
   ]
  },
  {
   "cell_type": "code",
   "execution_count": 35,
   "metadata": {
    "collapsed": false
   },
   "outputs": [
    {
     "data": {
      "text/plain": [
       "[<matplotlib.lines.Line2D at 0xd4353bdb00>]"
      ]
     },
     "execution_count": 35,
     "metadata": {},
     "output_type": "execute_result"
    },
    {
     "data": {
      "image/png": "[encoded data removed]",
      "text/plain": [
       "<matplotlib.figure.Figure at 0xd4353bdd30>"
      ]
     },
     "metadata": {},
     "output_type": "display_data"
    }
   ],
   "source": [
    "plt.semilogy(angles, form_factor_par)\n",
    "plt.plot(angles, form_factor_perp)"
   ]
  },
  {
   "cell_type": "markdown",
   "metadata": {},
   "source": [
    "## Structure module\n",
    "\n",
    "To use this module:"
   ]
  },
  {
   "cell_type": "code",
   "execution_count": 37,
   "metadata": {
    "collapsed": true
   },
   "outputs": [],
   "source": [
    "from structcol import structure"
   ]
  },
  {
   "cell_type": "markdown",
   "metadata": {},
   "source": [
    "Here is an example of calculating structure factors with the Percus-Yevick approximation. The code is fully vectorized, so we can calculate structure factors for a variety of qd values and volume fractions in parallel:"
   ]
  },
  {
   "cell_type": "code",
   "execution_count": 38,
   "metadata": {
    "collapsed": true
   },
   "outputs": [],
   "source": [
    "qd = np.arange(0.1, 20, 0.01)\n",
    "phi = np.array([0.15, 0.3, 0.45])\n",
    "# this little trick allows us to calculate the structure factor on a 2d\n",
    "# grid of points (turns qd into a column vector and phi into a row vector).\n",
    "# Could also use np.ogrid\n",
    "s = structure.factor_py(qd.reshape(-1,1), phi.reshape(1,-1))"
   ]
  },
  {
   "cell_type": "code",
   "execution_count": 55,
   "metadata": {
    "collapsed": false
   },
   "outputs": [
    {
     "data": {
      "text/plain": [
       "<matplotlib.text.Text at 0xd433d64320>"
      ]
     },
     "execution_count": 55,
     "metadata": {},
     "output_type": "execute_result"
    },
    {
     "data": {
      "image/png": "[encoded data removed]",
      "text/plain": [
       "<matplotlib.figure.Figure at 0xd433d4da58>"
      ]
     },
     "metadata": {},
     "output_type": "display_data"
    }
   ],
   "source": [
    "for i in range(len(phi)):\n",
    "    plt.plot(qd, s[:,i], label='$\\phi=$'+str(phi[i]))#, label='$phi='+phi[i]+'$')\n",
    "plt.legend()\n",
    "plt.xlabel('$qd$')\n",
    "plt.ylabel('$\\phi$')"
   ]
  },
  {
   "cell_type": "markdown",
   "metadata": {},
   "source": [
    "## Development\n",
    "\n",
    "Here are some tips for contributing code to the package:\n",
    "\n",
    "1. Make sure that your code works in Python 3. You should write `print(x)` instead of `print x`, and you should check that any imported package is compatible with Python 3.\n",
    "\n",
    "2. Wrap lines at 79 characters.  Use 4 spaces for each indent, and don't use tabs.\n",
    "\n",
    "3. Write docstrings for all modules, functions, and classes.  We use the [numpy docstring standards](https://github.com/numpy/numpy/blob/master/doc/HOWTO_DOCUMENT.rst.txt#documenting-modules).\n",
    "\n",
    "4. Write tests for any module you develop and for any changes or additions you make to existing modules.  We use the [nose testing framework](http://nose.readthedocs.io/en/latest/).  To run the tests, open a shell, go the to top-level directory (above the directory called \"structcol\"), and run `nosetests`.\n",
    "\n",
    "5. Follow the [PEP 8 style guide](https://www.python.org/dev/peps/pep-0008/) for naming functions, classes, and modules.\n",
    "\n",
    "6. If you contribute code to an existing file, add your name to the Copyright notice in the header.  Add another year if necessary (for example, if the notice says \"Copyright 2015, A. Name\" and the year is now 2016, amend the notice to read \"Copyright 2015, 2016, A. Name and Your Name\")\n",
    "\n",
    "7. If you contribute a new file, add the [GPL copyright notice](https://www.gnu.org/licenses/gpl-howto.en.html) to the header (see other files in the package for examples) and put your name and the current year in the Copyright notice. \n",
    "\n",
    "8. Keep all proprietary information and non-open-source code out of the package, and make sure to cite sources for any calculation methods or dispersion formulas."
   ]
  },
  {
   "cell_type": "code",
   "execution_count": null,
   "metadata": {
    "collapsed": true
   },
   "outputs": [],
   "source": []
  }
 ],
 "metadata": {
  "kernelspec": {
   "display_name": "Python 3",
   "language": "python",
   "name": "python3"
  },
  "language_info": {
   "codemirror_mode": {
    "name": "ipython",
    "version": 3
   },
   "file_extension": ".py",
   "mimetype": "text/x-python",
   "name": "python",
   "nbconvert_exporter": "python",
   "pygments_lexer": "ipython3",
   "version": "3.5.1"
  }
 },
 "nbformat": 4,
 "nbformat_minor": 0
}
