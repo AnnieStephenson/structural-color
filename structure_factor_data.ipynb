{
 "cells": [
  {
   "cell_type": "markdown",
   "metadata": {},
   "source": [
    "### Loading and using the package"
   ]
  },
  {
   "cell_type": "code",
   "execution_count": 1,
   "metadata": {
    "collapsed": true
   },
   "outputs": [],
   "source": [
    "import numpy as np\n",
    "import matplotlib.pyplot as plt\n",
    "import structcol as sc\n",
    "import structcol.refractive_index as ri\n",
    "from structcol import montecarlo as mc\n",
    "from structcol import detector as det\n",
    "from structcol import model\n",
    "from structcol import structure\n",
    "%matplotlib inline"
   ]
  },
  {
   "cell_type": "markdown",
   "metadata": {},
   "source": [
    "plot the structure factor data and interpolated function"
   ]
  },
  {
   "cell_type": "code",
   "execution_count": 2,
   "metadata": {
    "collapsed": false
   },
   "outputs": [],
   "source": [
    "data_path = 'structcol/silica-suspension_vs_model.txt'\n",
    "    \n",
    "[qd_data, s_data] = np.loadtxt(data_path)\n",
    "\n",
    "# scale so ends at 0\n",
    "s_data = s_data-s_data[-2]\n",
    "\n",
    "# scale so max is 1\n",
    "s_data = s_data*1/(np.max(s_data)-np.min(s_data))\n",
    "    \n",
    "# shift so ends at 1 and max is 2\n",
    "s_data = s_data + 1"
   ]
  },
  {
   "cell_type": "code",
   "execution_count": 3,
   "metadata": {
    "collapsed": false
   },
   "outputs": [
    {
     "data": {
      "text/plain": [
       "<matplotlib.text.Text at 0x7fa42df9b630>"
      ]
     },
     "execution_count": 3,
     "metadata": {},
     "output_type": "execute_result"
    },
    {
     "data": {
      "image/png": "[encoded data removed]",
      "text/plain": [
       "<matplotlib.figure.Figure at 0x7fa42df6f3c8>"
      ]
     },
     "metadata": {},
     "output_type": "display_data"
    }
   ],
   "source": [
    "qd = np.arange(1,70, 0.1)# works up to qd = 72\n",
    "s = structure.factor_data(qd, s_data, qd_data)\n",
    "\n",
    "plt.figure()\n",
    "plt.plot(qd, s, label = 'interpolated')\n",
    "plt.plot(qd_data, s_data,'.', label = 'data')\n",
    "plt.ylim([0,2])\n",
    "plt.legend()\n",
    "plt.xlabel('qd')\n",
    "plt.ylabel('structure factor')"
   ]
  },
  {
   "cell_type": "markdown",
   "metadata": {},
   "source": [
    "set parameters"
   ]
  },
  {
   "cell_type": "code",
   "execution_count": 4,
   "metadata": {
    "collapsed": false
   },
   "outputs": [],
   "source": [
    "ntrajectories = 2000                               # number of trajectories\n",
    "nevents = 200                                     # number of scattering events in each trajectory\n",
    "wavelengths = sc.Quantity(np.arange(400, 800, 20), 'nm') # wavelengths for scat calcs\n",
    "radius = sc.Quantity('0.5 um')                  # particle radius\n",
    "volume_fraction = sc.Quantity(0.5, '')            # volume fraction of particles\n",
    "n_particle = ri.n('fused silica', wavelengths)\n",
    "n_matrix = ri.n('vacuum', wavelengths)            # called from the refractive_index module. n_matrix is the \n",
    "n_medium = ri.n('vacuum', wavelengths)            # space within sample. n_medium is outside the sample. \n",
    "                                                  # n_particle and n_matrix can have complex indices if absorption is desired\n",
    "boundary = 'film'                       # geometry of sample, can be 'film' or 'sphere', see below for tutorial \n",
    "                                        # on sphere case\n",
    "thickness = sc.Quantity('50 um') # thickness of the sample film"
   ]
  },
  {
   "cell_type": "markdown",
   "metadata": {},
   "source": [
    "calculate reflectance"
   ]
  },
  {
   "cell_type": "code",
   "execution_count": 5,
   "metadata": {
    "collapsed": false
   },
   "outputs": [
    {
     "name": "stderr",
     "output_type": "stream",
     "text": [
      "/home/stephenson/Repositories/structural-color/structcol/detector.py:794: UserWarning:  \n",
      "58.0% of trajectories did not exit the sample. Increase Nevents to improve accuracy.\n",
      "  if stuck_frac >= 20: warnings.warn(stuck_traj_warn)\n",
      "/home/stephenson/Repositories/structural-color/structcol/detector.py:794: UserWarning:  \n",
      "56.55% of trajectories did not exit the sample. Increase Nevents to improve accuracy.\n",
      "  if stuck_frac >= 20: warnings.warn(stuck_traj_warn)\n",
      "/home/stephenson/Repositories/structural-color/structcol/detector.py:794: UserWarning:  \n",
      "58.95% of trajectories did not exit the sample. Increase Nevents to improve accuracy.\n",
      "  if stuck_frac >= 20: warnings.warn(stuck_traj_warn)\n",
      "/home/stephenson/Repositories/structural-color/structcol/detector.py:794: UserWarning:  \n",
      "53.4% of trajectories did not exit the sample. Increase Nevents to improve accuracy.\n",
      "  if stuck_frac >= 20: warnings.warn(stuck_traj_warn)\n",
      "/home/stephenson/Repositories/structural-color/structcol/detector.py:794: UserWarning:  \n",
      "54.7% of trajectories did not exit the sample. Increase Nevents to improve accuracy.\n",
      "  if stuck_frac >= 20: warnings.warn(stuck_traj_warn)\n",
      "/home/stephenson/Repositories/structural-color/structcol/detector.py:794: UserWarning:  \n",
      "55.7% of trajectories did not exit the sample. Increase Nevents to improve accuracy.\n",
      "  if stuck_frac >= 20: warnings.warn(stuck_traj_warn)\n",
      "/home/stephenson/Repositories/structural-color/structcol/detector.py:794: UserWarning:  \n",
      "52.85% of trajectories did not exit the sample. Increase Nevents to improve accuracy.\n",
      "  if stuck_frac >= 20: warnings.warn(stuck_traj_warn)\n",
      "/home/stephenson/Repositories/structural-color/structcol/detector.py:794: UserWarning:  \n",
      "53.35% of trajectories did not exit the sample. Increase Nevents to improve accuracy.\n",
      "  if stuck_frac >= 20: warnings.warn(stuck_traj_warn)\n",
      "/home/stephenson/Repositories/structural-color/structcol/detector.py:794: UserWarning:  \n",
      "51.4% of trajectories did not exit the sample. Increase Nevents to improve accuracy.\n",
      "  if stuck_frac >= 20: warnings.warn(stuck_traj_warn)\n",
      "/home/stephenson/Repositories/structural-color/structcol/detector.py:794: UserWarning:  \n",
      "51.0% of trajectories did not exit the sample. Increase Nevents to improve accuracy.\n",
      "  if stuck_frac >= 20: warnings.warn(stuck_traj_warn)\n",
      "/home/stephenson/Repositories/structural-color/structcol/detector.py:794: UserWarning:  \n",
      "50.0% of trajectories did not exit the sample. Increase Nevents to improve accuracy.\n",
      "  if stuck_frac >= 20: warnings.warn(stuck_traj_warn)\n",
      "/home/stephenson/Repositories/structural-color/structcol/detector.py:794: UserWarning:  \n",
      "50.15% of trajectories did not exit the sample. Increase Nevents to improve accuracy.\n",
      "  if stuck_frac >= 20: warnings.warn(stuck_traj_warn)\n",
      "/home/stephenson/Repositories/structural-color/structcol/detector.py:794: UserWarning:  \n",
      "46.35% of trajectories did not exit the sample. Increase Nevents to improve accuracy.\n",
      "  if stuck_frac >= 20: warnings.warn(stuck_traj_warn)\n",
      "/home/stephenson/Repositories/structural-color/structcol/detector.py:794: UserWarning:  \n",
      "48.1% of trajectories did not exit the sample. Increase Nevents to improve accuracy.\n",
      "  if stuck_frac >= 20: warnings.warn(stuck_traj_warn)\n",
      "/home/stephenson/Repositories/structural-color/structcol/detector.py:794: UserWarning:  \n",
      "46.3% of trajectories did not exit the sample. Increase Nevents to improve accuracy.\n",
      "  if stuck_frac >= 20: warnings.warn(stuck_traj_warn)\n",
      "/home/stephenson/Repositories/structural-color/structcol/detector.py:794: UserWarning:  \n",
      "47.65% of trajectories did not exit the sample. Increase Nevents to improve accuracy.\n",
      "  if stuck_frac >= 20: warnings.warn(stuck_traj_warn)\n",
      "/home/stephenson/Repositories/structural-color/structcol/detector.py:794: UserWarning:  \n",
      "45.5% of trajectories did not exit the sample. Increase Nevents to improve accuracy.\n",
      "  if stuck_frac >= 20: warnings.warn(stuck_traj_warn)\n",
      "/home/stephenson/Repositories/structural-color/structcol/detector.py:794: UserWarning:  \n",
      "44.8% of trajectories did not exit the sample. Increase Nevents to improve accuracy.\n",
      "  if stuck_frac >= 20: warnings.warn(stuck_traj_warn)\n",
      "/home/stephenson/Repositories/structural-color/structcol/detector.py:794: UserWarning:  \n",
      "45.3% of trajectories did not exit the sample. Increase Nevents to improve accuracy.\n",
      "  if stuck_frac >= 20: warnings.warn(stuck_traj_warn)\n",
      "/home/stephenson/Repositories/structural-color/structcol/detector.py:794: UserWarning:  \n",
      "42.2% of trajectories did not exit the sample. Increase Nevents to improve accuracy.\n",
      "  if stuck_frac >= 20: warnings.warn(stuck_traj_warn)\n"
     ]
    }
   ],
   "source": [
    "reflectance = np.zeros(wavelengths.size)\n",
    "for i in range(wavelengths.size):\n",
    "    \n",
    "    # calculate n_sample\n",
    "    n_sample = ri.n_eff(n_particle[i], n_matrix[i], volume_fraction)\n",
    "    \n",
    "    # Calculate the phase function and scattering and absorption coefficients from the single scattering model\n",
    "    p, mu_scat, mu_abs = mc.calc_scat(radius, n_particle[i], n_sample, volume_fraction, wavelengths[i], \n",
    "                                      structure_type = 'data',\n",
    "                                      structure_s_data = s_data,\n",
    "                                      structure_qd_data = qd_data)\n",
    "    \n",
    "    # Initialize the trajectories\n",
    "    r0, k0, W0 = mc.initialize(nevents, ntrajectories, n_medium[i], n_sample, boundary)\n",
    "    r0 = sc.Quantity(r0, 'um')\n",
    "    k0 = sc.Quantity(k0, '')\n",
    "    W0 = sc.Quantity(W0, '')\n",
    "    \n",
    "    # Generate a matrix of all the randomly sampled angles first \n",
    "    sintheta, costheta, sinphi, cosphi, _, _ = mc.sample_angles(nevents, ntrajectories, p)\n",
    "    \n",
    "    # Create step size distribution\n",
    "    step = mc.sample_step(nevents, ntrajectories, mu_abs, mu_scat)\n",
    "        \n",
    "    # Create trajectories object\n",
    "    trajectories = mc.Trajectory(r0, k0, W0)\n",
    "    \n",
    "    # Run photons\n",
    "    trajectories.absorb(mu_abs, step)                         \n",
    "    trajectories.scatter(sintheta, costheta, sinphi, cosphi)         \n",
    "    trajectories.move(step)\n",
    "    \n",
    "    reflectance[i], transmittance = det.calc_refl_trans(trajectories, thickness, n_medium[i], n_sample, boundary)"
   ]
  },
  {
   "cell_type": "markdown",
   "metadata": {},
   "source": [
    "plot"
   ]
  },
  {
   "cell_type": "code",
   "execution_count": 6,
   "metadata": {
    "collapsed": false
   },
   "outputs": [
    {
     "data": {
      "text/plain": [
       "<matplotlib.text.Text at 0x7fa41e82e128>"
      ]
     },
     "execution_count": 6,
     "metadata": {},
     "output_type": "execute_result"
    },
    {
     "data": {
      "image/png": "[encoded data removed]",
      "text/plain": [
       "<matplotlib.figure.Figure at 0x7fa41e88b630>"
      ]
     },
     "metadata": {},
     "output_type": "display_data"
    }
   ],
   "source": [
    "plt.figure()\n",
    "plt.plot(wavelengths, reflectance)\n",
    "plt.ylim([0,1])\n",
    "plt.ylabel('Reflectance')\n",
    "plt.xlabel('wavelength (nm)')"
   ]
  },
  {
   "cell_type": "code",
   "execution_count": null,
   "metadata": {
    "collapsed": true
   },
   "outputs": [],
   "source": []
  }
 ],
 "metadata": {
  "anaconda-cloud": {},
  "kernelspec": {
   "display_name": "Python [Root]",
   "language": "python",
   "name": "Python [Root]"
  },
  "language_info": {
   "codemirror_mode": {
    "name": "ipython",
    "version": 3
   },
   "file_extension": ".py",
   "mimetype": "text/x-python",
   "name": "python",
   "nbconvert_exporter": "python",
   "pygments_lexer": "ipython3",
   "version": "3.5.2"
  }
 },
 "nbformat": 4,
 "nbformat_minor": 0
}
