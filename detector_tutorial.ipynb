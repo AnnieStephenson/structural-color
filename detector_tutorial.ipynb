{
 "cells": [
  {
   "cell_type": "markdown",
   "metadata": {},
   "source": [
    "# Tutorial for using detectors in the structural-color package\n",
    "\n",
    "Copyright 2016, Vinothan N. Manoharan, Victoria Hwang, Annie Stephenson\n",
    "\n",
    "This file is part of the structural-color python package.\n",
    "\n",
    "This package is free software: you can redistribute it and/or modify it under the terms of the GNU General Public License as published by the Free Software Foundation, either version 3 of the License, or (at your option) any later version.\n",
    "\n",
    "This package is distributed in the hope that it will be useful, but WITHOUT ANY WARRANTY; without even the implied warranty of MERCHANTABILITY or FITNESS FOR A PARTICULAR PURPOSE. See the GNU General Public License for more details.\n",
    "\n",
    "You should have received a copy of the GNU General Public License along with this package. If not, see http://www.gnu.org/licenses/."
   ]
  },
  {
   "cell_type": "markdown",
   "metadata": {},
   "source": [
    "## Introduction to how detectors are implemented in the package\n",
    "\n",
    "#### Single scattering model\n",
    "TODO: add description and examples for detection in single scattering model\n",
    "\n",
    "#### Monte Carlo model\n",
    "In the Monte Carlo model, the detector first comes into play in calculating reflectance or transmittance using the calc_refl_trans() function. If no detector parameters are specified in the arguments of the function, the reflectance and transmittance returned are the reflectance integrated over the total reflection hemisphere and the transmittance integrated over the total transmittance hemisphere. \n",
    "\n",
    "There are two ways to change the type of detection used to calculate reflectance. At this time, the detectors aren't implemented for transmittance, but it is certainly possible to implement them in the future. The different detectors and how to use them are explained below. "
   ]
  },
  {
   "cell_type": "markdown",
   "metadata": {},
   "source": [
    "### Loading and using the package"
   ]
  },
  {
   "cell_type": "code",
   "execution_count": 2,
   "metadata": {
    "collapsed": true
   },
   "outputs": [],
   "source": [
    "import numpy as np\n",
    "import matplotlib.pyplot as plt\n",
    "import structcol as sc\n",
    "from structcol import refractive_index as ri\n",
    "from structcol import montecarlo as mc\n",
    "from structcol import detector as det\n",
    "import pymie as pm\n",
    "from pymie import size_parameter, index_ratio \n",
    "import time\n",
    "\n",
    "# For Jupyter notebooks only:\n",
    "%matplotlib inline"
   ]
  },
  {
   "cell_type": "markdown",
   "metadata": {},
   "source": [
    "### Run Monte Carlo trajectories\n",
    "#### for a single wavelength"
   ]
  },
  {
   "cell_type": "markdown",
   "metadata": {},
   "source": [
    "set system parameters"
   ]
  },
  {
   "cell_type": "code",
   "execution_count": 3,
   "metadata": {
    "collapsed": true
   },
   "outputs": [],
   "source": [
    "# incident light wavelength\n",
    "wavelength = sc.Quantity('600 nm')\n",
    "\n",
    "# sample parameters\n",
    "radius = sc.Quantity('0.140 um')\n",
    "volume_fraction = sc.Quantity(0.55, '')\n",
    "n_imag = 2.1e-4*1j\n",
    "n_particle = ri.n('polystyrene', wavelength) + n_imag    # refractive indices can be specified as pint quantities or\n",
    "n_matrix = ri.n('vacuum', wavelength)      # called from the refractive_index module. n_matrix is the \n",
    "n_medium = ri.n('vacuum', wavelength)      # space within sample. n_medium is outside the sample\n",
    "n_sample = ri.n_eff(n_particle,         # refractive index of sample, calculated using Bruggeman approximation\n",
    "                    n_matrix, \n",
    "                    volume_fraction)\n",
    "thickness = sc.Quantity('80 um')\n",
    "boundary = 'film'\n",
    "\n",
    "# Monte Carlo parameters\n",
    "ntrajectories = 300                   # number of trajectories\n",
    "nevents = 200                         # number of scattering events in each trajectory"
   ]
  },
  {
   "cell_type": "markdown",
   "metadata": {},
   "source": [
    "initialize and run trajectories"
   ]
  },
  {
   "cell_type": "code",
   "execution_count": 4,
   "metadata": {
    "collapsed": false
   },
   "outputs": [],
   "source": [
    "# Calculate the phase function and scattering and absorption coefficients from the single scattering model\n",
    "p, mu_scat, mu_abs = mc.calc_scat(radius, n_particle, n_sample, volume_fraction, wavelength)\n",
    "\n",
    "# Initialize the trajectories\n",
    "r0, k0, W0 = mc.initialize(nevents, ntrajectories, n_medium, n_sample, boundary)\n",
    "r0 = sc.Quantity(r0, 'um')\n",
    "k0 = sc.Quantity(k0, '')\n",
    "W0 = sc.Quantity(W0, '')\n",
    "\n",
    "# Generate a matrix of all the randomly sampled angles first \n",
    "sintheta, costheta, sinphi, cosphi, _, _ = mc.sample_angles(nevents, ntrajectories, p)\n",
    "\n",
    "# Create step size distribution\n",
    "step = mc.sample_step(nevents, ntrajectories, mu_scat)\n",
    "    \n",
    "# Create trajectories object\n",
    "trajectories = mc.Trajectory(r0, k0, W0)\n",
    "\n",
    "# Run photons\n",
    "trajectories.absorb(mu_abs, step)                         \n",
    "trajectories.scatter(sintheta, costheta, sinphi, cosphi)         \n",
    "trajectories.move(step)"
   ]
  },
  {
   "cell_type": "markdown",
   "metadata": {},
   "source": [
    "### Calculate reflectance with default detector\n",
    "This calculates the reflectance for the full reflection hemisphere"
   ]
  },
  {
   "cell_type": "code",
   "execution_count": 5,
   "metadata": {
    "collapsed": false
   },
   "outputs": [
    {
     "name": "stdout",
     "output_type": "stream",
     "text": [
      "Reflectance = 0.4150303155\n"
     ]
    }
   ],
   "source": [
    "# Calculate reflectance\n",
    "reflectance, _ = det.calc_refl_trans(trajectories, thickness, n_medium, n_sample, boundary)\n",
    "\n",
    "print('Reflectance = '+ str(reflectance))"
   ]
  },
  {
   "cell_type": "markdown",
   "metadata": {},
   "source": [
    "### Calculate reflectance with large aperture detector\n",
    "This detects only the trajectories that exit at an angle less than or equal to a specified detection angle.\n",
    "\n",
    "To use this detector, you must specify an extra parameter in the calc_refl_trans() function:\n",
    "\n",
    "##### detection_angle [structural color Quantity, angle]\n",
    "This is the maximum angle that is detected. It is defined relative to the vector normal to surface of the sample. For example, a detection angle of 0 degrees corresponds to no angles detected,\n",
    "and a detection angle of 90 degrees corresponds to the full reflection hemisphere.\n"
   ]
  },
  {
   "cell_type": "code",
   "execution_count": 6,
   "metadata": {
    "collapsed": false
   },
   "outputs": [
    {
     "name": "stdout",
     "output_type": "stream",
     "text": [
      "Reflectance = 0.407186999497\n"
     ]
    }
   ],
   "source": [
    "# Set detector parameter\n",
    "detection_angle = sc.Quantity('80 degrees')\n",
    "\n",
    "# Calculate reflectance\n",
    "reflectance, _ = det.calc_refl_trans(trajectories, thickness, n_medium, n_sample, boundary,\n",
    "                                                detection_angle = detection_angle)\n",
    "\n",
    "print('Reflectance = '+ str(reflectance))"
   ]
  },
  {
   "cell_type": "markdown",
   "metadata": {},
   "source": [
    "### Calculate reflectance with goniometer detector\n",
    "This detects only the trajectories that exit into a detector aperture with a specified size and position. The detector is modeled after a goniometer detector, which is on an arm of fixed length that can rotate around the sample in the center. \n",
    "\n",
    "To use this detector, you must specify 4 (optionally 5) parameters to be passed into calc_refl_trans().\n",
    "1. detector [boolean]\n",
    "<br>\n",
    "This must be set to True.\n",
    "<br>\n",
    "<br>\n",
    "2. det_theta [structural color Quantity, angle]\n",
    "<br>\n",
    "This is the angle that the detector is centered at. The angle is defined relative to the vector normal to the surface of the sample. For example a det_theta of 0 degrees would correspond to a detector normal to the sample, and a det_theta of 90 degrees would correspond to a detector at the side of the sample. \n",
    "<br>\n",
    "<br>\n",
    "3. det_len [structural color Quantity, length]\n",
    "<br>\n",
    "This is the side length of the detector, assuming a square detector\n",
    "<br>\n",
    "<br>\n",
    "4. det_dist [structural color Quantity, length]\n",
    "<br>\n",
    "This is the distance between the center of the detector detector and the center of the sample surface.\n",
    "<br>\n",
    "<br>\n",
    "5. plot_detector [boolean, optional]\n",
    "<br>\n",
    "This can be set to True to plot the exit positions of the trajectories in the detection hemisphere, with detected trajectories encirled in an orange ring. \n",
    "<br>\n",
    "<br>"
   ]
  },
  {
   "cell_type": "code",
   "execution_count": 7,
   "metadata": {
    "collapsed": false
   },
   "outputs": [
    {
     "name": "stdout",
     "output_type": "stream",
     "text": [
      "Reflectance = 0.0137436177128\n"
     ]
    },
    {
     "data": {
      "image/png": "[encoded data removed]",
      "text/plain": [
       "<matplotlib.figure.Figure at 0x11297d9b0>"
      ]
     },
     "metadata": {},
     "output_type": "display_data"
    }
   ],
   "source": [
    "# Set detector parameters\n",
    "detector = True\n",
    "det_theta = sc.Quantity('45 degrees')\n",
    "det_len = sc.Quantity('5 cm')\n",
    "det_dist = sc.Quantity('10 cm')\n",
    "plot_detector = True\n",
    "\n",
    "# Calculate reflectance\n",
    "reflectance, _ = det.calc_refl_trans(trajectories, thickness, n_medium, n_sample, boundary,\n",
    "                                    detector = detector,\n",
    "                                    det_theta = det_theta,\n",
    "                                    det_len = det_len,\n",
    "                                    det_dist = det_dist,\n",
    "                                    plot_detector = plot_detector)\n",
    "\n",
    "print('Reflectance = '+ str(reflectance))"
   ]
  },
  {
   "cell_type": "markdown",
   "metadata": {
    "collapsed": true
   },
   "source": [
    "### Renormalizing goniometer detector results\n",
    "\n",
    "Because detection in a small angle range can lead to very small reflectances, it can be useful to normalize to the reflectance of a lambertian reflector for the given angle detector range, rather than to the total beam intensity. This will lead to results that can more easily be converted to a color for visualization. \n",
    "\n",
    "This normalization scheme makes several key assumptions:\n",
    "1. The area of the detection hemisphere spanned by the detector aperture is\n",
    "   a square. As the detector size approaches the diameter of the detection\n",
    "   hemisphere, this assumption becomes worse. In reality, the detection hemisphere\n",
    "   area spanned by the detector is the projection of a square on the sphere\n",
    "   surface, which looks like a curved square patch.\n",
    "2. The reference reflector (maximum reflectance) is that of a lambertian\n",
    "   reflector, meaning the reflectance is uniform over the detection hemisphere\n",
    "   and that the integrated reflected intensity is equal to the intensity \n",
    "   of the incident beam. This means that if the sample has a specular \n",
    "   component, the reflectance could be greater than one for the specular angle.\n",
    "        \n",
    "The normalization formula is:\n",
    "\n",
    "refl_renormlized = $\\frac{\\textsf{area of detection hemisphere}}{\\textsf{(area detected) * reflectance}}$  \n",
    "\n",
    "We are just scaling up the reflectance based on the area detected relative to the total possible area that can be detected.      "
   ]
  },
  {
   "cell_type": "code",
   "execution_count": 9,
   "metadata": {
    "collapsed": false
   },
   "outputs": [
    {
     "name": "stdout",
     "output_type": "stream",
     "text": [
      "Renormalized Reflectance: 0.34541478752329463 dimensionless\n"
     ]
    }
   ],
   "source": [
    "refl_renorm = det.normalize_refl_goniometer(reflectance, det_dist, det_len)\n",
    "\n",
    "print('Renormalized Reflectance: ' + str(refl_renorm))"
   ]
  }
 ],
 "metadata": {
  "anaconda-cloud": {},
  "kernelspec": {
   "display_name": "Python [py35]",
   "language": "python",
   "name": "Python [py35]"
  },
  "language_info": {
   "codemirror_mode": {
    "name": "ipython",
    "version": 3
   },
   "file_extension": ".py",
   "mimetype": "text/x-python",
   "name": "python",
   "nbconvert_exporter": "python",
   "pygments_lexer": "ipython3",
   "version": "3.5.3"
  }
 },
 "nbformat": 4,
 "nbformat_minor": 0
}
