{
 "cells": [
  {
   "cell_type": "markdown",
   "metadata": {},
   "source": [
    "# Tutorial for color mixing with bulk Monte Carlo simulations in the structural-color package\n",
    "\n",
    "Copyright 2016, Vinothan N. Manoharan, Victoria Hwang, Annie Stephenson\n",
    "\n",
    "This file is part of the structural-color python package.\n",
    "\n",
    "This package is free software: you can redistribute it and/or modify it under the terms of the GNU General Public License as published by the Free Software Foundation, either version 3 of the License, or (at your option) any later version.\n",
    "\n",
    "This package is distributed in the hope that it will be useful, but WITHOUT ANY WARRANTY; without even the implied warranty of MERCHANTABILITY or FITNESS FOR A PARTICULAR PURPOSE. See the GNU General Public License for more details.\n",
    "\n",
    "You should have received a copy of the GNU General Public License along with this package. If not, see http://www.gnu.org/licenses/."
   ]
  },
  {
   "cell_type": "markdown",
   "metadata": {},
   "source": [
    "## Introduction to color mixing with bulk Monte Carlo simulations\n",
    "\n",
    "One of the advantages of the bulk montecarlo model is that we can sample phase functions and scattering lengths for spheres that contain different particle assemblies. This means we can simulate the reflectance of bulk films made of mixtures of spheres with different colors, allowing us to simulate color mixing using the bulk Monte Carlo model. \n",
    "\n",
    "\n",
    "Below is an example that calculates a reflectance spectrum from a bulk film made of a mixture of two types of spheres of different colors. "
   ]
  },
  {
   "cell_type": "markdown",
   "metadata": {},
   "source": [
    "## Loading and using the package and module\n",
    "\n",
    "You'll need the following imports"
   ]
  },
  {
   "cell_type": "code",
   "execution_count": 1,
   "metadata": {
    "collapsed": false
   },
   "outputs": [],
   "source": [
    "%matplotlib inline\n",
    "import numpy as np\n",
    "import time\n",
    "import structcol as sc\n",
    "import structcol.refractive_index as ri\n",
    "from structcol import montecarlo as mc\n",
    "from structcol import detector as det\n",
    "from structcol import phase_func_sphere as pfs\n",
    "import matplotlib.pyplot as plt\n",
    "import seaborn as sns\n",
    "from scipy.misc import factorial\n",
    "import os"
   ]
  },
  {
   "cell_type": "markdown",
   "metadata": {},
   "source": [
    "## Start by running Monte Carlo code for a single sphere\n",
    "This is essentially the same as running MC for a sphere as described in montecarlo_tutorial.ipynb, only we return a few extra parameters from calc_refl_trans() and use them to calculate the phase function, scattering coefficient, and absorption coefficient for the bulk Monte Carlo simulation.\n",
    "\n",
    "#### Set parameters\n",
    "We have to set a few extra parameters for the bulk simulation"
   ]
  },
  {
   "cell_type": "code",
   "execution_count": 3,
   "metadata": {
    "collapsed": false
   },
   "outputs": [],
   "source": [
    "# Properties of the source\n",
    "wavelengths = sc.Quantity(np.arange(400., 801.,10),'nm') # wavelengths at which to calculate reflectance\n",
    "\n",
    "# Geometric properties of the sample\n",
    "particle_radii = sc.Quantity([130, 160],'nm')     # radii of the two species of particles\n",
    "volume_fraction_bulk = sc.Quantity(0.63,'')       # volume fraction of the spheres in the bulk film\n",
    "volume_fraction_particles = sc.Quantity(0.55, '') # volume fraction of the particles in the sphere boundary\n",
    "sphere_boundary_diameter = sc.Quantity('10 um')   # diameter of sphere boundary in bulk film\n",
    "bulk_thickness = sc.Quantity('50 um')             # thickness of the bulk film\n",
    "boundary = 'sphere'                              # geometry of sample\n",
    "boundary_bulk = 'film'                           # geometry of the bulk sample\n",
    "\n",
    "# Refractive indices\n",
    "n_particle = ri.n('vacuum', wavelengths)    # refractive index of particle\n",
    "n_matrix = ri.n('polystyrene', wavelengths) + 2e-5*1j # refractive index of matrix\n",
    "n_matrix_bulk = ri.n('vacuum', wavelengths) # refractive index of the bulk matrix\n",
    "n_medium = ri.n('vacuum', wavelengths)      # refractive index of medium outside the bulk sample.\n",
    "\n",
    "# Monte Carlo parameters\n",
    "ntrajectories = 2000         # number of trajectories to run with a spherical boundary\n",
    "nevents = 300                # number of scattering events for each trajectory in a spherical boundary\n",
    "ntrajectories_bulk = 2000    # number of trajectories to run in the bulk film\n",
    "nevents_bulk = 300           # number of events to run in the bulk film\n",
    "\n",
    "# Properties that should not need to be changed\n",
    "z_low = sc.Quantity('0.0 um') # sets trajectories starting point\n",
    "sns.set_style('white')        # sets white plotting background"
   ]
  },
  {
   "cell_type": "markdown",
   "metadata": {},
   "source": [
    "### Run Monte Carlo for the two colors of spheres\n",
    "\n",
    "Run Monte Carlo simulations for a sphere boundary, for the two colors of spheres. This will give two sets of scattering parameters for each wavelength. "
   ]
  },
  {
   "cell_type": "code",
   "execution_count": 4,
   "metadata": {
    "collapsed": false
   },
   "outputs": [
    {
     "name": "stdout",
     "output_type": "stream",
     "text": [
      "particle radius: 130 nanometer\n"
     ]
    },
    {
     "name": "stderr",
     "output_type": "stream",
     "text": [
      "/home/stephenson/anaconda3/lib/python3.5/site-packages/Pint-0.7.2-py3.5.egg/pint/quantity.py:715: RuntimeWarning: divide by zero encountered in long_scalars\n"
     ]
    },
    {
     "name": "stdout",
     "output_type": "stream",
     "text": [
      "particle radius: 160 nanometer\n"
     ]
    }
   ],
   "source": [
    "p_bulk = np.zeros((particle_radii.size, wavelengths.size, 200))\n",
    "reflectance_sphere = np.zeros(wavelengths.size)\n",
    "mu_scat_bulk = sc.Quantity(np.zeros((particle_radii.size, wavelengths.size)),'1/um')\n",
    "mu_abs_bulk = sc.Quantity(np.zeros((particle_radii.size, wavelengths.size)),'1/um')\n",
    "\n",
    "for j in range(particle_radii.size):\n",
    "    # print radius to keep track of where we are in calculation\n",
    "    print('particle radius: ' + str(particle_radii[j]))\n",
    "    for i in range(wavelengths.size):\n",
    "\n",
    "        # caculate the effective index of the sample\n",
    "        n_sample = ri.n_eff(n_particle[i], n_matrix[i], volume_fraction_particles)\n",
    "\n",
    "        # Calculate the phase function and scattering and absorption coefficients from the single scattering model\n",
    "        # (this absorption coefficient is of the scatterer, not of an absorber added to the system)\n",
    "        p, mu_scat, mu_abs = mc.calc_scat(particle_radii[j], n_particle[i], n_sample,\n",
    "                                          volume_fraction_particles, wavelengths[i])\n",
    "\n",
    "        # Initialize the trajectories\n",
    "        r0, k0, W0 = mc.initialize(nevents, ntrajectories, n_matrix_bulk[i], n_sample, \n",
    "                                   boundary, sample_diameter = sphere_boundary_diameter)\n",
    "        r0 = sc.Quantity(r0, 'um')\n",
    "        k0 = sc.Quantity(k0, '')\n",
    "        W0 = sc.Quantity(W0, '')\n",
    "\n",
    "        # Create trajectories object\n",
    "        trajectories = mc.Trajectory(r0, k0, W0)\n",
    "\n",
    "        # Generate a matrix of all the randomly sampled angles first \n",
    "        sintheta, costheta, sinphi, cosphi, _, _ = mc.sample_angles(nevents, ntrajectories, p)\n",
    "\n",
    "        # Create step size distribution\n",
    "        step = mc.sample_step(nevents, ntrajectories, mu_scat)\n",
    "\n",
    "        # Run photons\n",
    "        trajectories.absorb(mu_abs, step)                         \n",
    "        trajectories.scatter(sintheta, costheta, sinphi, cosphi)         \n",
    "        trajectories.move(step)\n",
    "        \n",
    "        # Calculate reflection and transmition \n",
    "        (refl_indices, \n",
    "         trans_indices, \n",
    "         _, _, _, \n",
    "         refl_per_traj, trans_per_traj,\n",
    "         _,_,_,_,\n",
    "         reflectance_sphere[i], \n",
    "         _,_, norm_refl, norm_trans) = det.calc_refl_trans(trajectories, sphere_boundary_diameter,\n",
    "                                  n_matrix_bulk[i], n_sample, boundary,  \n",
    "                                  run_fresnel_traj = False, \n",
    "                                  return_extra = True)\n",
    "        \n",
    "        ### Calculate phase function and lscat ###\n",
    "        # use output of calc_refl_trans to calculate phase function, mu_scat, and mu_abs for the bulk\n",
    "        p_bulk[j,i,:], mu_scat_bulk[j,i], mu_abs_bulk[j,i] = pfs.calc_scat_bulk(refl_per_traj, trans_per_traj, \n",
    "                                                                         trans_indices, \n",
    "                                                                         norm_refl, norm_trans, \n",
    "                                                                         volume_fraction_bulk, \n",
    "                                                                         sphere_boundary_diameter,\n",
    "                                                                         plot=False, phi_dependent=False)"
   ]
  },
  {
   "cell_type": "markdown",
   "metadata": {},
   "source": [
    "### Sample distribution of particle radii\n",
    "\n",
    "Given the fraction (probability distribution) of each color of sphere in the mixture, sample the particle radii for each event and trajectory. The marginalized distribution should be the same as the the given probability distribution of the sphere sizes."
   ]
  },
  {
   "cell_type": "code",
   "execution_count": 5,
   "metadata": {
    "collapsed": false
   },
   "outputs": [
    {
     "data": {
      "text/plain": [
       "<matplotlib.text.Text at 0x7f1de4802f28>"
      ]
     },
     "execution_count": 5,
     "metadata": {},
     "output_type": "execute_result"
    },
    {
     "data": {
      "image/png": "[encoded data removed]",
      "text/plain": [
       "<matplotlib.figure.Figure at 0x7f1de4820a20>"
      ]
     },
     "metadata": {},
     "output_type": "display_data"
    }
   ],
   "source": [
    "# sample\n",
    "prob = np.array([0.5,0.5]) # fraction of each sphere color type\n",
    "particle_rads_sampled = pfs.sample_concentration(prob, particle_radii, ntrajectories_bulk, nevents_bulk)\n",
    "\n",
    "# plot\n",
    "sns.distplot(np.ndarray.flatten(particle_rads_sampled), kde = False)\n",
    "plt.ylabel('number sampled')\n",
    "plt.xlabel('radius (' + str(particle_radii.units) + ')')"
   ]
  },
  {
   "cell_type": "markdown",
   "metadata": {},
   "source": [
    "### Calculate reflectance of bulk film with spheres of two different colors\n",
    "\n",
    "The only difference from a normal bulk reflectance calculation (see bulk_montecarlo_tutorial.ipynb) is that we use the function pfs.sample_angles_step_poly() instead of sample_angles() and sample_step()\n",
    "\n",
    "Note that absorption currently does not work in the bulk for mixtures of different sphere types"
   ]
  },
  {
   "cell_type": "code",
   "execution_count": 6,
   "metadata": {
    "collapsed": false
   },
   "outputs": [
    {
     "name": "stdout",
     "output_type": "stream",
     "text": [
      "wavelength: 400.0 nanometer\n",
      "wavelength: 410.0 nanometer\n",
      "wavelength: 420.0 nanometer\n",
      "wavelength: 430.0 nanometer\n",
      "wavelength: 440.0 nanometer\n",
      "wavelength: 450.0 nanometer\n",
      "wavelength: 460.0 nanometer\n",
      "wavelength: 470.0 nanometer\n",
      "wavelength: 480.0 nanometer\n",
      "wavelength: 490.0 nanometer\n",
      "wavelength: 500.0 nanometer\n",
      "wavelength: 510.0 nanometer\n",
      "wavelength: 520.0 nanometer\n",
      "wavelength: 530.0 nanometer\n",
      "wavelength: 540.0 nanometer\n",
      "wavelength: 550.0 nanometer\n",
      "wavelength: 560.0 nanometer\n",
      "wavelength: 570.0 nanometer\n",
      "wavelength: 580.0 nanometer\n",
      "wavelength: 590.0 nanometer\n",
      "wavelength: 600.0 nanometer\n",
      "wavelength: 610.0 nanometer\n",
      "wavelength: 620.0 nanometer\n",
      "wavelength: 630.0 nanometer\n",
      "wavelength: 640.0 nanometer\n",
      "wavelength: 650.0 nanometer\n",
      "wavelength: 660.0 nanometer\n",
      "wavelength: 670.0 nanometer\n",
      "wavelength: 680.0 nanometer\n",
      "wavelength: 690.0 nanometer\n",
      "wavelength: 700.0 nanometer\n",
      "wavelength: 710.0 nanometer\n",
      "wavelength: 720.0 nanometer\n",
      "wavelength: 730.0 nanometer\n",
      "wavelength: 740.0 nanometer\n",
      "wavelength: 750.0 nanometer\n",
      "wavelength: 760.0 nanometer\n",
      "wavelength: 770.0 nanometer\n",
      "wavelength: 780.0 nanometer\n",
      "wavelength: 790.0 nanometer\n",
      "wavelength: 800.0 nanometer\n"
     ]
    }
   ],
   "source": [
    "reflectance_bulk_mix = np.zeros(wavelengths.size)\n",
    "\n",
    "for i in range(wavelengths.size):\n",
    "    \n",
    "    # print the wavelength keep track of where we are in calculation \n",
    "    print('wavelength: ' + str(wavelengths[i]))\n",
    "\n",
    "    # Initialize the trajectories\n",
    "    r0, k0, W0 = mc.initialize(nevents_bulk, ntrajectories_bulk, n_medium[i], n_matrix_bulk[i], boundary_bulk)\n",
    "    r0 = sc.Quantity(r0, 'um')\n",
    "    W0 = sc.Quantity(W0, '')\n",
    "    k0 = sc.Quantity(k0, '')\n",
    "    \n",
    "    # Sample angles and calculate step size based on sampled radii\n",
    "    (sintheta, costheta, sinphi, cosphi, \n",
    "    step, _, _) = pfs.sample_angles_step_poly(nevents_bulk, ntrajectories_bulk,\n",
    "                                                            p_bulk[:,i,:], \n",
    "                                                            particle_rads_sampled, \n",
    "                                                            particle_radii, \n",
    "                                                            mu_scat_bulk[:,i])\n",
    "    \n",
    "\n",
    "    # Create trajectories object\n",
    "    trajectories = mc.Trajectory(r0, k0, W0)\n",
    "\n",
    "    # Run photons\n",
    "    #trajectories.absorb(mu_abs_rad_samp, step) Note: color mix absorption does not currently work in the bulk                        \n",
    "    trajectories.scatter(sintheta, costheta, sinphi, cosphi)         \n",
    "    trajectories.move(step)\n",
    "\n",
    "    # calculate reflectance\n",
    "    reflectance_bulk_mix[i], transmittance = det.calc_refl_trans(trajectories, bulk_thickness,\n",
    "                                                               n_medium[i], n_matrix_bulk[i], boundary_bulk)"
   ]
  },
  {
   "cell_type": "code",
   "execution_count": 7,
   "metadata": {
    "collapsed": false
   },
   "outputs": [
    {
     "data": {
      "text/plain": [
       "<matplotlib.text.Text at 0x7f1de41f9898>"
      ]
     },
     "execution_count": 7,
     "metadata": {},
     "output_type": "execute_result"
    },
    {
     "data": {
      "image/png": "[encoded data removed]",
      "text/plain": [
       "<matplotlib.figure.Figure at 0x7f1de4227eb8>"
      ]
     },
     "metadata": {},
     "output_type": "display_data"
    }
   ],
   "source": [
    "plt.figure()\n",
    "plt.plot(wavelengths, reflectance_bulk_mix, linewidth = 3)\n",
    "plt.ylim([0,1])\n",
    "plt.xlim([400,800])\n",
    "plt.xlabel('Wavelength (nm)')\n",
    "plt.ylabel('Reflectance')\n",
    "plt.title('Bulk Reflectance')"
   ]
  },
  {
   "cell_type": "code",
   "execution_count": null,
   "metadata": {
    "collapsed": true
   },
   "outputs": [],
   "source": []
  }
 ],
 "metadata": {
  "anaconda-cloud": {},
  "kernelspec": {
   "display_name": "Python [Root]",
   "language": "python",
   "name": "Python [Root]"
  },
  "language_info": {
   "codemirror_mode": {
    "name": "ipython",
    "version": 3
   },
   "file_extension": ".py",
   "mimetype": "text/x-python",
   "name": "python",
   "nbconvert_exporter": "python",
   "pygments_lexer": "ipython3",
   "version": "3.5.2"
  }
 },
 "nbformat": 4,
 "nbformat_minor": 0
}
